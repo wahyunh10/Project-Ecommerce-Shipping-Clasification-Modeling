{
  "nbformat": 4,
  "nbformat_minor": 0,
  "metadata": {
    "colab": {
      "name": "Stage_3_Project.ipynb",
      "provenance": [],
      "authorship_tag": "ABX9TyNO/num20fXyjQbHftwBUPs",
      "include_colab_link": true
    },
    "kernelspec": {
      "name": "python3",
      "display_name": "Python 3"
    },
    "language_info": {
      "name": "python"
    }
  },
  "cells": [
    {
      "cell_type": "markdown",
      "metadata": {
        "id": "view-in-github",
        "colab_type": "text"
      },
      "source": [
        "<a href=\"https://colab.research.google.com/github/wahyunh10/Project-Ecommerce-Shipping-Clasification-Modeling/blob/main/Stage_3_Project.ipynb\" target=\"_parent\"><img src=\"https://colab.research.google.com/assets/colab-badge.svg\" alt=\"Open In Colab\"/></a>"
      ]
    },
    {
      "cell_type": "code",
      "execution_count": null,
      "metadata": {
        "id": "tyOVWhtLiJ8_"
      },
      "outputs": [],
      "source": [
        "import numpy as np\n",
        "import pandas as pd\n",
        "import matplotlib.pyplot as plt\n",
        "import seaborn as sns\n",
        "from sklearn.preprocessing import MinMaxScaler, StandardScaler\n",
        "from scipy import stats"
      ]
    },
    {
      "cell_type": "code",
      "source": [
        "df = pd.read_csv('Full_data.csv')"
      ],
      "metadata": {
        "id": "BvUvXKLyqDfW"
      },
      "execution_count": null,
      "outputs": []
    },
    {
      "cell_type": "code",
      "source": [
        "\n",
        "nums = ['Customer_care_calls', 'Customer_rating', 'Prior_purchases', 'Discount_offered', 'Cost_of_the_Product', 'Weight_in_gms', 'Reached.on.Time_Y.N']\n",
        "cats = ['Mode_of_Shipment', 'Product_importance', 'Gender','Warehouse_block']"
      ],
      "metadata": {
        "id": "VcQ2aW67qJkL"
      },
      "execution_count": null,
      "outputs": []
    },
    {
      "cell_type": "code",
      "source": [
        "df2 = df.copy()\n",
        "print(f'Jumlah baris sebelum memfilter outlier: {len(df2)}')\n",
        "\n",
        "filtered_entries1 = np.array([True] * len(df2))\n",
        "\n",
        "for col in nums:\n",
        "    zscore = abs(stats.zscore(df2[col])) # hitung absolute z-scorenya\n",
        "    filtered_entries1 = (zscore < 3) & filtered_entries1 # keep yang kurang dari 3 absolute z-scorenya\n",
        "    \n",
        "df2 = df2[filtered_entries1] # filter, cuma ambil yang z-scorenya dibawah 3\n",
        "\n",
        "print(f'Jumlah baris setelah memfilter outlier: {len(df2)}')"
      ],
      "metadata": {
        "colab": {
          "base_uri": "https://localhost:8080/"
        },
        "id": "zhbu6zspqNZL",
        "outputId": "8a909cbc-cd7e-4050-e732-f06822d23634"
      },
      "execution_count": null,
      "outputs": [
        {
          "output_type": "stream",
          "name": "stdout",
          "text": [
            "Jumlah baris sebelum memfilter outlier: 10999\n",
            "Jumlah baris setelah memfilter outlier: 10642\n"
          ]
        }
      ]
    },
    {
      "cell_type": "code",
      "source": [
        "df2['Customer_rating'] = MinMaxScaler().fit_transform(df2['Customer_rating'].values.reshape(len(df2), 1))\n",
        "\n",
        "#Standarisasi :\n",
        "df2['Customer_care_calls'] = StandardScaler().fit_transform(df2['Customer_care_calls'].values.reshape(len(df2), 1))\n",
        "df2['Cost_of_the_Product'] = StandardScaler().fit_transform(df2['Cost_of_the_Product'].values.reshape(len(df2), 1))\n",
        "df2['Prior_purchases'] = StandardScaler().fit_transform(df2['Prior_purchases'].values.reshape(len(df2), 1))\n",
        "df2['Discount_offered'] = StandardScaler().fit_transform(df2['Discount_offered'].values.reshape(len(df2), 1))\n",
        "df2['Weight_in_gms'] = StandardScaler().fit_transform(df2['Weight_in_gms'].values.reshape(len(df2), 1))"
      ],
      "metadata": {
        "id": "FJWcr8Q4qXZK"
      },
      "execution_count": null,
      "outputs": []
    },
    {
      "cell_type": "code",
      "source": [
        "df2.info()"
      ],
      "metadata": {
        "colab": {
          "base_uri": "https://localhost:8080/"
        },
        "id": "SEz2OW1bqYwd",
        "outputId": "c62946c8-3880-4fc8-863c-6742ba5740e7"
      },
      "execution_count": null,
      "outputs": [
        {
          "output_type": "stream",
          "name": "stdout",
          "text": [
            "<class 'pandas.core.frame.DataFrame'>\n",
            "Int64Index: 10642 entries, 0 to 10998\n",
            "Data columns (total 12 columns):\n",
            " #   Column               Non-Null Count  Dtype  \n",
            "---  ------               --------------  -----  \n",
            " 0   ID                   10642 non-null  int64  \n",
            " 1   Warehouse_block      10642 non-null  object \n",
            " 2   Mode_of_Shipment     10642 non-null  object \n",
            " 3   Customer_care_calls  10642 non-null  float64\n",
            " 4   Customer_rating      10642 non-null  float64\n",
            " 5   Cost_of_the_Product  10642 non-null  float64\n",
            " 6   Prior_purchases      10642 non-null  float64\n",
            " 7   Product_importance   10642 non-null  object \n",
            " 8   Gender               10642 non-null  object \n",
            " 9   Discount_offered     10642 non-null  float64\n",
            " 10  Weight_in_gms        10642 non-null  float64\n",
            " 11  Reached.on.Time_Y.N  10642 non-null  int64  \n",
            "dtypes: float64(6), int64(2), object(4)\n",
            "memory usage: 1.1+ MB\n"
          ]
        }
      ]
    },
    {
      "cell_type": "code",
      "source": [
        "df2.describe()"
      ],
      "metadata": {
        "colab": {
          "base_uri": "https://localhost:8080/",
          "height": 364
        },
        "id": "fMHO7vMOqb0O",
        "outputId": "194424d6-9884-4bbf-d0c3-c1d2520a2142"
      },
      "execution_count": null,
      "outputs": [
        {
          "output_type": "execute_result",
          "data": {
            "text/plain": [
              "                 ID  Customer_care_calls  Customer_rating  \\\n",
              "count  10642.000000         1.064200e+04     10642.000000   \n",
              "mean    5570.347773         2.777540e-16         0.497298   \n",
              "std     3159.806013         1.000047e+00         0.353086   \n",
              "min        1.000000        -1.803627e+00         0.000000   \n",
              "25%     2881.250000        -9.304889e-01         0.250000   \n",
              "50%     5604.500000        -5.735048e-02         0.500000   \n",
              "75%     8300.750000         8.157880e-01         0.750000   \n",
              "max    10999.000000         2.562065e+00         1.000000   \n",
              "\n",
              "       Cost_of_the_Product  Prior_purchases  Discount_offered  Weight_in_gms  \\\n",
              "count         1.064200e+04     1.064200e+04      1.064200e+04   1.064200e+04   \n",
              "mean         -5.341423e-17    -1.068285e-16      2.136569e-17   6.409707e-17   \n",
              "std           1.000047e+00     1.000047e+00      1.000047e+00   1.000047e+00   \n",
              "min          -2.383302e+00    -1.135516e+00     -7.689960e-01  -1.613343e+00   \n",
              "25%          -8.440579e-01    -3.595969e-01     -5.688870e-01  -1.103516e+00   \n",
              "50%           9.196863e-02    -3.595969e-01     -3.687781e-01   3.204627e-01   \n",
              "75%           8.407899e-01     4.163217e-01     -1.686692e-01   8.642883e-01   \n",
              "max           2.068025e+00     3.519996e+00      3.233183e+00   2.561018e+00   \n",
              "\n",
              "       Reached.on.Time_Y.N  \n",
              "count         10642.000000  \n",
              "mean              0.590303  \n",
              "std               0.491801  \n",
              "min               0.000000  \n",
              "25%               0.000000  \n",
              "50%               1.000000  \n",
              "75%               1.000000  \n",
              "max               1.000000  "
            ],
            "text/html": [
              "\n",
              "  <div id=\"df-757bf9a8-1d26-443d-bf24-4b0648f1934b\">\n",
              "    <div class=\"colab-df-container\">\n",
              "      <div>\n",
              "<style scoped>\n",
              "    .dataframe tbody tr th:only-of-type {\n",
              "        vertical-align: middle;\n",
              "    }\n",
              "\n",
              "    .dataframe tbody tr th {\n",
              "        vertical-align: top;\n",
              "    }\n",
              "\n",
              "    .dataframe thead th {\n",
              "        text-align: right;\n",
              "    }\n",
              "</style>\n",
              "<table border=\"1\" class=\"dataframe\">\n",
              "  <thead>\n",
              "    <tr style=\"text-align: right;\">\n",
              "      <th></th>\n",
              "      <th>ID</th>\n",
              "      <th>Customer_care_calls</th>\n",
              "      <th>Customer_rating</th>\n",
              "      <th>Cost_of_the_Product</th>\n",
              "      <th>Prior_purchases</th>\n",
              "      <th>Discount_offered</th>\n",
              "      <th>Weight_in_gms</th>\n",
              "      <th>Reached.on.Time_Y.N</th>\n",
              "    </tr>\n",
              "  </thead>\n",
              "  <tbody>\n",
              "    <tr>\n",
              "      <th>count</th>\n",
              "      <td>10642.000000</td>\n",
              "      <td>1.064200e+04</td>\n",
              "      <td>10642.000000</td>\n",
              "      <td>1.064200e+04</td>\n",
              "      <td>1.064200e+04</td>\n",
              "      <td>1.064200e+04</td>\n",
              "      <td>1.064200e+04</td>\n",
              "      <td>10642.000000</td>\n",
              "    </tr>\n",
              "    <tr>\n",
              "      <th>mean</th>\n",
              "      <td>5570.347773</td>\n",
              "      <td>2.777540e-16</td>\n",
              "      <td>0.497298</td>\n",
              "      <td>-5.341423e-17</td>\n",
              "      <td>-1.068285e-16</td>\n",
              "      <td>2.136569e-17</td>\n",
              "      <td>6.409707e-17</td>\n",
              "      <td>0.590303</td>\n",
              "    </tr>\n",
              "    <tr>\n",
              "      <th>std</th>\n",
              "      <td>3159.806013</td>\n",
              "      <td>1.000047e+00</td>\n",
              "      <td>0.353086</td>\n",
              "      <td>1.000047e+00</td>\n",
              "      <td>1.000047e+00</td>\n",
              "      <td>1.000047e+00</td>\n",
              "      <td>1.000047e+00</td>\n",
              "      <td>0.491801</td>\n",
              "    </tr>\n",
              "    <tr>\n",
              "      <th>min</th>\n",
              "      <td>1.000000</td>\n",
              "      <td>-1.803627e+00</td>\n",
              "      <td>0.000000</td>\n",
              "      <td>-2.383302e+00</td>\n",
              "      <td>-1.135516e+00</td>\n",
              "      <td>-7.689960e-01</td>\n",
              "      <td>-1.613343e+00</td>\n",
              "      <td>0.000000</td>\n",
              "    </tr>\n",
              "    <tr>\n",
              "      <th>25%</th>\n",
              "      <td>2881.250000</td>\n",
              "      <td>-9.304889e-01</td>\n",
              "      <td>0.250000</td>\n",
              "      <td>-8.440579e-01</td>\n",
              "      <td>-3.595969e-01</td>\n",
              "      <td>-5.688870e-01</td>\n",
              "      <td>-1.103516e+00</td>\n",
              "      <td>0.000000</td>\n",
              "    </tr>\n",
              "    <tr>\n",
              "      <th>50%</th>\n",
              "      <td>5604.500000</td>\n",
              "      <td>-5.735048e-02</td>\n",
              "      <td>0.500000</td>\n",
              "      <td>9.196863e-02</td>\n",
              "      <td>-3.595969e-01</td>\n",
              "      <td>-3.687781e-01</td>\n",
              "      <td>3.204627e-01</td>\n",
              "      <td>1.000000</td>\n",
              "    </tr>\n",
              "    <tr>\n",
              "      <th>75%</th>\n",
              "      <td>8300.750000</td>\n",
              "      <td>8.157880e-01</td>\n",
              "      <td>0.750000</td>\n",
              "      <td>8.407899e-01</td>\n",
              "      <td>4.163217e-01</td>\n",
              "      <td>-1.686692e-01</td>\n",
              "      <td>8.642883e-01</td>\n",
              "      <td>1.000000</td>\n",
              "    </tr>\n",
              "    <tr>\n",
              "      <th>max</th>\n",
              "      <td>10999.000000</td>\n",
              "      <td>2.562065e+00</td>\n",
              "      <td>1.000000</td>\n",
              "      <td>2.068025e+00</td>\n",
              "      <td>3.519996e+00</td>\n",
              "      <td>3.233183e+00</td>\n",
              "      <td>2.561018e+00</td>\n",
              "      <td>1.000000</td>\n",
              "    </tr>\n",
              "  </tbody>\n",
              "</table>\n",
              "</div>\n",
              "      <button class=\"colab-df-convert\" onclick=\"convertToInteractive('df-757bf9a8-1d26-443d-bf24-4b0648f1934b')\"\n",
              "              title=\"Convert this dataframe to an interactive table.\"\n",
              "              style=\"display:none;\">\n",
              "        \n",
              "  <svg xmlns=\"http://www.w3.org/2000/svg\" height=\"24px\"viewBox=\"0 0 24 24\"\n",
              "       width=\"24px\">\n",
              "    <path d=\"M0 0h24v24H0V0z\" fill=\"none\"/>\n",
              "    <path d=\"M18.56 5.44l.94 2.06.94-2.06 2.06-.94-2.06-.94-.94-2.06-.94 2.06-2.06.94zm-11 1L8.5 8.5l.94-2.06 2.06-.94-2.06-.94L8.5 2.5l-.94 2.06-2.06.94zm10 10l.94 2.06.94-2.06 2.06-.94-2.06-.94-.94-2.06-.94 2.06-2.06.94z\"/><path d=\"M17.41 7.96l-1.37-1.37c-.4-.4-.92-.59-1.43-.59-.52 0-1.04.2-1.43.59L10.3 9.45l-7.72 7.72c-.78.78-.78 2.05 0 2.83L4 21.41c.39.39.9.59 1.41.59.51 0 1.02-.2 1.41-.59l7.78-7.78 2.81-2.81c.8-.78.8-2.07 0-2.86zM5.41 20L4 18.59l7.72-7.72 1.47 1.35L5.41 20z\"/>\n",
              "  </svg>\n",
              "      </button>\n",
              "      \n",
              "  <style>\n",
              "    .colab-df-container {\n",
              "      display:flex;\n",
              "      flex-wrap:wrap;\n",
              "      gap: 12px;\n",
              "    }\n",
              "\n",
              "    .colab-df-convert {\n",
              "      background-color: #E8F0FE;\n",
              "      border: none;\n",
              "      border-radius: 50%;\n",
              "      cursor: pointer;\n",
              "      display: none;\n",
              "      fill: #1967D2;\n",
              "      height: 32px;\n",
              "      padding: 0 0 0 0;\n",
              "      width: 32px;\n",
              "    }\n",
              "\n",
              "    .colab-df-convert:hover {\n",
              "      background-color: #E2EBFA;\n",
              "      box-shadow: 0px 1px 2px rgba(60, 64, 67, 0.3), 0px 1px 3px 1px rgba(60, 64, 67, 0.15);\n",
              "      fill: #174EA6;\n",
              "    }\n",
              "\n",
              "    [theme=dark] .colab-df-convert {\n",
              "      background-color: #3B4455;\n",
              "      fill: #D2E3FC;\n",
              "    }\n",
              "\n",
              "    [theme=dark] .colab-df-convert:hover {\n",
              "      background-color: #434B5C;\n",
              "      box-shadow: 0px 1px 3px 1px rgba(0, 0, 0, 0.15);\n",
              "      filter: drop-shadow(0px 1px 2px rgba(0, 0, 0, 0.3));\n",
              "      fill: #FFFFFF;\n",
              "    }\n",
              "  </style>\n",
              "\n",
              "      <script>\n",
              "        const buttonEl =\n",
              "          document.querySelector('#df-757bf9a8-1d26-443d-bf24-4b0648f1934b button.colab-df-convert');\n",
              "        buttonEl.style.display =\n",
              "          google.colab.kernel.accessAllowed ? 'block' : 'none';\n",
              "\n",
              "        async function convertToInteractive(key) {\n",
              "          const element = document.querySelector('#df-757bf9a8-1d26-443d-bf24-4b0648f1934b');\n",
              "          const dataTable =\n",
              "            await google.colab.kernel.invokeFunction('convertToInteractive',\n",
              "                                                     [key], {});\n",
              "          if (!dataTable) return;\n",
              "\n",
              "          const docLinkHtml = 'Like what you see? Visit the ' +\n",
              "            '<a target=\"_blank\" href=https://colab.research.google.com/notebooks/data_table.ipynb>data table notebook</a>'\n",
              "            + ' to learn more about interactive tables.';\n",
              "          element.innerHTML = '';\n",
              "          dataTable['output_type'] = 'display_data';\n",
              "          await google.colab.output.renderOutput(dataTable, element);\n",
              "          const docLink = document.createElement('div');\n",
              "          docLink.innerHTML = docLinkHtml;\n",
              "          element.appendChild(docLink);\n",
              "        }\n",
              "      </script>\n",
              "    </div>\n",
              "  </div>\n",
              "  "
            ]
          },
          "metadata": {},
          "execution_count": 7
        }
      ]
    },
    {
      "cell_type": "code",
      "source": [
        "# df2['log_prior_purchases'] = np.log(df2['Prior_purchases'])\n",
        "# df2['log_discount_offered'] = np.log(df2['Discount_offered'])\n",
        "# df2['log_weight_in_gms'] = np.log(df2['Weight_in_gms'])\n",
        "# df2['log_cost_of_the_Product'] = np.log(df2['Cost_of_the_Product'])\n",
        "# df2['log_customer_care_calls'] = np.log(df2['Customer_care_calls'])\n",
        "\n",
        "# df2 = df2.drop(columns=['ID', 'Prior_purchases', 'Discount_offered', 'Weight_in_gms','Cost_of_the_Product', 'Customer_care_calls'])\n",
        "# df2.describe()"
      ],
      "metadata": {
        "id": "C4xUFMgYqgg8"
      },
      "execution_count": null,
      "outputs": []
    },
    {
      "cell_type": "code",
      "source": [
        "df2.info()"
      ],
      "metadata": {
        "colab": {
          "base_uri": "https://localhost:8080/"
        },
        "id": "SWXc8Vf3qqYJ",
        "outputId": "98e8dccd-4dc6-424f-c389-81dca29305db"
      },
      "execution_count": null,
      "outputs": [
        {
          "output_type": "stream",
          "name": "stdout",
          "text": [
            "<class 'pandas.core.frame.DataFrame'>\n",
            "Int64Index: 10642 entries, 0 to 10998\n",
            "Data columns (total 12 columns):\n",
            " #   Column               Non-Null Count  Dtype  \n",
            "---  ------               --------------  -----  \n",
            " 0   ID                   10642 non-null  int64  \n",
            " 1   Warehouse_block      10642 non-null  object \n",
            " 2   Mode_of_Shipment     10642 non-null  object \n",
            " 3   Customer_care_calls  10642 non-null  float64\n",
            " 4   Customer_rating      10642 non-null  float64\n",
            " 5   Cost_of_the_Product  10642 non-null  float64\n",
            " 6   Prior_purchases      10642 non-null  float64\n",
            " 7   Product_importance   10642 non-null  object \n",
            " 8   Gender               10642 non-null  object \n",
            " 9   Discount_offered     10642 non-null  float64\n",
            " 10  Weight_in_gms        10642 non-null  float64\n",
            " 11  Reached.on.Time_Y.N  10642 non-null  int64  \n",
            "dtypes: float64(6), int64(2), object(4)\n",
            "memory usage: 1.1+ MB\n"
          ]
        }
      ]
    },
    {
      "cell_type": "code",
      "source": [
        "# Label Encoding\n",
        "mapping_Product_importance = {\n",
        "    'low' : 0,\n",
        "    'medium' : 1,\n",
        "    'high' : 2\n",
        "}\n",
        "\n",
        "mapping_Gender = {\n",
        "    'F' : 0,\n",
        "    'M' : 1\n",
        "}\n",
        "\n",
        "df2['Product_importance'] = df2['Product_importance'].map(mapping_Product_importance)\n",
        "df2['Gender'] = df2['Gender'].map(mapping_Gender)"
      ],
      "metadata": {
        "id": "ujTXMttFqubU"
      },
      "execution_count": null,
      "outputs": []
    },
    {
      "cell_type": "code",
      "source": [
        "for cat in ['Mode_of_Shipment', 'Warehouse_block']:\n",
        "    onehots = pd.get_dummies(df2[cat], prefix=cat)\n",
        "    df2 = df2.join(onehots)"
      ],
      "metadata": {
        "id": "ghCCvs0Pqv1O"
      },
      "execution_count": null,
      "outputs": []
    },
    {
      "cell_type": "code",
      "source": [
        "df2.info()"
      ],
      "metadata": {
        "colab": {
          "base_uri": "https://localhost:8080/"
        },
        "id": "kOF_90iEqxKK",
        "outputId": "9bb4fc40-6f55-454e-94f6-e10fb570acc8"
      },
      "execution_count": null,
      "outputs": [
        {
          "output_type": "stream",
          "name": "stdout",
          "text": [
            "<class 'pandas.core.frame.DataFrame'>\n",
            "Int64Index: 10642 entries, 0 to 10998\n",
            "Data columns (total 20 columns):\n",
            " #   Column                   Non-Null Count  Dtype  \n",
            "---  ------                   --------------  -----  \n",
            " 0   ID                       10642 non-null  int64  \n",
            " 1   Warehouse_block          10642 non-null  object \n",
            " 2   Mode_of_Shipment         10642 non-null  object \n",
            " 3   Customer_care_calls      10642 non-null  float64\n",
            " 4   Customer_rating          10642 non-null  float64\n",
            " 5   Cost_of_the_Product      10642 non-null  float64\n",
            " 6   Prior_purchases          10642 non-null  float64\n",
            " 7   Product_importance       10642 non-null  int64  \n",
            " 8   Gender                   10642 non-null  int64  \n",
            " 9   Discount_offered         10642 non-null  float64\n",
            " 10  Weight_in_gms            10642 non-null  float64\n",
            " 11  Reached.on.Time_Y.N      10642 non-null  int64  \n",
            " 12  Mode_of_Shipment_Flight  10642 non-null  uint8  \n",
            " 13  Mode_of_Shipment_Road    10642 non-null  uint8  \n",
            " 14  Mode_of_Shipment_Ship    10642 non-null  uint8  \n",
            " 15  Warehouse_block_A        10642 non-null  uint8  \n",
            " 16  Warehouse_block_B        10642 non-null  uint8  \n",
            " 17  Warehouse_block_C        10642 non-null  uint8  \n",
            " 18  Warehouse_block_D        10642 non-null  uint8  \n",
            " 19  Warehouse_block_F        10642 non-null  uint8  \n",
            "dtypes: float64(6), int64(4), object(2), uint8(8)\n",
            "memory usage: 1.4+ MB\n"
          ]
        }
      ]
    },
    {
      "cell_type": "code",
      "source": [
        "df2 = df2.drop(columns=['Mode_of_Shipment', 'Warehouse_block'])"
      ],
      "metadata": {
        "id": "QKWTHaPhq0vE"
      },
      "execution_count": null,
      "outputs": []
    },
    {
      "cell_type": "code",
      "source": [
        "df2.describe()"
      ],
      "metadata": {
        "colab": {
          "base_uri": "https://localhost:8080/",
          "height": 364
        },
        "id": "bO8bnTicq1uW",
        "outputId": "7a9ecc13-7994-491b-9799-3dd1674da46a"
      },
      "execution_count": null,
      "outputs": [
        {
          "output_type": "execute_result",
          "data": {
            "text/plain": [
              "                 ID  Customer_care_calls  Customer_rating  \\\n",
              "count  10642.000000         1.064200e+04     10642.000000   \n",
              "mean    5570.347773         2.777540e-16         0.497298   \n",
              "std     3159.806013         1.000047e+00         0.353086   \n",
              "min        1.000000        -1.803627e+00         0.000000   \n",
              "25%     2881.250000        -9.304889e-01         0.250000   \n",
              "50%     5604.500000        -5.735048e-02         0.500000   \n",
              "75%     8300.750000         8.157880e-01         0.750000   \n",
              "max    10999.000000         2.562065e+00         1.000000   \n",
              "\n",
              "       Cost_of_the_Product  Prior_purchases  Product_importance        Gender  \\\n",
              "count         1.064200e+04     1.064200e+04        10642.000000  10642.000000   \n",
              "mean         -5.341423e-17    -1.068285e-16            0.596786      0.496711   \n",
              "std           1.000047e+00     1.000047e+00            0.637518      0.500013   \n",
              "min          -2.383302e+00    -1.135516e+00            0.000000      0.000000   \n",
              "25%          -8.440579e-01    -3.595969e-01            0.000000      0.000000   \n",
              "50%           9.196863e-02    -3.595969e-01            1.000000      0.000000   \n",
              "75%           8.407899e-01     4.163217e-01            1.000000      1.000000   \n",
              "max           2.068025e+00     3.519996e+00            2.000000      1.000000   \n",
              "\n",
              "       Discount_offered  Weight_in_gms  Reached.on.Time_Y.N  \\\n",
              "count      1.064200e+04   1.064200e+04         10642.000000   \n",
              "mean       2.136569e-17   6.409707e-17             0.590303   \n",
              "std        1.000047e+00   1.000047e+00             0.491801   \n",
              "min       -7.689960e-01  -1.613343e+00             0.000000   \n",
              "25%       -5.688870e-01  -1.103516e+00             0.000000   \n",
              "50%       -3.687781e-01   3.204627e-01             1.000000   \n",
              "75%       -1.686692e-01   8.642883e-01             1.000000   \n",
              "max        3.233183e+00   2.561018e+00             1.000000   \n",
              "\n",
              "       Mode_of_Shipment_Flight  Mode_of_Shipment_Road  Mode_of_Shipment_Ship  \\\n",
              "count             10642.000000           10642.000000           10642.000000   \n",
              "mean                  0.162375               0.160026               0.677598   \n",
              "std                   0.368812               0.366648               0.467418   \n",
              "min                   0.000000               0.000000               0.000000   \n",
              "25%                   0.000000               0.000000               0.000000   \n",
              "50%                   0.000000               0.000000               1.000000   \n",
              "75%                   0.000000               0.000000               1.000000   \n",
              "max                   1.000000               1.000000               1.000000   \n",
              "\n",
              "       Warehouse_block_A  Warehouse_block_B  Warehouse_block_C  \\\n",
              "count       10642.000000       10642.000000       10642.000000   \n",
              "mean            0.166980           0.167074           0.166416   \n",
              "std             0.372975           0.373059           0.372471   \n",
              "min             0.000000           0.000000           0.000000   \n",
              "25%             0.000000           0.000000           0.000000   \n",
              "50%             0.000000           0.000000           0.000000   \n",
              "75%             0.000000           0.000000           0.000000   \n",
              "max             1.000000           1.000000           1.000000   \n",
              "\n",
              "       Warehouse_block_D  Warehouse_block_F  \n",
              "count       10642.000000       10642.000000  \n",
              "mean            0.166980           0.332550  \n",
              "std             0.372975           0.471149  \n",
              "min             0.000000           0.000000  \n",
              "25%             0.000000           0.000000  \n",
              "50%             0.000000           0.000000  \n",
              "75%             0.000000           1.000000  \n",
              "max             1.000000           1.000000  "
            ],
            "text/html": [
              "\n",
              "  <div id=\"df-16773b91-085d-4755-a855-c97c0a246292\">\n",
              "    <div class=\"colab-df-container\">\n",
              "      <div>\n",
              "<style scoped>\n",
              "    .dataframe tbody tr th:only-of-type {\n",
              "        vertical-align: middle;\n",
              "    }\n",
              "\n",
              "    .dataframe tbody tr th {\n",
              "        vertical-align: top;\n",
              "    }\n",
              "\n",
              "    .dataframe thead th {\n",
              "        text-align: right;\n",
              "    }\n",
              "</style>\n",
              "<table border=\"1\" class=\"dataframe\">\n",
              "  <thead>\n",
              "    <tr style=\"text-align: right;\">\n",
              "      <th></th>\n",
              "      <th>ID</th>\n",
              "      <th>Customer_care_calls</th>\n",
              "      <th>Customer_rating</th>\n",
              "      <th>Cost_of_the_Product</th>\n",
              "      <th>Prior_purchases</th>\n",
              "      <th>Product_importance</th>\n",
              "      <th>Gender</th>\n",
              "      <th>Discount_offered</th>\n",
              "      <th>Weight_in_gms</th>\n",
              "      <th>Reached.on.Time_Y.N</th>\n",
              "      <th>Mode_of_Shipment_Flight</th>\n",
              "      <th>Mode_of_Shipment_Road</th>\n",
              "      <th>Mode_of_Shipment_Ship</th>\n",
              "      <th>Warehouse_block_A</th>\n",
              "      <th>Warehouse_block_B</th>\n",
              "      <th>Warehouse_block_C</th>\n",
              "      <th>Warehouse_block_D</th>\n",
              "      <th>Warehouse_block_F</th>\n",
              "    </tr>\n",
              "  </thead>\n",
              "  <tbody>\n",
              "    <tr>\n",
              "      <th>count</th>\n",
              "      <td>10642.000000</td>\n",
              "      <td>1.064200e+04</td>\n",
              "      <td>10642.000000</td>\n",
              "      <td>1.064200e+04</td>\n",
              "      <td>1.064200e+04</td>\n",
              "      <td>10642.000000</td>\n",
              "      <td>10642.000000</td>\n",
              "      <td>1.064200e+04</td>\n",
              "      <td>1.064200e+04</td>\n",
              "      <td>10642.000000</td>\n",
              "      <td>10642.000000</td>\n",
              "      <td>10642.000000</td>\n",
              "      <td>10642.000000</td>\n",
              "      <td>10642.000000</td>\n",
              "      <td>10642.000000</td>\n",
              "      <td>10642.000000</td>\n",
              "      <td>10642.000000</td>\n",
              "      <td>10642.000000</td>\n",
              "    </tr>\n",
              "    <tr>\n",
              "      <th>mean</th>\n",
              "      <td>5570.347773</td>\n",
              "      <td>2.777540e-16</td>\n",
              "      <td>0.497298</td>\n",
              "      <td>-5.341423e-17</td>\n",
              "      <td>-1.068285e-16</td>\n",
              "      <td>0.596786</td>\n",
              "      <td>0.496711</td>\n",
              "      <td>2.136569e-17</td>\n",
              "      <td>6.409707e-17</td>\n",
              "      <td>0.590303</td>\n",
              "      <td>0.162375</td>\n",
              "      <td>0.160026</td>\n",
              "      <td>0.677598</td>\n",
              "      <td>0.166980</td>\n",
              "      <td>0.167074</td>\n",
              "      <td>0.166416</td>\n",
              "      <td>0.166980</td>\n",
              "      <td>0.332550</td>\n",
              "    </tr>\n",
              "    <tr>\n",
              "      <th>std</th>\n",
              "      <td>3159.806013</td>\n",
              "      <td>1.000047e+00</td>\n",
              "      <td>0.353086</td>\n",
              "      <td>1.000047e+00</td>\n",
              "      <td>1.000047e+00</td>\n",
              "      <td>0.637518</td>\n",
              "      <td>0.500013</td>\n",
              "      <td>1.000047e+00</td>\n",
              "      <td>1.000047e+00</td>\n",
              "      <td>0.491801</td>\n",
              "      <td>0.368812</td>\n",
              "      <td>0.366648</td>\n",
              "      <td>0.467418</td>\n",
              "      <td>0.372975</td>\n",
              "      <td>0.373059</td>\n",
              "      <td>0.372471</td>\n",
              "      <td>0.372975</td>\n",
              "      <td>0.471149</td>\n",
              "    </tr>\n",
              "    <tr>\n",
              "      <th>min</th>\n",
              "      <td>1.000000</td>\n",
              "      <td>-1.803627e+00</td>\n",
              "      <td>0.000000</td>\n",
              "      <td>-2.383302e+00</td>\n",
              "      <td>-1.135516e+00</td>\n",
              "      <td>0.000000</td>\n",
              "      <td>0.000000</td>\n",
              "      <td>-7.689960e-01</td>\n",
              "      <td>-1.613343e+00</td>\n",
              "      <td>0.000000</td>\n",
              "      <td>0.000000</td>\n",
              "      <td>0.000000</td>\n",
              "      <td>0.000000</td>\n",
              "      <td>0.000000</td>\n",
              "      <td>0.000000</td>\n",
              "      <td>0.000000</td>\n",
              "      <td>0.000000</td>\n",
              "      <td>0.000000</td>\n",
              "    </tr>\n",
              "    <tr>\n",
              "      <th>25%</th>\n",
              "      <td>2881.250000</td>\n",
              "      <td>-9.304889e-01</td>\n",
              "      <td>0.250000</td>\n",
              "      <td>-8.440579e-01</td>\n",
              "      <td>-3.595969e-01</td>\n",
              "      <td>0.000000</td>\n",
              "      <td>0.000000</td>\n",
              "      <td>-5.688870e-01</td>\n",
              "      <td>-1.103516e+00</td>\n",
              "      <td>0.000000</td>\n",
              "      <td>0.000000</td>\n",
              "      <td>0.000000</td>\n",
              "      <td>0.000000</td>\n",
              "      <td>0.000000</td>\n",
              "      <td>0.000000</td>\n",
              "      <td>0.000000</td>\n",
              "      <td>0.000000</td>\n",
              "      <td>0.000000</td>\n",
              "    </tr>\n",
              "    <tr>\n",
              "      <th>50%</th>\n",
              "      <td>5604.500000</td>\n",
              "      <td>-5.735048e-02</td>\n",
              "      <td>0.500000</td>\n",
              "      <td>9.196863e-02</td>\n",
              "      <td>-3.595969e-01</td>\n",
              "      <td>1.000000</td>\n",
              "      <td>0.000000</td>\n",
              "      <td>-3.687781e-01</td>\n",
              "      <td>3.204627e-01</td>\n",
              "      <td>1.000000</td>\n",
              "      <td>0.000000</td>\n",
              "      <td>0.000000</td>\n",
              "      <td>1.000000</td>\n",
              "      <td>0.000000</td>\n",
              "      <td>0.000000</td>\n",
              "      <td>0.000000</td>\n",
              "      <td>0.000000</td>\n",
              "      <td>0.000000</td>\n",
              "    </tr>\n",
              "    <tr>\n",
              "      <th>75%</th>\n",
              "      <td>8300.750000</td>\n",
              "      <td>8.157880e-01</td>\n",
              "      <td>0.750000</td>\n",
              "      <td>8.407899e-01</td>\n",
              "      <td>4.163217e-01</td>\n",
              "      <td>1.000000</td>\n",
              "      <td>1.000000</td>\n",
              "      <td>-1.686692e-01</td>\n",
              "      <td>8.642883e-01</td>\n",
              "      <td>1.000000</td>\n",
              "      <td>0.000000</td>\n",
              "      <td>0.000000</td>\n",
              "      <td>1.000000</td>\n",
              "      <td>0.000000</td>\n",
              "      <td>0.000000</td>\n",
              "      <td>0.000000</td>\n",
              "      <td>0.000000</td>\n",
              "      <td>1.000000</td>\n",
              "    </tr>\n",
              "    <tr>\n",
              "      <th>max</th>\n",
              "      <td>10999.000000</td>\n",
              "      <td>2.562065e+00</td>\n",
              "      <td>1.000000</td>\n",
              "      <td>2.068025e+00</td>\n",
              "      <td>3.519996e+00</td>\n",
              "      <td>2.000000</td>\n",
              "      <td>1.000000</td>\n",
              "      <td>3.233183e+00</td>\n",
              "      <td>2.561018e+00</td>\n",
              "      <td>1.000000</td>\n",
              "      <td>1.000000</td>\n",
              "      <td>1.000000</td>\n",
              "      <td>1.000000</td>\n",
              "      <td>1.000000</td>\n",
              "      <td>1.000000</td>\n",
              "      <td>1.000000</td>\n",
              "      <td>1.000000</td>\n",
              "      <td>1.000000</td>\n",
              "    </tr>\n",
              "  </tbody>\n",
              "</table>\n",
              "</div>\n",
              "      <button class=\"colab-df-convert\" onclick=\"convertToInteractive('df-16773b91-085d-4755-a855-c97c0a246292')\"\n",
              "              title=\"Convert this dataframe to an interactive table.\"\n",
              "              style=\"display:none;\">\n",
              "        \n",
              "  <svg xmlns=\"http://www.w3.org/2000/svg\" height=\"24px\"viewBox=\"0 0 24 24\"\n",
              "       width=\"24px\">\n",
              "    <path d=\"M0 0h24v24H0V0z\" fill=\"none\"/>\n",
              "    <path d=\"M18.56 5.44l.94 2.06.94-2.06 2.06-.94-2.06-.94-.94-2.06-.94 2.06-2.06.94zm-11 1L8.5 8.5l.94-2.06 2.06-.94-2.06-.94L8.5 2.5l-.94 2.06-2.06.94zm10 10l.94 2.06.94-2.06 2.06-.94-2.06-.94-.94-2.06-.94 2.06-2.06.94z\"/><path d=\"M17.41 7.96l-1.37-1.37c-.4-.4-.92-.59-1.43-.59-.52 0-1.04.2-1.43.59L10.3 9.45l-7.72 7.72c-.78.78-.78 2.05 0 2.83L4 21.41c.39.39.9.59 1.41.59.51 0 1.02-.2 1.41-.59l7.78-7.78 2.81-2.81c.8-.78.8-2.07 0-2.86zM5.41 20L4 18.59l7.72-7.72 1.47 1.35L5.41 20z\"/>\n",
              "  </svg>\n",
              "      </button>\n",
              "      \n",
              "  <style>\n",
              "    .colab-df-container {\n",
              "      display:flex;\n",
              "      flex-wrap:wrap;\n",
              "      gap: 12px;\n",
              "    }\n",
              "\n",
              "    .colab-df-convert {\n",
              "      background-color: #E8F0FE;\n",
              "      border: none;\n",
              "      border-radius: 50%;\n",
              "      cursor: pointer;\n",
              "      display: none;\n",
              "      fill: #1967D2;\n",
              "      height: 32px;\n",
              "      padding: 0 0 0 0;\n",
              "      width: 32px;\n",
              "    }\n",
              "\n",
              "    .colab-df-convert:hover {\n",
              "      background-color: #E2EBFA;\n",
              "      box-shadow: 0px 1px 2px rgba(60, 64, 67, 0.3), 0px 1px 3px 1px rgba(60, 64, 67, 0.15);\n",
              "      fill: #174EA6;\n",
              "    }\n",
              "\n",
              "    [theme=dark] .colab-df-convert {\n",
              "      background-color: #3B4455;\n",
              "      fill: #D2E3FC;\n",
              "    }\n",
              "\n",
              "    [theme=dark] .colab-df-convert:hover {\n",
              "      background-color: #434B5C;\n",
              "      box-shadow: 0px 1px 3px 1px rgba(0, 0, 0, 0.15);\n",
              "      filter: drop-shadow(0px 1px 2px rgba(0, 0, 0, 0.3));\n",
              "      fill: #FFFFFF;\n",
              "    }\n",
              "  </style>\n",
              "\n",
              "      <script>\n",
              "        const buttonEl =\n",
              "          document.querySelector('#df-16773b91-085d-4755-a855-c97c0a246292 button.colab-df-convert');\n",
              "        buttonEl.style.display =\n",
              "          google.colab.kernel.accessAllowed ? 'block' : 'none';\n",
              "\n",
              "        async function convertToInteractive(key) {\n",
              "          const element = document.querySelector('#df-16773b91-085d-4755-a855-c97c0a246292');\n",
              "          const dataTable =\n",
              "            await google.colab.kernel.invokeFunction('convertToInteractive',\n",
              "                                                     [key], {});\n",
              "          if (!dataTable) return;\n",
              "\n",
              "          const docLinkHtml = 'Like what you see? Visit the ' +\n",
              "            '<a target=\"_blank\" href=https://colab.research.google.com/notebooks/data_table.ipynb>data table notebook</a>'\n",
              "            + ' to learn more about interactive tables.';\n",
              "          element.innerHTML = '';\n",
              "          dataTable['output_type'] = 'display_data';\n",
              "          await google.colab.output.renderOutput(dataTable, element);\n",
              "          const docLink = document.createElement('div');\n",
              "          docLink.innerHTML = docLinkHtml;\n",
              "          element.appendChild(docLink);\n",
              "        }\n",
              "      </script>\n",
              "    </div>\n",
              "  </div>\n",
              "  "
            ]
          },
          "metadata": {},
          "execution_count": 14
        }
      ]
    },
    {
      "cell_type": "code",
      "source": [
        "# #export data clean and transform\n",
        "# df2.to_csv('data_clean.csv', index=False)"
      ],
      "metadata": {
        "id": "4tBY0j7IrAGc"
      },
      "execution_count": null,
      "outputs": []
    },
    {
      "cell_type": "markdown",
      "source": [
        "# **RandomForest**"
      ],
      "metadata": {
        "id": "xgfGArMMrCvT"
      }
    },
    {
      "cell_type": "code",
      "source": [
        "def model_evaluation(model, pred, xtrain, ytrain, xtest, ytest):\n",
        "    print('Accuracy : %.2f' % accuracy_score(ytest, pred))\n",
        "    print('Precision : %.2f' % precision_score(ytest, pred))\n",
        "    print('Recall : %.2f' % recall_score(ytest, pred))\n",
        "    print('F-1Score : %.2f' % f1_score(ytest, pred))\n",
        "    \n",
        "    fpr, tpr, thresholds = roc_curve(ytest, pred, pos_label=1) \n",
        "    print('ROC AUC : %.2f' % auc(fpr, tpr))\n",
        "    \n",
        "    # Average precision score\n",
        "    average_precision = average_precision_score(ytest, pred)\n",
        "    print('AP : %.2f'% average_precision)"
      ],
      "metadata": {
        "id": "iNkE_OsirD0O"
      },
      "execution_count": null,
      "outputs": []
    },
    {
      "cell_type": "code",
      "source": [
        "# Feature Importance Function\n",
        "def feature_importance(model, x):\n",
        "    feat_importances = pd.Series(model.best_estimator_.feature_importances_, index = x.columns)\n",
        "    ax = feat_importances.nlargest(25).plot(kind = 'barh', figsize = (10, 8))\n",
        "    ax.invert_yaxis()\n",
        "\n",
        "# Best Hyperparameter Function\n",
        "def best_hyperparameter(model, hyperparameters):\n",
        "    for key, value in hyperparameters.items() :\n",
        "        print('Best '+key+':', model.get_params()[key])"
      ],
      "metadata": {
        "id": "3AWLmzsUrHsu"
      },
      "execution_count": null,
      "outputs": []
    },
    {
      "cell_type": "code",
      "source": [
        "X = df2.drop(columns = ['ID','Reached.on.Time_Y.N','Customer_care_calls', 'Customer_rating'])\n",
        "y = df2['Reached.on.Time_Y.N']"
      ],
      "metadata": {
        "id": "iWwu7isIrJkW"
      },
      "execution_count": null,
      "outputs": []
    },
    {
      "cell_type": "code",
      "source": [
        "from sklearn.model_selection import train_test_split \n",
        "from sklearn.ensemble import RandomForestClassifier\n",
        "from sklearn.metrics import accuracy_score, precision_score, recall_score, f1_score\n",
        "from sklearn.metrics import roc_curve, auc\n",
        "from sklearn.metrics import precision_recall_curve, plot_precision_recall_curve, average_precision_score\n",
        "from sklearn.metrics import classification_report, confusion_matrix, plot_confusion_matrix\n",
        "from sklearn.model_selection import validation_curve\n",
        "\n",
        "# Evaluation Metrics\n",
        "X_train, X_test, y_train, y_test = train_test_split(X, y, test_size = 0.2, random_state = 42)\n",
        "model = RandomForestClassifier(random_state = 42)\n",
        "model.fit(X_train, y_train)\n",
        "prediction = model.predict(X_test)\n",
        "model_evaluation(model, prediction, X_train, y_train, X_test, y_test)\n",
        "param_grid = { \n",
        "    'n_estimators': [200, 700],\n",
        "    'max_features': ['auto', 'sqrt', 'log2']\n",
        "}"
      ],
      "metadata": {
        "colab": {
          "base_uri": "https://localhost:8080/"
        },
        "id": "OcRWVWgArK1x",
        "outputId": "afa03221-8472-4ecb-bca1-7cd7295d40cc"
      },
      "execution_count": null,
      "outputs": [
        {
          "output_type": "stream",
          "name": "stdout",
          "text": [
            "Accuracy : 0.65\n",
            "Precision : 0.72\n",
            "Recall : 0.64\n",
            "F-1Score : 0.68\n",
            "ROC AUC : 0.65\n",
            "AP : 0.67\n"
          ]
        }
      ]
    },
    {
      "cell_type": "code",
      "source": [
        "# Model Validation Accuracy\n",
        "print('train Accuracy : ', model.score(X_train, y_train))\n",
        "print('test Accuracy : ', model.score(X_test, y_test))"
      ],
      "metadata": {
        "colab": {
          "base_uri": "https://localhost:8080/"
        },
        "id": "GsvX0xsirYll",
        "outputId": "a2ee4c8b-41d4-48ea-bbf9-8772478b8f76"
      },
      "execution_count": null,
      "outputs": [
        {
          "output_type": "stream",
          "name": "stdout",
          "text": [
            "train Accuracy :  1.0\n",
            "test Accuracy :  0.6481916392672616\n"
          ]
        }
      ]
    },
    {
      "cell_type": "code",
      "source": [
        "# Hyperparameter Tuning Random Forest\n",
        "parameter_range = np.arange(1, 10, 1)\n",
        "\n",
        "train_score, test_score = validation_curve(\n",
        "                                RandomForestClassifier(random_state = 42),\n",
        "                                X = X_train, y = y_train, \n",
        "                                param_name = 'n_estimators', \n",
        "                                param_range = parameter_range,\n",
        "                                cv = 5,\n",
        "                                scoring = 'roc_auc') \n",
        "\n",
        "\n",
        "# Calculating mean and standard deviation of training score\n",
        "mean_train_score = np.mean(train_score, axis = 1)\n",
        "std_train_score = np.std(train_score, axis = 1)\n",
        " \n",
        "# Calculating mean and standard deviation of testing score\n",
        "mean_test_score = np.mean(test_score, axis = 1)\n",
        "std_test_score = np.std(test_score, axis = 1)\n",
        " \n",
        "# Plot mean accuracy scores for training and testing scores\n",
        "plt.plot(parameter_range, mean_train_score,\n",
        "     label = \"Training Score\", color = 'b')\n",
        "plt.plot(parameter_range, mean_test_score,\n",
        "   label = \"Cross Validation Score\", color = 'g')\n",
        " \n",
        "# Creating the plot\n",
        "plt.title(\"Validation Curve with RandomForest Classifier\")\n",
        "plt.xlabel(\"n estimator\")\n",
        "plt.ylabel(\"Accuracy\")\n",
        "plt.tight_layout()\n",
        "plt.legend(loc = 'best')\n",
        "plt.show()"
      ],
      "metadata": {
        "colab": {
          "base_uri": "https://localhost:8080/",
          "height": 297
        },
        "id": "_gPqNpsXrrhe",
        "outputId": "482d822e-f398-428b-fa51-441450b0bc97"
      },
      "execution_count": null,
      "outputs": [
        {
          "output_type": "display_data",
          "data": {
            "text/plain": [
              "<Figure size 432x288 with 1 Axes>"
            ],
            "image/png": "[encoded data removed]"
          },
          "metadata": {
            "needs_background": "light"
          }
        }
      ]
    },
    {
      "cell_type": "code",
      "source": [
        "# Evaluation Metrics\n",
        "model = RandomForestClassifier(random_state = 42, n_estimators = 8, max_depth = 4, min_samples_split = 5, min_samples_leaf = 2)\n",
        "model.fit(X_train, y_train)\n",
        "prediction = model.predict(X_test)\n",
        "model_evaluation(model, prediction, X_train, y_train, X_test, y_test)"
      ],
      "metadata": {
        "colab": {
          "base_uri": "https://localhost:8080/"
        },
        "id": "cDshSizYrvKl",
        "outputId": "355ca50e-6675-49ce-c3eb-db928470acec"
      },
      "execution_count": null,
      "outputs": [
        {
          "output_type": "stream",
          "name": "stdout",
          "text": [
            "Accuracy : 0.61\n",
            "Precision : 0.62\n",
            "Recall : 0.86\n",
            "F-1Score : 0.72\n",
            "ROC AUC : 0.57\n",
            "AP : 0.61\n"
          ]
        }
      ]
    },
    {
      "cell_type": "code",
      "source": [
        "# Model Prediction\n",
        "prediction_train = model.predict(X_train)\n",
        "prediction_train"
      ],
      "metadata": {
        "colab": {
          "base_uri": "https://localhost:8080/"
        },
        "id": "ihcme8gZrydj",
        "outputId": "b14fa660-46b6-46bb-af1d-6a4a697dc722"
      },
      "execution_count": null,
      "outputs": [
        {
          "output_type": "execute_result",
          "data": {
            "text/plain": [
              "array([1, 1, 0, ..., 1, 1, 1])"
            ]
          },
          "metadata": {},
          "execution_count": 24
        }
      ]
    },
    {
      "cell_type": "code",
      "source": [
        "# Model Validation Average Precision\n",
        "print('AP train: ',average_precision_score(y_train, prediction_train))\n",
        "print('AP test: ',average_precision_score(y_test, prediction))"
      ],
      "metadata": {
        "colab": {
          "base_uri": "https://localhost:8080/"
        },
        "id": "0J0ZiJykr0lT",
        "outputId": "a0585992-c988-413d-f4d9-7c25ef0b7620"
      },
      "execution_count": null,
      "outputs": [
        {
          "output_type": "stream",
          "name": "stdout",
          "text": [
            "AP train:  0.637838502871672\n",
            "AP test:  0.6127122047085208\n"
          ]
        }
      ]
    },
    {
      "cell_type": "code",
      "source": [
        "# Model Validation Accuracy\n",
        "print('train Accuracy : ', model.score(X_train, y_train))\n",
        "print('test Accuracy : ', model.score(X_test, y_test))"
      ],
      "metadata": {
        "colab": {
          "base_uri": "https://localhost:8080/"
        },
        "id": "_YaZbzV4r2gH",
        "outputId": "5526f9cc-f05e-40c7-88da-f0eb3951c899"
      },
      "execution_count": null,
      "outputs": [
        {
          "output_type": "stream",
          "name": "stdout",
          "text": [
            "train Accuracy :  0.6382003993891695\n",
            "test Accuracy :  0.6120244246124942\n"
          ]
        }
      ]
    },
    {
      "cell_type": "code",
      "source": [
        "#plt.figsize(10, 8)\n",
        "feat_importances = pd.Series(model.feature_importances_, index=X_train.columns)\n",
        "feat_importances\n",
        "ax = feat_importances.nlargest(25).plot(kind='barh', figsize=(10, 8))\n",
        "ax.invert_yaxis()\n",
        "\n",
        "plt.xlabel('score')\n",
        "plt.ylabel('feature')\n",
        "plt.title('feature importance score')"
      ],
      "metadata": {
        "colab": {
          "base_uri": "https://localhost:8080/",
          "height": 530
        },
        "id": "mZGCHYBJr4rN",
        "outputId": "b92e03d1-175d-4760-b6ca-367d9fbe6fd1"
      },
      "execution_count": null,
      "outputs": [
        {
          "output_type": "execute_result",
          "data": {
            "text/plain": [
              "Text(0.5, 1.0, 'feature importance score')"
            ]
          },
          "metadata": {},
          "execution_count": 27
        },
        {
          "output_type": "display_data",
          "data": {
            "text/plain": [
              "<Figure size 720x576 with 1 Axes>"
            ],
            "image/png": "[encoded data removed]"
          },
          "metadata": {
            "needs_background": "light"
          }
        }
      ]
    },
    {
      "cell_type": "code",
      "source": [
        "# Split Feature and Label\n",
        "X = df2.drop(columns=['ID','Customer_care_calls','Customer_rating','Gender','Warehouse_block_A','Warehouse_block_B','Warehouse_block_C', 'Warehouse_block_F', 'Mode_of_Shipment_Flight','Mode_of_Shipment_Road','Mode_of_Shipment_Ship', 'Warehouse_block_D','Reached.on.Time_Y.N'])\n",
        "y = df2['Reached.on.Time_Y.N'] # target / label\n",
        "# Evaluation Metrics\n",
        "X_train, X_test, y_train, y_test = train_test_split(X, y, test_size = 0.2, random_state = 42)\n",
        "model = RandomForestClassifier(random_state = 42)\n",
        "model.fit(X_train, y_train)\n",
        "prediction = model.predict(X_test)\n",
        "model_evaluation(model, prediction, X_train, y_train, X_test, y_test)\n",
        "param_grid = { \n",
        "    'n_estimators': [200, 700],\n",
        "    'max_features': ['auto', 'sqrt', 'log2']\n",
        "}"
      ],
      "metadata": {
        "id": "VGqK71EOpVxL"
      },
      "execution_count": null,
      "outputs": []
    },
    {
      "cell_type": "code",
      "source": [
        "# Model Validation Accuracy\n",
        "print('train Accuracy : ', model.score(X_train, y_train))\n",
        "print('test Accuracy : ', model.score(X_test, y_test))"
      ],
      "metadata": {
        "id": "QtGRZEGLpYXx"
      },
      "execution_count": null,
      "outputs": []
    },
    {
      "cell_type": "code",
      "source": [
        "# Hyperparameter Tuning Random Forest\n",
        "parameter_range = np.arange(1, 10, 1)\n",
        "\n",
        "train_score, test_score = validation_curve(\n",
        "                                RandomForestClassifier(random_state = 42),\n",
        "                                X = X_train, y = y_train, \n",
        "                                param_name = 'n_estimators', \n",
        "                                param_range = parameter_range,\n",
        "                                cv = 5,\n",
        "                                scoring = 'roc_auc') \n",
        "\n",
        "\n",
        "# Calculating mean and standard deviation of training score\n",
        "mean_train_score = np.mean(train_score, axis = 1)\n",
        "std_train_score = np.std(train_score, axis = 1)\n",
        " \n",
        "# Calculating mean and standard deviation of testing score\n",
        "mean_test_score = np.mean(test_score, axis = 1)\n",
        "std_test_score = np.std(test_score, axis = 1)\n",
        " \n",
        "# Plot mean accuracy scores for training and testing scores\n",
        "plt.plot(parameter_range, mean_train_score,\n",
        "     label = \"Training Score\", color = 'b')\n",
        "plt.plot(parameter_range, mean_test_score,\n",
        "   label = \"Cross Validation Score\", color = 'g')\n",
        " \n",
        "# Creating the plot\n",
        "plt.title(\"Validation Curve with RandomForest Classifier\")\n",
        "plt.xlabel(\"n estimator\")\n",
        "plt.ylabel(\"Accuracy\")\n",
        "plt.tight_layout()\n",
        "plt.legend(loc = 'best')\n",
        "plt.show()"
      ],
      "metadata": {
        "id": "gSjlcpLDpaDz"
      },
      "execution_count": null,
      "outputs": []
    },
    {
      "cell_type": "code",
      "source": [
        "# Evaluation Metrics\n",
        "model = RandomForestClassifier(random_state = 42, n_estimators = 8, max_depth = 4, min_samples_split = 5, min_samples_leaf = 2)\n",
        "model.fit(X_train, y_train)\n",
        "prediction = model.predict(X_test)\n",
        "model_evaluation(model, prediction, X_train, y_train, X_test, y_test)"
      ],
      "metadata": {
        "id": "k7QOvM4cpcNL"
      },
      "execution_count": null,
      "outputs": []
    },
    {
      "cell_type": "code",
      "source": [
        "# Model Validation Accuracy\n",
        "print('train Accuracy : ', model.score(X_train, y_train))\n",
        "print('test Accuracy : ', model.score(X_test, y_test))"
      ],
      "metadata": {
        "id": "otZl3IYVpdoc"
      },
      "execution_count": null,
      "outputs": []
    },
    {
      "cell_type": "code",
      "source": [
        "#plt.figsize(10, 8)\n",
        "feat_importances = pd.Series(model.feature_importances_, index=X_train.columns)\n",
        "feat_importances\n",
        "ax = feat_importances.nlargest(25).plot(kind='barh', figsize=(10, 8))\n",
        "ax.invert_yaxis()\n",
        "\n",
        "plt.xlabel('score')\n",
        "plt.ylabel('feature')\n",
        "plt.title('feature importance score')"
      ],
      "metadata": {
        "id": "XmkS9UdQpfDq"
      },
      "execution_count": null,
      "outputs": []
    },
    {
      "cell_type": "markdown",
      "source": [
        "# **XGBOOST**"
      ],
      "metadata": {
        "id": "s78gDqE8pgYV"
      }
    },
    {
      "cell_type": "code",
      "source": [
        "import warnings\n",
        "warnings.filterwarnings('ignore')\n",
        "\n",
        "from sklearn.metrics import accuracy_score, precision_score, recall_score, f1_score\n",
        "from sklearn.metrics import roc_curve, auc\n",
        "\n",
        "def eval_classification(model, pred, xtrain, ytrain, xtest, ytest):\n",
        "    print(\"Accuracy (Test Set): %.2f\" % accuracy_score(ytest, pred))\n",
        "    print(\"Precision (Test Set): %.2f\" % precision_score(ytest, pred))\n",
        "    print(\"Recall (Test Set): %.2f\" % recall_score(ytest, pred))\n",
        "    print(\"F1-Score (Test Set): %.2f\" % f1_score(ytest, pred))\n",
        "    \n",
        "    fpr, tpr, thresholds = roc_curve(ytest, pred, pos_label=1) # pos_label: label yang kita anggap positive\n",
        "    print(\"AUC: %.2f\" % auc(fpr, tpr))\n",
        "\n",
        "def show_feature_importance(model):\n",
        "    feat_importances = pd.Series(model.feature_importances_, index=X.columns)\n",
        "    ax = feat_importances.nlargest(25).plot(kind='barh', figsize=(15, 8))\n",
        "    ax.invert_yaxis()\n",
        "\n",
        "    plt.xlabel('score')\n",
        "    plt.ylabel('feature')\n",
        "    plt.title('feature importance score')\n",
        "\n",
        "def show_best_hyperparameter(model, hyperparameters):\n",
        "    for key, value in hyperparameters.items() :\n",
        "        print('Best '+key+':', model.get_params()[key])"
      ],
      "metadata": {
        "id": "Gk6YJ2nUpj6H"
      },
      "execution_count": null,
      "outputs": []
    },
    {
      "cell_type": "code",
      "source": [
        "#data tanpa feature selection\n",
        "# df2 = df1.drop(columns=['ID','Customer_care_calls', 'Customer_rating'])\n",
        "# df1"
      ],
      "metadata": {
        "id": "4Ikh0y4JplQ_"
      },
      "execution_count": null,
      "outputs": []
    },
    {
      "cell_type": "code",
      "source": [
        "# Split Feature and Label\n",
        "X = df2.drop(columns=['ID','Customer_care_calls', 'Customer_rating','Reached.on.Time_Y.N'])\n",
        "y = df2['Reached.on.Time_Y.N'] # target / label\n",
        "\n",
        "#Splitting the data into Train and Test\n",
        "from sklearn.model_selection import train_test_split \n",
        "X_train, X_test, y_train, y_test = train_test_split(X, y, test_size = 0.2, random_state = 42)\n",
        "\n",
        "\n",
        "from xgboost import XGBClassifier\n",
        "xg = XGBClassifier(random_state=42)\n",
        "xg.fit(X_train, y_train)\n",
        "\n",
        "y_pred = xg.predict(X_test)\n",
        "eval_classification(xg, y_pred, X_train, y_train, X_test, y_test)"
      ],
      "metadata": {
        "id": "ApxAbKAQpmjX"
      },
      "execution_count": null,
      "outputs": []
    },
    {
      "cell_type": "code",
      "source": [
        "print('Train score: ' + str(xg.score(X_train, y_train)))\n",
        "print('Test score:' + str(xg.score(X_test, y_test)))"
      ],
      "metadata": {
        "id": "ZQDtr_K6pogN"
      },
      "execution_count": null,
      "outputs": []
    },
    {
      "cell_type": "code",
      "source": [
        "from sklearn.model_selection import RandomizedSearchCV\n",
        "import numpy as np\n",
        "\n",
        "#Menjadikan ke dalam bentuk dictionary\n",
        "hyperparameters = {\n",
        "                    'max_depth' : [int(x) for x in np.linspace(10, 110, num = 9)],\n",
        "                    'min_child_weight' : [int(x) for x in np.linspace(1, 20, num = 11)],\n",
        "                    'gamma' : [float(x) for x in np.linspace(0, 1, num = 11)],\n",
        "                    'tree_method' : ['auto', 'exact', 'approx', 'hist'],\n",
        "    \n",
        "                    'colsample_bytree' : [float(x) for x in np.linspace(0, 1, num = 11)],\n",
        "                    'eta' : [float(x) for x in np.linspace(0, 1, num = 100)],\n",
        "\n",
        "                    'lambda' : [float(x) for x in np.linspace(0, 1, num = 11)],\n",
        "                    'alpha' : [float(x) for x in np.linspace(0, 1, num = 11)]\n",
        "                    }\n",
        "\n",
        "# Init\n",
        "xg = XGBClassifier(random_state=42)\n",
        "xg_tuned1 = RandomizedSearchCV(xg, hyperparameters, cv=5, random_state=42, scoring='roc_auc')\n",
        "xg_tuned1.fit(X_train,y_train)\n",
        "\n",
        "# Predict & Evaluation\n",
        "y_pred = xg_tuned1.predict(X_test)#Check performa dari model\n",
        "eval_classification(xg_tuned1, y_pred, X_train, y_train, X_test, y_test)"
      ],
      "metadata": {
        "colab": {
          "base_uri": "https://localhost:8080/",
          "height": 235
        },
        "id": "AwZO0u19pp-F",
        "outputId": "4b6fb617-4987-4cd2-c12c-ede02a0dcca7"
      },
      "execution_count": 1,
      "outputs": [
        {
          "output_type": "error",
          "ename": "NameError",
          "evalue": "ignored",
          "traceback": [
            "\u001b[0;31m---------------------------------------------------------------------------\u001b[0m",
            "\u001b[0;31mNameError\u001b[0m                                 Traceback (most recent call last)",
            "\u001b[0;32m<ipython-input-1-7ae9519c375e>\u001b[0m in \u001b[0;36m<module>\u001b[0;34m()\u001b[0m\n\u001b[1;32m     17\u001b[0m \u001b[0;34m\u001b[0m\u001b[0m\n\u001b[1;32m     18\u001b[0m \u001b[0;31m# Init\u001b[0m\u001b[0;34m\u001b[0m\u001b[0;34m\u001b[0m\u001b[0;34m\u001b[0m\u001b[0m\n\u001b[0;32m---> 19\u001b[0;31m \u001b[0mxg\u001b[0m \u001b[0;34m=\u001b[0m \u001b[0mXGBClassifier\u001b[0m\u001b[0;34m(\u001b[0m\u001b[0mrandom_state\u001b[0m\u001b[0;34m=\u001b[0m\u001b[0;36m42\u001b[0m\u001b[0;34m)\u001b[0m\u001b[0;34m\u001b[0m\u001b[0;34m\u001b[0m\u001b[0m\n\u001b[0m\u001b[1;32m     20\u001b[0m \u001b[0mxg_tuned1\u001b[0m \u001b[0;34m=\u001b[0m \u001b[0mRandomizedSearchCV\u001b[0m\u001b[0;34m(\u001b[0m\u001b[0mxg\u001b[0m\u001b[0;34m,\u001b[0m \u001b[0mhyperparameters\u001b[0m\u001b[0;34m,\u001b[0m \u001b[0mcv\u001b[0m\u001b[0;34m=\u001b[0m\u001b[0;36m5\u001b[0m\u001b[0;34m,\u001b[0m \u001b[0mrandom_state\u001b[0m\u001b[0;34m=\u001b[0m\u001b[0;36m42\u001b[0m\u001b[0;34m,\u001b[0m \u001b[0mscoring\u001b[0m\u001b[0;34m=\u001b[0m\u001b[0;34m'roc_auc'\u001b[0m\u001b[0;34m)\u001b[0m\u001b[0;34m\u001b[0m\u001b[0;34m\u001b[0m\u001b[0m\n\u001b[1;32m     21\u001b[0m \u001b[0mxg_tuned1\u001b[0m\u001b[0;34m.\u001b[0m\u001b[0mfit\u001b[0m\u001b[0;34m(\u001b[0m\u001b[0mX_train\u001b[0m\u001b[0;34m,\u001b[0m\u001b[0my_train\u001b[0m\u001b[0;34m)\u001b[0m\u001b[0;34m\u001b[0m\u001b[0;34m\u001b[0m\u001b[0m\n",
            "\u001b[0;31mNameError\u001b[0m: name 'XGBClassifier' is not defined"
          ]
        }
      ]
    },
    {
      "cell_type": "code",
      "source": [
        "print('Train score: ' + str(xg_tuned1.score(X_train, y_train)))\n",
        "print('Test score:' + str(xg_tuned1.score(X_test, y_test)))"
      ],
      "metadata": {
        "id": "XVwOjoyJptnx"
      },
      "execution_count": null,
      "outputs": []
    },
    {
      "cell_type": "code",
      "source": [
        "show_feature_importance(xg_tuned1.best_estimator_)"
      ],
      "metadata": {
        "id": "67swn9Ncpu5n"
      },
      "execution_count": null,
      "outputs": []
    },
    {
      "cell_type": "code",
      "source": [
        "#data dengan feature selection\n",
        "# df2=df.copy()\n",
        "# df2 = df2.drop(columns=['ID','Customer_care_calls','Customer_rating','Gender','Product_importance','Warehouse_block_A','Warehouse_block_B','Warehouse_block_C', 'Warehouse_block_F', 'Mode_of_Shipment_Flight','Mode_of_Shipment_Road','Mode_of_Shipment_Ship', 'Cost_of_the_Product'])\n",
        "# df2"
      ],
      "metadata": {
        "id": "81DYJEaupwfF"
      },
      "execution_count": null,
      "outputs": []
    },
    {
      "cell_type": "code",
      "source": [
        "# Split Feature and Label\n",
        "X = df2.drop(columns=['ID','Customer_care_calls','Customer_rating','Gender','Warehouse_block_A','Warehouse_block_B','Warehouse_block_C', 'Warehouse_block_F', 'Mode_of_Shipment_Flight','Mode_of_Shipment_Road','Mode_of_Shipment_Ship', 'Warehouse_block_D','Reached.on.Time_Y.N'])\n",
        "y = df2['Reached.on.Time_Y.N'] # target / label\n",
        "\n",
        "#Splitting the data into Train and Test\n",
        "from sklearn.model_selection import train_test_split \n",
        "X_train, X_test, y_train, y_test = train_test_split(X, y, test_size = 0.2, random_state = 42)\n",
        "\n",
        "\n",
        "from xgboost import XGBClassifier\n",
        "xg = XGBClassifier(random_state=42)\n",
        "xg.fit(X_train, y_train)\n",
        "\n",
        "y_pred = xg.predict(X_test)\n",
        "eval_classification(xg, y_pred, X_train, y_train, X_test, y_test)"
      ],
      "metadata": {
        "id": "cdn9xxcUpzLD"
      },
      "execution_count": null,
      "outputs": []
    },
    {
      "cell_type": "code",
      "source": [
        "print('Train score: ' + str(xg.score(X_train, y_train)))\n",
        "print('Test score:' + str(xg.score(X_test, y_test)))"
      ],
      "metadata": {
        "id": "uIJ-9uSYp0rx"
      },
      "execution_count": null,
      "outputs": []
    },
    {
      "cell_type": "code",
      "source": [
        "from sklearn.model_selection import RandomizedSearchCV\n",
        "import numpy as np\n",
        "\n",
        "#Menjadikan ke dalam bentuk dictionary\n",
        "hyperparameters = {\n",
        "                    'max_depth' : [int(x) for x in np.linspace(10, 110, num = 9)],\n",
        "                    'min_child_weight' : [int(x) for x in np.linspace(1, 20, num = 11)],\n",
        "                    'gamma' : [float(x) for x in np.linspace(0, 1, num = 11)],\n",
        "                    'tree_method' : ['auto', 'exact', 'approx', 'hist'],\n",
        "    \n",
        "                    'colsample_bytree' : [float(x) for x in np.linspace(0, 1, num = 11)],\n",
        "                    'eta' : [float(x) for x in np.linspace(0, 1, num = 100)],\n",
        "\n",
        "                    'lambda' : [float(x) for x in np.linspace(0, 1, num = 11)],\n",
        "                    'alpha' : [float(x) for x in np.linspace(0, 1, num = 11)]\n",
        "                    }\n",
        "\n",
        "# Init\n",
        "xg = XGBClassifier(random_state=42)\n",
        "xg_tuned2 = RandomizedSearchCV(xg, hyperparameters, cv=5, random_state=42, scoring='roc_auc')\n",
        "xg_tuned2.fit(X_train,y_train)\n",
        "\n",
        "# Predict & Evaluation\n",
        "y_pred = xg_tuned2.predict(X_test)#Check performa dari model\n",
        "eval_classification(xg_tuned2, y_pred, X_train, y_train, X_test, y_test)"
      ],
      "metadata": {
        "id": "UCwNrgigp4YE"
      },
      "execution_count": null,
      "outputs": []
    },
    {
      "cell_type": "code",
      "source": [
        "print('Train score: ' + str(xg_tuned2.score(X_train, y_train)))\n",
        "print('Test score:' + str(xg_tuned2.score(X_test, y_test)))"
      ],
      "metadata": {
        "id": "k-0xxr1-p55r"
      },
      "execution_count": null,
      "outputs": []
    },
    {
      "cell_type": "code",
      "source": [
        "show_feature_importance(xg_tuned2.best_estimator_)"
      ],
      "metadata": {
        "id": "PvpwKQBep7Lb"
      },
      "execution_count": null,
      "outputs": []
    },
    {
      "cell_type": "markdown",
      "source": [
        "# **lightGBM**"
      ],
      "metadata": {
        "id": "45M5v1k9p9A1"
      }
    },
    {
      "cell_type": "code",
      "source": [
        "import lightgbm as ltb"
      ],
      "metadata": {
        "id": "Tp4wFrU_p_Iq"
      },
      "execution_count": null,
      "outputs": []
    },
    {
      "cell_type": "code",
      "source": [
        "x = df2[['Discount_offered', 'Weight_in_gms', 'Cost_of_the_Product','Prior_purchases']] # feature yang kita gunakan\n",
        "y = df2['Reached.on.Time_Y.N'] # variable target\n",
        "\n",
        "xtrain, xtest, ytrain, ytest = train_test_split(x,y,test_size=0.2,random_state=42)"
      ],
      "metadata": {
        "id": "0pYU65KeqAeN"
      },
      "execution_count": null,
      "outputs": []
    },
    {
      "cell_type": "code",
      "source": [
        "model = ltb.LGBMClassifier(learning_rate=0.09,num_leaves = 3, max_depth=2,random_state=42, num_iterations=132)\n",
        "model.fit(xtrain,ytrain,eval_set=[(xtest,ytest),(xtrain,ytrain)],eval_metric='auc')\n",
        "print(); print(model)\n",
        "    \n",
        "expectedy  = ytest\n",
        "predictedy = model.predict(xtest)"
      ],
      "metadata": {
        "id": "Fag8QkBhqBxm"
      },
      "execution_count": null,
      "outputs": []
    },
    {
      "cell_type": "code",
      "source": [
        "from sklearn import metrics\n",
        "print(metrics.classification_report(expectedy, predictedy))\n",
        "print(metrics.confusion_matrix(expectedy, predictedy))"
      ],
      "metadata": {
        "id": "9UmCwffTqEM_"
      },
      "execution_count": null,
      "outputs": []
    },
    {
      "cell_type": "code",
      "source": [
        "ltb.plot_importance(model)"
      ],
      "metadata": {
        "id": "FVw0D0HsqFkG"
      },
      "execution_count": null,
      "outputs": []
    },
    {
      "cell_type": "markdown",
      "source": [
        "# **KNN**"
      ],
      "metadata": {
        "id": "OxEPoBooqHGq"
      }
    },
    {
      "cell_type": "code",
      "source": [
        "# import warnings\n",
        "# warnings.filterwarnings('ignore')\n",
        "\n",
        "# import matplotlib.pyplot as plt\n",
        "# import pandas as pd\n",
        "# import numpy as np\n",
        "# import seaborn as sns"
      ],
      "metadata": {
        "id": "Gh715TAXqJvF"
      },
      "execution_count": null,
      "outputs": []
    },
    {
      "cell_type": "code",
      "source": [
        "from sklearn.metrics import accuracy_score, precision_score, recall_score, f1_score\n",
        "from sklearn.metrics import roc_curve, auc\n",
        "\n",
        "def eval_classification(model, pred, xtrain, ytrain, xtest, ytest):\n",
        "    print(\"Accuracy (Test Set): %.2f\" % accuracy_score(ytest, pred))\n",
        "    print(\"Precision (Test Set): %.2f\" % precision_score(ytest, pred))\n",
        "    print(\"Recall (Test Set): %.2f\" % recall_score(ytest, pred))\n",
        "    print(\"F1-Score (Test Set): %.2f\" % f1_score(ytest, pred))\n",
        "    \n",
        "    fpr, tpr, thresholds = roc_curve(ytest, pred, pos_label=1) # pos_label: label yang kita anggap positive\n",
        "    print(\"AUC: %.2f\" % auc(fpr, tpr))"
      ],
      "metadata": {
        "id": "lJDOH0LdqLQR"
      },
      "execution_count": null,
      "outputs": []
    },
    {
      "cell_type": "code",
      "source": [
        "# df = pd.read_csv(\"data_clean_new.csv\")\n",
        "# df.info()"
      ],
      "metadata": {
        "id": "qsXEGmieqQEL"
      },
      "execution_count": null,
      "outputs": []
    },
    {
      "cell_type": "code",
      "source": [
        "#import pandas as pd\n",
        "#df = pd.read_csv(\"data_clean_new.csv\")\n",
        "\n",
        "# Split Feature and Label\n",
        "X = df2.drop(columns=['ID', 'Reached.on.Time_Y.N', 'Customer_care_calls', 'Customer_rating'])\n",
        "y = df2['Reached.on.Time_Y.N'] # target / label\n",
        "\n",
        "#Splitting the data into Train and Test\n",
        "from sklearn.model_selection import train_test_split \n",
        "X_train, X_test, y_train, y_test = train_test_split(X, y, test_size = 0.2, random_state = 42)"
      ],
      "metadata": {
        "id": "58GC9TdjqSf6"
      },
      "execution_count": null,
      "outputs": []
    },
    {
      "cell_type": "markdown",
      "source": [
        "# **Init Model**"
      ],
      "metadata": {
        "id": "ILUtx5PLqVTQ"
      }
    },
    {
      "cell_type": "code",
      "source": [
        "from sklearn.neighbors import KNeighborsClassifier\n",
        "model = KNeighborsClassifier()\n",
        "model.fit(X_train, y_train)"
      ],
      "metadata": {
        "id": "253U_2jyqLzt"
      },
      "execution_count": null,
      "outputs": []
    },
    {
      "cell_type": "code",
      "source": [
        "y_pred = model.predict(X_test)\n",
        "eval_classification(model, y_pred, X_train, y_train, X_test, y_test)"
      ],
      "metadata": {
        "id": "PS7zjZeYqc_h"
      },
      "execution_count": null,
      "outputs": []
    },
    {
      "cell_type": "markdown",
      "source": [
        "# **Tune Hyperparameter with RandomSearch**"
      ],
      "metadata": {
        "id": "AFAiDuJrqefs"
      }
    },
    {
      "cell_type": "code",
      "source": [
        "from sklearn.model_selection import RandomizedSearchCV\n",
        "from sklearn.neighbors import KNeighborsClassifier\n",
        "from scipy.stats import uniform\n",
        "\n",
        "# List of hyperparameter\n",
        "n_neighbors = list(range(2,30))\n",
        "p=[1,2]\n",
        "algorithm = ['auto', 'ball_tree', 'kd_tree', 'brute']\n",
        "hyperparameters = dict(n_neighbors=n_neighbors, p=p, algorithm=algorithm)\n",
        "\n",
        "# Init model\n",
        "knn = KNeighborsClassifier()\n",
        "model = RandomizedSearchCV(knn, hyperparameters, cv=5, random_state=42, scoring='roc_auc')\n",
        "\n",
        "# Fit Model & Evaluasi\n",
        "model.fit(X_train, y_train)\n",
        "y_pred = model.predict(X_test)\n",
        "eval_classification(model, y_pred, X_train, y_train, X_test, y_test)"
      ],
      "metadata": {
        "id": "zScc0A4xqgkH"
      },
      "execution_count": null,
      "outputs": []
    },
    {
      "cell_type": "code",
      "source": [
        "print('Best n_neighbors:', model.best_estimator_.get_params()['n_neighbors'])\n",
        "print('Best p:', model.best_estimator_.get_params()['p'])\n",
        "print('Best algorithm:', model.best_estimator_.get_params()['algorithm'])"
      ],
      "metadata": {
        "id": "armUG4Feqh-N"
      },
      "execution_count": null,
      "outputs": []
    },
    {
      "cell_type": "code",
      "source": [
        "print('Train score: ' + str(model.score(X_train, y_train))) #accuracy\n",
        "print('Test score:' + str(model.score(X_test, y_test))) #accuracy"
      ],
      "metadata": {
        "id": "RGfmSM93qjWR"
      },
      "execution_count": null,
      "outputs": []
    },
    {
      "cell_type": "markdown",
      "source": [
        "# **Decision Tree**"
      ],
      "metadata": {
        "id": "3GTCfWcBqk3N"
      }
    },
    {
      "cell_type": "code",
      "source": [
        "\n",
        "X = df2.drop(columns=['ID','Reached.on.Time_Y.N'])\n",
        "y = df2['Reached.on.Time_Y.N'] # target / label\n",
        "\n",
        "#Splitting the data into Train and Test\n",
        "from sklearn.model_selection import train_test_split \n",
        "X_train, X_test, y_train, y_test = train_test_split(X, y, test_size = 0.2, random_state = 42)"
      ],
      "metadata": {
        "id": "OIkXcpbdqnAt"
      },
      "execution_count": null,
      "outputs": []
    }
  ]
}