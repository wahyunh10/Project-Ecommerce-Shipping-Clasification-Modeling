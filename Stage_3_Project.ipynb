{
  "nbformat": 4,
  "nbformat_minor": 0,
  "metadata": {
    "colab": {
      "name": "Stage_3_Project.ipynb",
      "provenance": [],
      "authorship_tag": "ABX9TyOxcv2Ui0vSYksAoqNIPgAJ",
      "include_colab_link": true
    },
    "kernelspec": {
      "name": "python3",
      "display_name": "Python 3"
    },
    "language_info": {
      "name": "python"
    }
  },
  "cells": [
    {
      "cell_type": "markdown",
      "metadata": {
        "id": "view-in-github",
        "colab_type": "text"
      },
      "source": [
        "<a href=\"https://colab.research.google.com/github/wahyunh10/Project-Ecommerce-Shipping-Clasification-Modeling/blob/main/Stage_3_Project.ipynb\" target=\"_parent\"><img src=\"https://colab.research.google.com/assets/colab-badge.svg\" alt=\"Open In Colab\"/></a>"
      ]
    },
    {
      "cell_type": "code",
      "execution_count": 2,
      "metadata": {
        "id": "tyOVWhtLiJ8_"
      },
      "outputs": [],
      "source": [
        "import numpy as np\n",
        "import pandas as pd\n",
        "import matplotlib.pyplot as plt\n",
        "import seaborn as sns\n",
        "from sklearn.preprocessing import MinMaxScaler, StandardScaler\n",
        "from scipy import stats"
      ]
    },
    {
      "cell_type": "code",
      "source": [
        "df = pd.read_csv('Full_data.csv')"
      ],
      "metadata": {
        "id": "BvUvXKLyqDfW"
      },
      "execution_count": 3,
      "outputs": []
    },
    {
      "cell_type": "code",
      "source": [
        "nums = ['Customer_care_calls', 'Customer_rating', 'Prior_purchases', 'Discount_offered', 'Cost_of_the_Product', 'Weight_in_gms', 'Reached.on.Time_Y.N']\n",
        "cats = ['Mode_of_Shipment', 'Product_importance', 'Gender','Warehouse_block']"
      ],
      "metadata": {
        "id": "VcQ2aW67qJkL"
      },
      "execution_count": 5,
      "outputs": []
    },
    {
      "cell_type": "code",
      "source": [
        "df2 = df.copy()\n",
        "print(f'Jumlah baris sebelum memfilter outlier: {len(df2)}')\n",
        "\n",
        "filtered_entries1 = np.array([True] * len(df2))\n",
        "\n",
        "for col in nums:\n",
        "    zscore = abs(stats.zscore(df2[col])) # hitung absolute z-scorenya\n",
        "    filtered_entries1 = (zscore < 3) & filtered_entries1 # keep yang kurang dari 3 absolute z-scorenya\n",
        "    \n",
        "df2 = df2[filtered_entries1] # filter, cuma ambil yang z-scorenya dibawah 3\n",
        "\n",
        "print(f'Jumlah baris setelah memfilter outlier: {len(df2)}')"
      ],
      "metadata": {
        "colab": {
          "base_uri": "https://localhost:8080/"
        },
        "id": "zhbu6zspqNZL",
        "outputId": "b94d8b00-dd03-4b6b-ded9-f3ebeb4587a1"
      },
      "execution_count": 6,
      "outputs": [
        {
          "output_type": "stream",
          "name": "stdout",
          "text": [
            "Jumlah baris sebelum memfilter outlier: 10999\n",
            "Jumlah baris setelah memfilter outlier: 10642\n"
          ]
        }
      ]
    },
    {
      "cell_type": "code",
      "source": [
        "df2['Customer_rating'] = MinMaxScaler().fit_transform(df2['Customer_rating'].values.reshape(len(df2), 1))\n",
        "\n",
        "#Standarisasi :\n",
        "df2['Customer_care_calls'] = StandardScaler().fit_transform(df2['Customer_care_calls'].values.reshape(len(df2), 1))\n",
        "df2['Cost_of_the_Product'] = StandardScaler().fit_transform(df2['Cost_of_the_Product'].values.reshape(len(df2), 1))\n",
        "df2['Prior_purchases'] = StandardScaler().fit_transform(df2['Prior_purchases'].values.reshape(len(df2), 1))\n",
        "df2['Discount_offered'] = StandardScaler().fit_transform(df2['Discount_offered'].values.reshape(len(df2), 1))\n",
        "df2['Weight_in_gms'] = StandardScaler().fit_transform(df2['Weight_in_gms'].values.reshape(len(df2), 1))"
      ],
      "metadata": {
        "id": "FJWcr8Q4qXZK"
      },
      "execution_count": 7,
      "outputs": []
    },
    {
      "cell_type": "code",
      "source": [
        "df2.info()"
      ],
      "metadata": {
        "colab": {
          "base_uri": "https://localhost:8080/"
        },
        "id": "SEz2OW1bqYwd",
        "outputId": "53b95d9f-1cb2-491d-bc73-07d9002f64cf"
      },
      "execution_count": 8,
      "outputs": [
        {
          "output_type": "stream",
          "name": "stdout",
          "text": [
            "<class 'pandas.core.frame.DataFrame'>\n",
            "Int64Index: 10642 entries, 0 to 10998\n",
            "Data columns (total 12 columns):\n",
            " #   Column               Non-Null Count  Dtype  \n",
            "---  ------               --------------  -----  \n",
            " 0   ID                   10642 non-null  int64  \n",
            " 1   Warehouse_block      10642 non-null  object \n",
            " 2   Mode_of_Shipment     10642 non-null  object \n",
            " 3   Customer_care_calls  10642 non-null  float64\n",
            " 4   Customer_rating      10642 non-null  float64\n",
            " 5   Cost_of_the_Product  10642 non-null  float64\n",
            " 6   Prior_purchases      10642 non-null  float64\n",
            " 7   Product_importance   10642 non-null  object \n",
            " 8   Gender               10642 non-null  object \n",
            " 9   Discount_offered     10642 non-null  float64\n",
            " 10  Weight_in_gms        10642 non-null  float64\n",
            " 11  Reached.on.Time_Y.N  10642 non-null  int64  \n",
            "dtypes: float64(6), int64(2), object(4)\n",
            "memory usage: 1.1+ MB\n"
          ]
        }
      ]
    },
    {
      "cell_type": "code",
      "source": [
        "df2.describe()"
      ],
      "metadata": {
        "colab": {
          "base_uri": "https://localhost:8080/",
          "height": 364
        },
        "id": "fMHO7vMOqb0O",
        "outputId": "4f9ee800-e7bb-4714-f648-99879e053548"
      },
      "execution_count": 9,
      "outputs": [
        {
          "output_type": "execute_result",
          "data": {
            "text/plain": [
              "                 ID  Customer_care_calls  Customer_rating  \\\n",
              "count  10642.000000         1.064200e+04     10642.000000   \n",
              "mean    5570.347773         2.777540e-16         0.497298   \n",
              "std     3159.806013         1.000047e+00         0.353086   \n",
              "min        1.000000        -1.803627e+00         0.000000   \n",
              "25%     2881.250000        -9.304889e-01         0.250000   \n",
              "50%     5604.500000        -5.735048e-02         0.500000   \n",
              "75%     8300.750000         8.157880e-01         0.750000   \n",
              "max    10999.000000         2.562065e+00         1.000000   \n",
              "\n",
              "       Cost_of_the_Product  Prior_purchases  Discount_offered  Weight_in_gms  \\\n",
              "count         1.064200e+04     1.064200e+04      1.064200e+04   1.064200e+04   \n",
              "mean         -5.341423e-17    -1.068285e-16      2.136569e-17   6.409707e-17   \n",
              "std           1.000047e+00     1.000047e+00      1.000047e+00   1.000047e+00   \n",
              "min          -2.383302e+00    -1.135516e+00     -7.689960e-01  -1.613343e+00   \n",
              "25%          -8.440579e-01    -3.595969e-01     -5.688870e-01  -1.103516e+00   \n",
              "50%           9.196863e-02    -3.595969e-01     -3.687781e-01   3.204627e-01   \n",
              "75%           8.407899e-01     4.163217e-01     -1.686692e-01   8.642883e-01   \n",
              "max           2.068025e+00     3.519996e+00      3.233183e+00   2.561018e+00   \n",
              "\n",
              "       Reached.on.Time_Y.N  \n",
              "count         10642.000000  \n",
              "mean              0.590303  \n",
              "std               0.491801  \n",
              "min               0.000000  \n",
              "25%               0.000000  \n",
              "50%               1.000000  \n",
              "75%               1.000000  \n",
              "max               1.000000  "
            ],
            "text/html": [
              "\n",
              "  <div id=\"df-4fb3f1c8-6f54-424e-b7cc-65f64c23c18f\">\n",
              "    <div class=\"colab-df-container\">\n",
              "      <div>\n",
              "<style scoped>\n",
              "    .dataframe tbody tr th:only-of-type {\n",
              "        vertical-align: middle;\n",
              "    }\n",
              "\n",
              "    .dataframe tbody tr th {\n",
              "        vertical-align: top;\n",
              "    }\n",
              "\n",
              "    .dataframe thead th {\n",
              "        text-align: right;\n",
              "    }\n",
              "</style>\n",
              "<table border=\"1\" class=\"dataframe\">\n",
              "  <thead>\n",
              "    <tr style=\"text-align: right;\">\n",
              "      <th></th>\n",
              "      <th>ID</th>\n",
              "      <th>Customer_care_calls</th>\n",
              "      <th>Customer_rating</th>\n",
              "      <th>Cost_of_the_Product</th>\n",
              "      <th>Prior_purchases</th>\n",
              "      <th>Discount_offered</th>\n",
              "      <th>Weight_in_gms</th>\n",
              "      <th>Reached.on.Time_Y.N</th>\n",
              "    </tr>\n",
              "  </thead>\n",
              "  <tbody>\n",
              "    <tr>\n",
              "      <th>count</th>\n",
              "      <td>10642.000000</td>\n",
              "      <td>1.064200e+04</td>\n",
              "      <td>10642.000000</td>\n",
              "      <td>1.064200e+04</td>\n",
              "      <td>1.064200e+04</td>\n",
              "      <td>1.064200e+04</td>\n",
              "      <td>1.064200e+04</td>\n",
              "      <td>10642.000000</td>\n",
              "    </tr>\n",
              "    <tr>\n",
              "      <th>mean</th>\n",
              "      <td>5570.347773</td>\n",
              "      <td>2.777540e-16</td>\n",
              "      <td>0.497298</td>\n",
              "      <td>-5.341423e-17</td>\n",
              "      <td>-1.068285e-16</td>\n",
              "      <td>2.136569e-17</td>\n",
              "      <td>6.409707e-17</td>\n",
              "      <td>0.590303</td>\n",
              "    </tr>\n",
              "    <tr>\n",
              "      <th>std</th>\n",
              "      <td>3159.806013</td>\n",
              "      <td>1.000047e+00</td>\n",
              "      <td>0.353086</td>\n",
              "      <td>1.000047e+00</td>\n",
              "      <td>1.000047e+00</td>\n",
              "      <td>1.000047e+00</td>\n",
              "      <td>1.000047e+00</td>\n",
              "      <td>0.491801</td>\n",
              "    </tr>\n",
              "    <tr>\n",
              "      <th>min</th>\n",
              "      <td>1.000000</td>\n",
              "      <td>-1.803627e+00</td>\n",
              "      <td>0.000000</td>\n",
              "      <td>-2.383302e+00</td>\n",
              "      <td>-1.135516e+00</td>\n",
              "      <td>-7.689960e-01</td>\n",
              "      <td>-1.613343e+00</td>\n",
              "      <td>0.000000</td>\n",
              "    </tr>\n",
              "    <tr>\n",
              "      <th>25%</th>\n",
              "      <td>2881.250000</td>\n",
              "      <td>-9.304889e-01</td>\n",
              "      <td>0.250000</td>\n",
              "      <td>-8.440579e-01</td>\n",
              "      <td>-3.595969e-01</td>\n",
              "      <td>-5.688870e-01</td>\n",
              "      <td>-1.103516e+00</td>\n",
              "      <td>0.000000</td>\n",
              "    </tr>\n",
              "    <tr>\n",
              "      <th>50%</th>\n",
              "      <td>5604.500000</td>\n",
              "      <td>-5.735048e-02</td>\n",
              "      <td>0.500000</td>\n",
              "      <td>9.196863e-02</td>\n",
              "      <td>-3.595969e-01</td>\n",
              "      <td>-3.687781e-01</td>\n",
              "      <td>3.204627e-01</td>\n",
              "      <td>1.000000</td>\n",
              "    </tr>\n",
              "    <tr>\n",
              "      <th>75%</th>\n",
              "      <td>8300.750000</td>\n",
              "      <td>8.157880e-01</td>\n",
              "      <td>0.750000</td>\n",
              "      <td>8.407899e-01</td>\n",
              "      <td>4.163217e-01</td>\n",
              "      <td>-1.686692e-01</td>\n",
              "      <td>8.642883e-01</td>\n",
              "      <td>1.000000</td>\n",
              "    </tr>\n",
              "    <tr>\n",
              "      <th>max</th>\n",
              "      <td>10999.000000</td>\n",
              "      <td>2.562065e+00</td>\n",
              "      <td>1.000000</td>\n",
              "      <td>2.068025e+00</td>\n",
              "      <td>3.519996e+00</td>\n",
              "      <td>3.233183e+00</td>\n",
              "      <td>2.561018e+00</td>\n",
              "      <td>1.000000</td>\n",
              "    </tr>\n",
              "  </tbody>\n",
              "</table>\n",
              "</div>\n",
              "      <button class=\"colab-df-convert\" onclick=\"convertToInteractive('df-4fb3f1c8-6f54-424e-b7cc-65f64c23c18f')\"\n",
              "              title=\"Convert this dataframe to an interactive table.\"\n",
              "              style=\"display:none;\">\n",
              "        \n",
              "  <svg xmlns=\"http://www.w3.org/2000/svg\" height=\"24px\"viewBox=\"0 0 24 24\"\n",
              "       width=\"24px\">\n",
              "    <path d=\"M0 0h24v24H0V0z\" fill=\"none\"/>\n",
              "    <path d=\"M18.56 5.44l.94 2.06.94-2.06 2.06-.94-2.06-.94-.94-2.06-.94 2.06-2.06.94zm-11 1L8.5 8.5l.94-2.06 2.06-.94-2.06-.94L8.5 2.5l-.94 2.06-2.06.94zm10 10l.94 2.06.94-2.06 2.06-.94-2.06-.94-.94-2.06-.94 2.06-2.06.94z\"/><path d=\"M17.41 7.96l-1.37-1.37c-.4-.4-.92-.59-1.43-.59-.52 0-1.04.2-1.43.59L10.3 9.45l-7.72 7.72c-.78.78-.78 2.05 0 2.83L4 21.41c.39.39.9.59 1.41.59.51 0 1.02-.2 1.41-.59l7.78-7.78 2.81-2.81c.8-.78.8-2.07 0-2.86zM5.41 20L4 18.59l7.72-7.72 1.47 1.35L5.41 20z\"/>\n",
              "  </svg>\n",
              "      </button>\n",
              "      \n",
              "  <style>\n",
              "    .colab-df-container {\n",
              "      display:flex;\n",
              "      flex-wrap:wrap;\n",
              "      gap: 12px;\n",
              "    }\n",
              "\n",
              "    .colab-df-convert {\n",
              "      background-color: #E8F0FE;\n",
              "      border: none;\n",
              "      border-radius: 50%;\n",
              "      cursor: pointer;\n",
              "      display: none;\n",
              "      fill: #1967D2;\n",
              "      height: 32px;\n",
              "      padding: 0 0 0 0;\n",
              "      width: 32px;\n",
              "    }\n",
              "\n",
              "    .colab-df-convert:hover {\n",
              "      background-color: #E2EBFA;\n",
              "      box-shadow: 0px 1px 2px rgba(60, 64, 67, 0.3), 0px 1px 3px 1px rgba(60, 64, 67, 0.15);\n",
              "      fill: #174EA6;\n",
              "    }\n",
              "\n",
              "    [theme=dark] .colab-df-convert {\n",
              "      background-color: #3B4455;\n",
              "      fill: #D2E3FC;\n",
              "    }\n",
              "\n",
              "    [theme=dark] .colab-df-convert:hover {\n",
              "      background-color: #434B5C;\n",
              "      box-shadow: 0px 1px 3px 1px rgba(0, 0, 0, 0.15);\n",
              "      filter: drop-shadow(0px 1px 2px rgba(0, 0, 0, 0.3));\n",
              "      fill: #FFFFFF;\n",
              "    }\n",
              "  </style>\n",
              "\n",
              "      <script>\n",
              "        const buttonEl =\n",
              "          document.querySelector('#df-4fb3f1c8-6f54-424e-b7cc-65f64c23c18f button.colab-df-convert');\n",
              "        buttonEl.style.display =\n",
              "          google.colab.kernel.accessAllowed ? 'block' : 'none';\n",
              "\n",
              "        async function convertToInteractive(key) {\n",
              "          const element = document.querySelector('#df-4fb3f1c8-6f54-424e-b7cc-65f64c23c18f');\n",
              "          const dataTable =\n",
              "            await google.colab.kernel.invokeFunction('convertToInteractive',\n",
              "                                                     [key], {});\n",
              "          if (!dataTable) return;\n",
              "\n",
              "          const docLinkHtml = 'Like what you see? Visit the ' +\n",
              "            '<a target=\"_blank\" href=https://colab.research.google.com/notebooks/data_table.ipynb>data table notebook</a>'\n",
              "            + ' to learn more about interactive tables.';\n",
              "          element.innerHTML = '';\n",
              "          dataTable['output_type'] = 'display_data';\n",
              "          await google.colab.output.renderOutput(dataTable, element);\n",
              "          const docLink = document.createElement('div');\n",
              "          docLink.innerHTML = docLinkHtml;\n",
              "          element.appendChild(docLink);\n",
              "        }\n",
              "      </script>\n",
              "    </div>\n",
              "  </div>\n",
              "  "
            ]
          },
          "metadata": {},
          "execution_count": 9
        }
      ]
    },
    {
      "cell_type": "code",
      "source": [
        "# df2['log_prior_purchases'] = np.log(df2['Prior_purchases'])\n",
        "# df2['log_discount_offered'] = np.log(df2['Discount_offered'])\n",
        "# df2['log_weight_in_gms'] = np.log(df2['Weight_in_gms'])\n",
        "# df2['log_cost_of_the_Product'] = np.log(df2['Cost_of_the_Product'])\n",
        "# df2['log_customer_care_calls'] = np.log(df2['Customer_care_calls'])\n",
        "\n",
        "# df2 = df2.drop(columns=['ID', 'Prior_purchases', 'Discount_offered', 'Weight_in_gms','Cost_of_the_Product', 'Customer_care_calls'])\n",
        "# df2.describe()"
      ],
      "metadata": {
        "id": "C4xUFMgYqgg8"
      },
      "execution_count": 10,
      "outputs": []
    },
    {
      "cell_type": "code",
      "source": [
        "df2.info()"
      ],
      "metadata": {
        "colab": {
          "base_uri": "https://localhost:8080/"
        },
        "id": "SWXc8Vf3qqYJ",
        "outputId": "b78aa8aa-3ea8-466e-99fb-ee6bf4e7d703"
      },
      "execution_count": 11,
      "outputs": [
        {
          "output_type": "stream",
          "name": "stdout",
          "text": [
            "<class 'pandas.core.frame.DataFrame'>\n",
            "Int64Index: 10642 entries, 0 to 10998\n",
            "Data columns (total 12 columns):\n",
            " #   Column               Non-Null Count  Dtype  \n",
            "---  ------               --------------  -----  \n",
            " 0   ID                   10642 non-null  int64  \n",
            " 1   Warehouse_block      10642 non-null  object \n",
            " 2   Mode_of_Shipment     10642 non-null  object \n",
            " 3   Customer_care_calls  10642 non-null  float64\n",
            " 4   Customer_rating      10642 non-null  float64\n",
            " 5   Cost_of_the_Product  10642 non-null  float64\n",
            " 6   Prior_purchases      10642 non-null  float64\n",
            " 7   Product_importance   10642 non-null  object \n",
            " 8   Gender               10642 non-null  object \n",
            " 9   Discount_offered     10642 non-null  float64\n",
            " 10  Weight_in_gms        10642 non-null  float64\n",
            " 11  Reached.on.Time_Y.N  10642 non-null  int64  \n",
            "dtypes: float64(6), int64(2), object(4)\n",
            "memory usage: 1.1+ MB\n"
          ]
        }
      ]
    },
    {
      "cell_type": "code",
      "source": [
        "# Label Encoding\n",
        "mapping_Product_importance = {\n",
        "    'low' : 0,\n",
        "    'medium' : 1,\n",
        "    'high' : 2\n",
        "}\n",
        "\n",
        "mapping_Gender = {\n",
        "    'F' : 0,\n",
        "    'M' : 1\n",
        "}\n",
        "\n",
        "df2['Product_importance'] = df2['Product_importance'].map(mapping_Product_importance)\n",
        "df2['Gender'] = df2['Gender'].map(mapping_Gender)"
      ],
      "metadata": {
        "id": "ujTXMttFqubU"
      },
      "execution_count": 12,
      "outputs": []
    },
    {
      "cell_type": "code",
      "source": [
        "for cat in ['Mode_of_Shipment', 'Warehouse_block']:\n",
        "    onehots = pd.get_dummies(df2[cat], prefix=cat)\n",
        "    df2 = df2.join(onehots)"
      ],
      "metadata": {
        "id": "ghCCvs0Pqv1O"
      },
      "execution_count": 13,
      "outputs": []
    },
    {
      "cell_type": "code",
      "source": [
        "df2.info()"
      ],
      "metadata": {
        "colab": {
          "base_uri": "https://localhost:8080/"
        },
        "id": "kOF_90iEqxKK",
        "outputId": "853ea596-cc23-4b74-a2d3-e2a34c9f2ecc"
      },
      "execution_count": 14,
      "outputs": [
        {
          "output_type": "stream",
          "name": "stdout",
          "text": [
            "<class 'pandas.core.frame.DataFrame'>\n",
            "Int64Index: 10642 entries, 0 to 10998\n",
            "Data columns (total 20 columns):\n",
            " #   Column                   Non-Null Count  Dtype  \n",
            "---  ------                   --------------  -----  \n",
            " 0   ID                       10642 non-null  int64  \n",
            " 1   Warehouse_block          10642 non-null  object \n",
            " 2   Mode_of_Shipment         10642 non-null  object \n",
            " 3   Customer_care_calls      10642 non-null  float64\n",
            " 4   Customer_rating          10642 non-null  float64\n",
            " 5   Cost_of_the_Product      10642 non-null  float64\n",
            " 6   Prior_purchases          10642 non-null  float64\n",
            " 7   Product_importance       10642 non-null  int64  \n",
            " 8   Gender                   10642 non-null  int64  \n",
            " 9   Discount_offered         10642 non-null  float64\n",
            " 10  Weight_in_gms            10642 non-null  float64\n",
            " 11  Reached.on.Time_Y.N      10642 non-null  int64  \n",
            " 12  Mode_of_Shipment_Flight  10642 non-null  uint8  \n",
            " 13  Mode_of_Shipment_Road    10642 non-null  uint8  \n",
            " 14  Mode_of_Shipment_Ship    10642 non-null  uint8  \n",
            " 15  Warehouse_block_A        10642 non-null  uint8  \n",
            " 16  Warehouse_block_B        10642 non-null  uint8  \n",
            " 17  Warehouse_block_C        10642 non-null  uint8  \n",
            " 18  Warehouse_block_D        10642 non-null  uint8  \n",
            " 19  Warehouse_block_F        10642 non-null  uint8  \n",
            "dtypes: float64(6), int64(4), object(2), uint8(8)\n",
            "memory usage: 1.4+ MB\n"
          ]
        }
      ]
    },
    {
      "cell_type": "code",
      "source": [
        "df2 = df2.drop(columns=['Mode_of_Shipment', 'Warehouse_block'])"
      ],
      "metadata": {
        "id": "QKWTHaPhq0vE"
      },
      "execution_count": 15,
      "outputs": []
    },
    {
      "cell_type": "code",
      "source": [
        "df2.describe()"
      ],
      "metadata": {
        "colab": {
          "base_uri": "https://localhost:8080/",
          "height": 364
        },
        "id": "bO8bnTicq1uW",
        "outputId": "c49a5d68-a6e9-4997-ffcc-7dfea22d5ce6"
      },
      "execution_count": 16,
      "outputs": [
        {
          "output_type": "execute_result",
          "data": {
            "text/plain": [
              "                 ID  Customer_care_calls  Customer_rating  \\\n",
              "count  10642.000000         1.064200e+04     10642.000000   \n",
              "mean    5570.347773         2.777540e-16         0.497298   \n",
              "std     3159.806013         1.000047e+00         0.353086   \n",
              "min        1.000000        -1.803627e+00         0.000000   \n",
              "25%     2881.250000        -9.304889e-01         0.250000   \n",
              "50%     5604.500000        -5.735048e-02         0.500000   \n",
              "75%     8300.750000         8.157880e-01         0.750000   \n",
              "max    10999.000000         2.562065e+00         1.000000   \n",
              "\n",
              "       Cost_of_the_Product  Prior_purchases  Product_importance        Gender  \\\n",
              "count         1.064200e+04     1.064200e+04        10642.000000  10642.000000   \n",
              "mean         -5.341423e-17    -1.068285e-16            0.596786      0.496711   \n",
              "std           1.000047e+00     1.000047e+00            0.637518      0.500013   \n",
              "min          -2.383302e+00    -1.135516e+00            0.000000      0.000000   \n",
              "25%          -8.440579e-01    -3.595969e-01            0.000000      0.000000   \n",
              "50%           9.196863e-02    -3.595969e-01            1.000000      0.000000   \n",
              "75%           8.407899e-01     4.163217e-01            1.000000      1.000000   \n",
              "max           2.068025e+00     3.519996e+00            2.000000      1.000000   \n",
              "\n",
              "       Discount_offered  Weight_in_gms  Reached.on.Time_Y.N  \\\n",
              "count      1.064200e+04   1.064200e+04         10642.000000   \n",
              "mean       2.136569e-17   6.409707e-17             0.590303   \n",
              "std        1.000047e+00   1.000047e+00             0.491801   \n",
              "min       -7.689960e-01  -1.613343e+00             0.000000   \n",
              "25%       -5.688870e-01  -1.103516e+00             0.000000   \n",
              "50%       -3.687781e-01   3.204627e-01             1.000000   \n",
              "75%       -1.686692e-01   8.642883e-01             1.000000   \n",
              "max        3.233183e+00   2.561018e+00             1.000000   \n",
              "\n",
              "       Mode_of_Shipment_Flight  Mode_of_Shipment_Road  Mode_of_Shipment_Ship  \\\n",
              "count             10642.000000           10642.000000           10642.000000   \n",
              "mean                  0.162375               0.160026               0.677598   \n",
              "std                   0.368812               0.366648               0.467418   \n",
              "min                   0.000000               0.000000               0.000000   \n",
              "25%                   0.000000               0.000000               0.000000   \n",
              "50%                   0.000000               0.000000               1.000000   \n",
              "75%                   0.000000               0.000000               1.000000   \n",
              "max                   1.000000               1.000000               1.000000   \n",
              "\n",
              "       Warehouse_block_A  Warehouse_block_B  Warehouse_block_C  \\\n",
              "count       10642.000000       10642.000000       10642.000000   \n",
              "mean            0.166980           0.167074           0.166416   \n",
              "std             0.372975           0.373059           0.372471   \n",
              "min             0.000000           0.000000           0.000000   \n",
              "25%             0.000000           0.000000           0.000000   \n",
              "50%             0.000000           0.000000           0.000000   \n",
              "75%             0.000000           0.000000           0.000000   \n",
              "max             1.000000           1.000000           1.000000   \n",
              "\n",
              "       Warehouse_block_D  Warehouse_block_F  \n",
              "count       10642.000000       10642.000000  \n",
              "mean            0.166980           0.332550  \n",
              "std             0.372975           0.471149  \n",
              "min             0.000000           0.000000  \n",
              "25%             0.000000           0.000000  \n",
              "50%             0.000000           0.000000  \n",
              "75%             0.000000           1.000000  \n",
              "max             1.000000           1.000000  "
            ],
            "text/html": [
              "\n",
              "  <div id=\"df-bf849375-695f-4571-baf0-2f9ad8bbc00b\">\n",
              "    <div class=\"colab-df-container\">\n",
              "      <div>\n",
              "<style scoped>\n",
              "    .dataframe tbody tr th:only-of-type {\n",
              "        vertical-align: middle;\n",
              "    }\n",
              "\n",
              "    .dataframe tbody tr th {\n",
              "        vertical-align: top;\n",
              "    }\n",
              "\n",
              "    .dataframe thead th {\n",
              "        text-align: right;\n",
              "    }\n",
              "</style>\n",
              "<table border=\"1\" class=\"dataframe\">\n",
              "  <thead>\n",
              "    <tr style=\"text-align: right;\">\n",
              "      <th></th>\n",
              "      <th>ID</th>\n",
              "      <th>Customer_care_calls</th>\n",
              "      <th>Customer_rating</th>\n",
              "      <th>Cost_of_the_Product</th>\n",
              "      <th>Prior_purchases</th>\n",
              "      <th>Product_importance</th>\n",
              "      <th>Gender</th>\n",
              "      <th>Discount_offered</th>\n",
              "      <th>Weight_in_gms</th>\n",
              "      <th>Reached.on.Time_Y.N</th>\n",
              "      <th>Mode_of_Shipment_Flight</th>\n",
              "      <th>Mode_of_Shipment_Road</th>\n",
              "      <th>Mode_of_Shipment_Ship</th>\n",
              "      <th>Warehouse_block_A</th>\n",
              "      <th>Warehouse_block_B</th>\n",
              "      <th>Warehouse_block_C</th>\n",
              "      <th>Warehouse_block_D</th>\n",
              "      <th>Warehouse_block_F</th>\n",
              "    </tr>\n",
              "  </thead>\n",
              "  <tbody>\n",
              "    <tr>\n",
              "      <th>count</th>\n",
              "      <td>10642.000000</td>\n",
              "      <td>1.064200e+04</td>\n",
              "      <td>10642.000000</td>\n",
              "      <td>1.064200e+04</td>\n",
              "      <td>1.064200e+04</td>\n",
              "      <td>10642.000000</td>\n",
              "      <td>10642.000000</td>\n",
              "      <td>1.064200e+04</td>\n",
              "      <td>1.064200e+04</td>\n",
              "      <td>10642.000000</td>\n",
              "      <td>10642.000000</td>\n",
              "      <td>10642.000000</td>\n",
              "      <td>10642.000000</td>\n",
              "      <td>10642.000000</td>\n",
              "      <td>10642.000000</td>\n",
              "      <td>10642.000000</td>\n",
              "      <td>10642.000000</td>\n",
              "      <td>10642.000000</td>\n",
              "    </tr>\n",
              "    <tr>\n",
              "      <th>mean</th>\n",
              "      <td>5570.347773</td>\n",
              "      <td>2.777540e-16</td>\n",
              "      <td>0.497298</td>\n",
              "      <td>-5.341423e-17</td>\n",
              "      <td>-1.068285e-16</td>\n",
              "      <td>0.596786</td>\n",
              "      <td>0.496711</td>\n",
              "      <td>2.136569e-17</td>\n",
              "      <td>6.409707e-17</td>\n",
              "      <td>0.590303</td>\n",
              "      <td>0.162375</td>\n",
              "      <td>0.160026</td>\n",
              "      <td>0.677598</td>\n",
              "      <td>0.166980</td>\n",
              "      <td>0.167074</td>\n",
              "      <td>0.166416</td>\n",
              "      <td>0.166980</td>\n",
              "      <td>0.332550</td>\n",
              "    </tr>\n",
              "    <tr>\n",
              "      <th>std</th>\n",
              "      <td>3159.806013</td>\n",
              "      <td>1.000047e+00</td>\n",
              "      <td>0.353086</td>\n",
              "      <td>1.000047e+00</td>\n",
              "      <td>1.000047e+00</td>\n",
              "      <td>0.637518</td>\n",
              "      <td>0.500013</td>\n",
              "      <td>1.000047e+00</td>\n",
              "      <td>1.000047e+00</td>\n",
              "      <td>0.491801</td>\n",
              "      <td>0.368812</td>\n",
              "      <td>0.366648</td>\n",
              "      <td>0.467418</td>\n",
              "      <td>0.372975</td>\n",
              "      <td>0.373059</td>\n",
              "      <td>0.372471</td>\n",
              "      <td>0.372975</td>\n",
              "      <td>0.471149</td>\n",
              "    </tr>\n",
              "    <tr>\n",
              "      <th>min</th>\n",
              "      <td>1.000000</td>\n",
              "      <td>-1.803627e+00</td>\n",
              "      <td>0.000000</td>\n",
              "      <td>-2.383302e+00</td>\n",
              "      <td>-1.135516e+00</td>\n",
              "      <td>0.000000</td>\n",
              "      <td>0.000000</td>\n",
              "      <td>-7.689960e-01</td>\n",
              "      <td>-1.613343e+00</td>\n",
              "      <td>0.000000</td>\n",
              "      <td>0.000000</td>\n",
              "      <td>0.000000</td>\n",
              "      <td>0.000000</td>\n",
              "      <td>0.000000</td>\n",
              "      <td>0.000000</td>\n",
              "      <td>0.000000</td>\n",
              "      <td>0.000000</td>\n",
              "      <td>0.000000</td>\n",
              "    </tr>\n",
              "    <tr>\n",
              "      <th>25%</th>\n",
              "      <td>2881.250000</td>\n",
              "      <td>-9.304889e-01</td>\n",
              "      <td>0.250000</td>\n",
              "      <td>-8.440579e-01</td>\n",
              "      <td>-3.595969e-01</td>\n",
              "      <td>0.000000</td>\n",
              "      <td>0.000000</td>\n",
              "      <td>-5.688870e-01</td>\n",
              "      <td>-1.103516e+00</td>\n",
              "      <td>0.000000</td>\n",
              "      <td>0.000000</td>\n",
              "      <td>0.000000</td>\n",
              "      <td>0.000000</td>\n",
              "      <td>0.000000</td>\n",
              "      <td>0.000000</td>\n",
              "      <td>0.000000</td>\n",
              "      <td>0.000000</td>\n",
              "      <td>0.000000</td>\n",
              "    </tr>\n",
              "    <tr>\n",
              "      <th>50%</th>\n",
              "      <td>5604.500000</td>\n",
              "      <td>-5.735048e-02</td>\n",
              "      <td>0.500000</td>\n",
              "      <td>9.196863e-02</td>\n",
              "      <td>-3.595969e-01</td>\n",
              "      <td>1.000000</td>\n",
              "      <td>0.000000</td>\n",
              "      <td>-3.687781e-01</td>\n",
              "      <td>3.204627e-01</td>\n",
              "      <td>1.000000</td>\n",
              "      <td>0.000000</td>\n",
              "      <td>0.000000</td>\n",
              "      <td>1.000000</td>\n",
              "      <td>0.000000</td>\n",
              "      <td>0.000000</td>\n",
              "      <td>0.000000</td>\n",
              "      <td>0.000000</td>\n",
              "      <td>0.000000</td>\n",
              "    </tr>\n",
              "    <tr>\n",
              "      <th>75%</th>\n",
              "      <td>8300.750000</td>\n",
              "      <td>8.157880e-01</td>\n",
              "      <td>0.750000</td>\n",
              "      <td>8.407899e-01</td>\n",
              "      <td>4.163217e-01</td>\n",
              "      <td>1.000000</td>\n",
              "      <td>1.000000</td>\n",
              "      <td>-1.686692e-01</td>\n",
              "      <td>8.642883e-01</td>\n",
              "      <td>1.000000</td>\n",
              "      <td>0.000000</td>\n",
              "      <td>0.000000</td>\n",
              "      <td>1.000000</td>\n",
              "      <td>0.000000</td>\n",
              "      <td>0.000000</td>\n",
              "      <td>0.000000</td>\n",
              "      <td>0.000000</td>\n",
              "      <td>1.000000</td>\n",
              "    </tr>\n",
              "    <tr>\n",
              "      <th>max</th>\n",
              "      <td>10999.000000</td>\n",
              "      <td>2.562065e+00</td>\n",
              "      <td>1.000000</td>\n",
              "      <td>2.068025e+00</td>\n",
              "      <td>3.519996e+00</td>\n",
              "      <td>2.000000</td>\n",
              "      <td>1.000000</td>\n",
              "      <td>3.233183e+00</td>\n",
              "      <td>2.561018e+00</td>\n",
              "      <td>1.000000</td>\n",
              "      <td>1.000000</td>\n",
              "      <td>1.000000</td>\n",
              "      <td>1.000000</td>\n",
              "      <td>1.000000</td>\n",
              "      <td>1.000000</td>\n",
              "      <td>1.000000</td>\n",
              "      <td>1.000000</td>\n",
              "      <td>1.000000</td>\n",
              "    </tr>\n",
              "  </tbody>\n",
              "</table>\n",
              "</div>\n",
              "      <button class=\"colab-df-convert\" onclick=\"convertToInteractive('df-bf849375-695f-4571-baf0-2f9ad8bbc00b')\"\n",
              "              title=\"Convert this dataframe to an interactive table.\"\n",
              "              style=\"display:none;\">\n",
              "        \n",
              "  <svg xmlns=\"http://www.w3.org/2000/svg\" height=\"24px\"viewBox=\"0 0 24 24\"\n",
              "       width=\"24px\">\n",
              "    <path d=\"M0 0h24v24H0V0z\" fill=\"none\"/>\n",
              "    <path d=\"M18.56 5.44l.94 2.06.94-2.06 2.06-.94-2.06-.94-.94-2.06-.94 2.06-2.06.94zm-11 1L8.5 8.5l.94-2.06 2.06-.94-2.06-.94L8.5 2.5l-.94 2.06-2.06.94zm10 10l.94 2.06.94-2.06 2.06-.94-2.06-.94-.94-2.06-.94 2.06-2.06.94z\"/><path d=\"M17.41 7.96l-1.37-1.37c-.4-.4-.92-.59-1.43-.59-.52 0-1.04.2-1.43.59L10.3 9.45l-7.72 7.72c-.78.78-.78 2.05 0 2.83L4 21.41c.39.39.9.59 1.41.59.51 0 1.02-.2 1.41-.59l7.78-7.78 2.81-2.81c.8-.78.8-2.07 0-2.86zM5.41 20L4 18.59l7.72-7.72 1.47 1.35L5.41 20z\"/>\n",
              "  </svg>\n",
              "      </button>\n",
              "      \n",
              "  <style>\n",
              "    .colab-df-container {\n",
              "      display:flex;\n",
              "      flex-wrap:wrap;\n",
              "      gap: 12px;\n",
              "    }\n",
              "\n",
              "    .colab-df-convert {\n",
              "      background-color: #E8F0FE;\n",
              "      border: none;\n",
              "      border-radius: 50%;\n",
              "      cursor: pointer;\n",
              "      display: none;\n",
              "      fill: #1967D2;\n",
              "      height: 32px;\n",
              "      padding: 0 0 0 0;\n",
              "      width: 32px;\n",
              "    }\n",
              "\n",
              "    .colab-df-convert:hover {\n",
              "      background-color: #E2EBFA;\n",
              "      box-shadow: 0px 1px 2px rgba(60, 64, 67, 0.3), 0px 1px 3px 1px rgba(60, 64, 67, 0.15);\n",
              "      fill: #174EA6;\n",
              "    }\n",
              "\n",
              "    [theme=dark] .colab-df-convert {\n",
              "      background-color: #3B4455;\n",
              "      fill: #D2E3FC;\n",
              "    }\n",
              "\n",
              "    [theme=dark] .colab-df-convert:hover {\n",
              "      background-color: #434B5C;\n",
              "      box-shadow: 0px 1px 3px 1px rgba(0, 0, 0, 0.15);\n",
              "      filter: drop-shadow(0px 1px 2px rgba(0, 0, 0, 0.3));\n",
              "      fill: #FFFFFF;\n",
              "    }\n",
              "  </style>\n",
              "\n",
              "      <script>\n",
              "        const buttonEl =\n",
              "          document.querySelector('#df-bf849375-695f-4571-baf0-2f9ad8bbc00b button.colab-df-convert');\n",
              "        buttonEl.style.display =\n",
              "          google.colab.kernel.accessAllowed ? 'block' : 'none';\n",
              "\n",
              "        async function convertToInteractive(key) {\n",
              "          const element = document.querySelector('#df-bf849375-695f-4571-baf0-2f9ad8bbc00b');\n",
              "          const dataTable =\n",
              "            await google.colab.kernel.invokeFunction('convertToInteractive',\n",
              "                                                     [key], {});\n",
              "          if (!dataTable) return;\n",
              "\n",
              "          const docLinkHtml = 'Like what you see? Visit the ' +\n",
              "            '<a target=\"_blank\" href=https://colab.research.google.com/notebooks/data_table.ipynb>data table notebook</a>'\n",
              "            + ' to learn more about interactive tables.';\n",
              "          element.innerHTML = '';\n",
              "          dataTable['output_type'] = 'display_data';\n",
              "          await google.colab.output.renderOutput(dataTable, element);\n",
              "          const docLink = document.createElement('div');\n",
              "          docLink.innerHTML = docLinkHtml;\n",
              "          element.appendChild(docLink);\n",
              "        }\n",
              "      </script>\n",
              "    </div>\n",
              "  </div>\n",
              "  "
            ]
          },
          "metadata": {},
          "execution_count": 16
        }
      ]
    },
    {
      "cell_type": "code",
      "source": [
        "# #export data clean and transform\n",
        "df2.to_csv('data_clean.csv', index=False)"
      ],
      "metadata": {
        "id": "4tBY0j7IrAGc"
      },
      "execution_count": 19,
      "outputs": []
    },
    {
      "cell_type": "markdown",
      "source": [
        "# **RandomForest**"
      ],
      "metadata": {
        "id": "xgfGArMMrCvT"
      }
    },
    {
      "cell_type": "code",
      "source": [
        "def model_evaluation(model, pred, xtrain, ytrain, xtest, ytest):\n",
        "    print('Accuracy : %.2f' % accuracy_score(ytest, pred))\n",
        "    print('Precision : %.2f' % precision_score(ytest, pred))\n",
        "    print('Recall : %.2f' % recall_score(ytest, pred))\n",
        "    print('F-1Score : %.2f' % f1_score(ytest, pred))\n",
        "    \n",
        "    fpr, tpr, thresholds = roc_curve(ytest, pred, pos_label=1) \n",
        "    print('ROC AUC : %.2f' % auc(fpr, tpr))\n",
        "    \n",
        "    # Average precision score\n",
        "    average_precision = average_precision_score(ytest, pred)\n",
        "    print('AP : %.2f'% average_precision)"
      ],
      "metadata": {
        "id": "iNkE_OsirD0O"
      },
      "execution_count": 20,
      "outputs": []
    },
    {
      "cell_type": "code",
      "source": [
        "# Feature Importance Function\n",
        "def feature_importance(model, x):\n",
        "    feat_importances = pd.Series(model.best_estimator_.feature_importances_, index = x.columns)\n",
        "    ax = feat_importances.nlargest(25).plot(kind = 'barh', figsize = (10, 8))\n",
        "    ax.invert_yaxis()\n",
        "\n",
        "# Best Hyperparameter Function\n",
        "def best_hyperparameter(model, hyperparameters):\n",
        "    for key, value in hyperparameters.items() :\n",
        "        print('Best '+key+':', model.get_params()[key])"
      ],
      "metadata": {
        "id": "3AWLmzsUrHsu"
      },
      "execution_count": 21,
      "outputs": []
    },
    {
      "cell_type": "code",
      "source": [
        "X = df2.drop(columns = ['ID','Reached.on.Time_Y.N','Customer_care_calls', 'Customer_rating'])\n",
        "y = df2['Reached.on.Time_Y.N']"
      ],
      "metadata": {
        "id": "iWwu7isIrJkW"
      },
      "execution_count": 22,
      "outputs": []
    },
    {
      "cell_type": "code",
      "source": [
        "from sklearn.model_selection import train_test_split \n",
        "from sklearn.ensemble import RandomForestClassifier\n",
        "from sklearn.metrics import accuracy_score, precision_score, recall_score, f1_score\n",
        "from sklearn.metrics import roc_curve, auc\n",
        "from sklearn.metrics import precision_recall_curve, plot_precision_recall_curve, average_precision_score\n",
        "from sklearn.metrics import classification_report, confusion_matrix, plot_confusion_matrix\n",
        "from sklearn.model_selection import validation_curve\n",
        "\n",
        "# Evaluation Metrics\n",
        "X_train, X_test, y_train, y_test = train_test_split(X, y, test_size = 0.2, random_state = 42)\n",
        "model = RandomForestClassifier(random_state = 42)\n",
        "model.fit(X_train, y_train)\n",
        "prediction = model.predict(X_test)\n",
        "model_evaluation(model, prediction, X_train, y_train, X_test, y_test)\n",
        "param_grid = { \n",
        "    'n_estimators': [200, 700],\n",
        "    'max_features': ['auto', 'sqrt', 'log2']\n",
        "}"
      ],
      "metadata": {
        "colab": {
          "base_uri": "https://localhost:8080/"
        },
        "id": "OcRWVWgArK1x",
        "outputId": "e81202f6-0456-4506-bcd6-1d75e3832321"
      },
      "execution_count": 23,
      "outputs": [
        {
          "output_type": "stream",
          "name": "stdout",
          "text": [
            "Accuracy : 0.65\n",
            "Precision : 0.72\n",
            "Recall : 0.64\n",
            "F-1Score : 0.68\n",
            "ROC AUC : 0.65\n",
            "AP : 0.67\n"
          ]
        }
      ]
    },
    {
      "cell_type": "code",
      "source": [
        "# Model Validation Accuracy\n",
        "print('train Accuracy : ', model.score(X_train, y_train))\n",
        "print('test Accuracy : ', model.score(X_test, y_test))"
      ],
      "metadata": {
        "colab": {
          "base_uri": "https://localhost:8080/"
        },
        "id": "GsvX0xsirYll",
        "outputId": "b9fc630f-7ff1-4f5a-f8d4-75493c7b7285"
      },
      "execution_count": 24,
      "outputs": [
        {
          "output_type": "stream",
          "name": "stdout",
          "text": [
            "train Accuracy :  1.0\n",
            "test Accuracy :  0.6481916392672616\n"
          ]
        }
      ]
    },
    {
      "cell_type": "code",
      "source": [
        "# Hyperparameter Tuning Random Forest\n",
        "parameter_range = np.arange(1, 10, 1)\n",
        "\n",
        "train_score, test_score = validation_curve(\n",
        "                                RandomForestClassifier(random_state = 42),\n",
        "                                X = X_train, y = y_train, \n",
        "                                param_name = 'n_estimators', \n",
        "                                param_range = parameter_range,\n",
        "                                cv = 5,\n",
        "                                scoring = 'roc_auc') \n",
        "\n",
        "\n",
        "# Calculating mean and standard deviation of training score\n",
        "mean_train_score = np.mean(train_score, axis = 1)\n",
        "std_train_score = np.std(train_score, axis = 1)\n",
        " \n",
        "# Calculating mean and standard deviation of testing score\n",
        "mean_test_score = np.mean(test_score, axis = 1)\n",
        "std_test_score = np.std(test_score, axis = 1)\n",
        " \n",
        "# Plot mean accuracy scores for training and testing scores\n",
        "plt.plot(parameter_range, mean_train_score,\n",
        "     label = \"Training Score\", color = 'b')\n",
        "plt.plot(parameter_range, mean_test_score,\n",
        "   label = \"Cross Validation Score\", color = 'g')\n",
        " \n",
        "# Creating the plot\n",
        "plt.title(\"Validation Curve with RandomForest Classifier\")\n",
        "plt.xlabel(\"n estimator\")\n",
        "plt.ylabel(\"Accuracy\")\n",
        "plt.tight_layout()\n",
        "plt.legend(loc = 'best')\n",
        "plt.show()"
      ],
      "metadata": {
        "colab": {
          "base_uri": "https://localhost:8080/",
          "height": 297
        },
        "id": "_gPqNpsXrrhe",
        "outputId": "925312ac-f5e7-4dd3-acca-e1bd51897a13"
      },
      "execution_count": 25,
      "outputs": [
        {
          "output_type": "display_data",
          "data": {
            "text/plain": [
              "<Figure size 432x288 with 1 Axes>"
            ],
            "image/png": "[encoded data removed]"
          },
          "metadata": {
            "needs_background": "light"
          }
        }
      ]
    },
    {
      "cell_type": "code",
      "source": [
        "# Evaluation Metrics\n",
        "model = RandomForestClassifier(random_state = 42, n_estimators = 8, max_depth = 4, min_samples_split = 5, min_samples_leaf = 2)\n",
        "model.fit(X_train, y_train)\n",
        "prediction = model.predict(X_test)\n",
        "model_evaluation(model, prediction, X_train, y_train, X_test, y_test)"
      ],
      "metadata": {
        "colab": {
          "base_uri": "https://localhost:8080/"
        },
        "id": "cDshSizYrvKl",
        "outputId": "160a8d3b-f67b-490b-ee9c-2548a5230d93"
      },
      "execution_count": 26,
      "outputs": [
        {
          "output_type": "stream",
          "name": "stdout",
          "text": [
            "Accuracy : 0.61\n",
            "Precision : 0.62\n",
            "Recall : 0.86\n",
            "F-1Score : 0.72\n",
            "ROC AUC : 0.57\n",
            "AP : 0.61\n"
          ]
        }
      ]
    },
    {
      "cell_type": "code",
      "source": [
        "# Model Prediction\n",
        "prediction_train = model.predict(X_train)\n",
        "prediction_train"
      ],
      "metadata": {
        "colab": {
          "base_uri": "https://localhost:8080/"
        },
        "id": "ihcme8gZrydj",
        "outputId": "cdc40a6b-45f2-4032-b90b-01dccf367ab0"
      },
      "execution_count": 27,
      "outputs": [
        {
          "output_type": "execute_result",
          "data": {
            "text/plain": [
              "array([1, 1, 0, ..., 1, 1, 1])"
            ]
          },
          "metadata": {},
          "execution_count": 27
        }
      ]
    },
    {
      "cell_type": "code",
      "source": [
        "# Model Validation Average Precision\n",
        "print('AP train: ',average_precision_score(y_train, prediction_train))\n",
        "print('AP test: ',average_precision_score(y_test, prediction))"
      ],
      "metadata": {
        "colab": {
          "base_uri": "https://localhost:8080/"
        },
        "id": "0J0ZiJykr0lT",
        "outputId": "51ff1c19-c70e-421c-8c90-416ee93e04cd"
      },
      "execution_count": 28,
      "outputs": [
        {
          "output_type": "stream",
          "name": "stdout",
          "text": [
            "AP train:  0.637838502871672\n",
            "AP test:  0.6127122047085208\n"
          ]
        }
      ]
    },
    {
      "cell_type": "code",
      "source": [
        "# Model Validation Accuracy\n",
        "print('train Accuracy : ', model.score(X_train, y_train))\n",
        "print('test Accuracy : ', model.score(X_test, y_test))"
      ],
      "metadata": {
        "colab": {
          "base_uri": "https://localhost:8080/"
        },
        "id": "_YaZbzV4r2gH",
        "outputId": "e78242bf-5567-4806-e1df-c990f50c4b22"
      },
      "execution_count": 29,
      "outputs": [
        {
          "output_type": "stream",
          "name": "stdout",
          "text": [
            "train Accuracy :  0.6382003993891695\n",
            "test Accuracy :  0.6120244246124942\n"
          ]
        }
      ]
    },
    {
      "cell_type": "code",
      "source": [
        "#plt.figsize(10, 8)\n",
        "feat_importances = pd.Series(model.feature_importances_, index=X_train.columns)\n",
        "feat_importances\n",
        "ax = feat_importances.nlargest(25).plot(kind='barh', figsize=(10, 8))\n",
        "ax.invert_yaxis()\n",
        "\n",
        "plt.xlabel('score')\n",
        "plt.ylabel('feature')\n",
        "plt.title('feature importance score')"
      ],
      "metadata": {
        "colab": {
          "base_uri": "https://localhost:8080/",
          "height": 530
        },
        "id": "mZGCHYBJr4rN",
        "outputId": "37c4a706-bb4a-4f1c-8297-2173d871bde0"
      },
      "execution_count": 30,
      "outputs": [
        {
          "output_type": "execute_result",
          "data": {
            "text/plain": [
              "Text(0.5, 1.0, 'feature importance score')"
            ]
          },
          "metadata": {},
          "execution_count": 30
        },
        {
          "output_type": "display_data",
          "data": {
            "text/plain": [
              "<Figure size 720x576 with 1 Axes>"
            ],
            "image/png": "[encoded data removed]"
          },
          "metadata": {
            "needs_background": "light"
          }
        }
      ]
    },
    {
      "cell_type": "code",
      "source": [
        "# Split Feature and Label\n",
        "X = df2.drop(columns=['ID','Customer_care_calls','Customer_rating','Gender','Warehouse_block_A','Warehouse_block_B','Warehouse_block_C', 'Warehouse_block_F', 'Mode_of_Shipment_Flight','Mode_of_Shipment_Road','Mode_of_Shipment_Ship', 'Warehouse_block_D','Reached.on.Time_Y.N'])\n",
        "y = df2['Reached.on.Time_Y.N'] # target / label\n",
        "# Evaluation Metrics\n",
        "X_train, X_test, y_train, y_test = train_test_split(X, y, test_size = 0.2, random_state = 42)\n",
        "model = RandomForestClassifier(random_state = 42)\n",
        "model.fit(X_train, y_train)\n",
        "prediction = model.predict(X_test)\n",
        "model_evaluation(model, prediction, X_train, y_train, X_test, y_test)\n",
        "param_grid = { \n",
        "    'n_estimators': [200, 700],\n",
        "    'max_features': ['auto', 'sqrt', 'log2']\n",
        "}"
      ],
      "metadata": {
        "colab": {
          "base_uri": "https://localhost:8080/"
        },
        "id": "VGqK71EOpVxL",
        "outputId": "1aa55e86-8ca1-4f91-e7ad-46b0e54c1383"
      },
      "execution_count": 31,
      "outputs": [
        {
          "output_type": "stream",
          "name": "stdout",
          "text": [
            "Accuracy : 0.65\n",
            "Precision : 0.71\n",
            "Recall : 0.66\n",
            "F-1Score : 0.68\n",
            "ROC AUC : 0.65\n",
            "AP : 0.67\n"
          ]
        }
      ]
    },
    {
      "cell_type": "code",
      "source": [
        "# Model Validation Accuracy\n",
        "print('train Accuracy : ', model.score(X_train, y_train))\n",
        "print('test Accuracy : ', model.score(X_test, y_test))"
      ],
      "metadata": {
        "colab": {
          "base_uri": "https://localhost:8080/"
        },
        "id": "QtGRZEGLpYXx",
        "outputId": "033839f2-8d5e-459f-e866-3ca9e2124ece"
      },
      "execution_count": 32,
      "outputs": [
        {
          "output_type": "stream",
          "name": "stdout",
          "text": [
            "train Accuracy :  1.0\n",
            "test Accuracy :  0.6486613433536872\n"
          ]
        }
      ]
    },
    {
      "cell_type": "code",
      "source": [
        "# Hyperparameter Tuning Random Forest\n",
        "parameter_range = np.arange(1, 10, 1)\n",
        "\n",
        "train_score, test_score = validation_curve(\n",
        "                                RandomForestClassifier(random_state = 42),\n",
        "                                X = X_train, y = y_train, \n",
        "                                param_name = 'n_estimators', \n",
        "                                param_range = parameter_range,\n",
        "                                cv = 5,\n",
        "                                scoring = 'roc_auc') \n",
        "\n",
        "\n",
        "# Calculating mean and standard deviation of training score\n",
        "mean_train_score = np.mean(train_score, axis = 1)\n",
        "std_train_score = np.std(train_score, axis = 1)\n",
        " \n",
        "# Calculating mean and standard deviation of testing score\n",
        "mean_test_score = np.mean(test_score, axis = 1)\n",
        "std_test_score = np.std(test_score, axis = 1)\n",
        " \n",
        "# Plot mean accuracy scores for training and testing scores\n",
        "plt.plot(parameter_range, mean_train_score,\n",
        "     label = \"Training Score\", color = 'b')\n",
        "plt.plot(parameter_range, mean_test_score,\n",
        "   label = \"Cross Validation Score\", color = 'g')\n",
        " \n",
        "# Creating the plot\n",
        "plt.title(\"Validation Curve with RandomForest Classifier\")\n",
        "plt.xlabel(\"n estimator\")\n",
        "plt.ylabel(\"Accuracy\")\n",
        "plt.tight_layout()\n",
        "plt.legend(loc = 'best')\n",
        "plt.show()"
      ],
      "metadata": {
        "colab": {
          "base_uri": "https://localhost:8080/",
          "height": 297
        },
        "id": "gSjlcpLDpaDz",
        "outputId": "9dde45b5-269e-4ea5-db35-75529c3afb94"
      },
      "execution_count": 33,
      "outputs": [
        {
          "output_type": "display_data",
          "data": {
            "text/plain": [
              "<Figure size 432x288 with 1 Axes>"
            ],
            "image/png": "[encoded data removed]"
          },
          "metadata": {
            "needs_background": "light"
          }
        }
      ]
    },
    {
      "cell_type": "code",
      "source": [
        "# Evaluation Metrics\n",
        "model = RandomForestClassifier(random_state = 42, n_estimators = 8, max_depth = 4, min_samples_split = 5, min_samples_leaf = 2)\n",
        "model.fit(X_train, y_train)\n",
        "prediction = model.predict(X_test)\n",
        "model_evaluation(model, prediction, X_train, y_train, X_test, y_test)"
      ],
      "metadata": {
        "colab": {
          "base_uri": "https://localhost:8080/"
        },
        "id": "k7QOvM4cpcNL",
        "outputId": "8dc22f37-0af1-463e-c17b-680c0db4b3f8"
      },
      "execution_count": 34,
      "outputs": [
        {
          "output_type": "stream",
          "name": "stdout",
          "text": [
            "Accuracy : 0.68\n",
            "Precision : 0.82\n",
            "Recall : 0.56\n",
            "F-1Score : 0.67\n",
            "ROC AUC : 0.70\n",
            "AP : 0.71\n"
          ]
        }
      ]
    },
    {
      "cell_type": "code",
      "source": [
        "# Model Validation Accuracy\n",
        "print('train Accuracy : ', model.score(X_train, y_train))\n",
        "print('test Accuracy : ', model.score(X_test, y_test))"
      ],
      "metadata": {
        "colab": {
          "base_uri": "https://localhost:8080/"
        },
        "id": "otZl3IYVpdoc",
        "outputId": "e9900e8e-8710-436a-b67e-716429e3f0cc"
      },
      "execution_count": 35,
      "outputs": [
        {
          "output_type": "stream",
          "name": "stdout",
          "text": [
            "train Accuracy :  0.6789615881592858\n",
            "test Accuracy :  0.6754344762799437\n"
          ]
        }
      ]
    },
    {
      "cell_type": "code",
      "source": [
        "#plt.figsize(10, 8)\n",
        "feat_importances = pd.Series(model.feature_importances_, index=X_train.columns)\n",
        "feat_importances\n",
        "ax = feat_importances.nlargest(25).plot(kind='barh', figsize=(10, 8))\n",
        "ax.invert_yaxis()\n",
        "\n",
        "plt.xlabel('score')\n",
        "plt.ylabel('feature')\n",
        "plt.title('feature importance score')"
      ],
      "metadata": {
        "colab": {
          "base_uri": "https://localhost:8080/",
          "height": 530
        },
        "id": "XmkS9UdQpfDq",
        "outputId": "4300ae62-e293-416f-8349-fc8cb8c4b0d1"
      },
      "execution_count": 36,
      "outputs": [
        {
          "output_type": "execute_result",
          "data": {
            "text/plain": [
              "Text(0.5, 1.0, 'feature importance score')"
            ]
          },
          "metadata": {},
          "execution_count": 36
        },
        {
          "output_type": "display_data",
          "data": {
            "text/plain": [
              "<Figure size 720x576 with 1 Axes>"
            ],
            "image/png": "[encoded data removed]"
          },
          "metadata": {
            "needs_background": "light"
          }
        }
      ]
    },
    {
      "cell_type": "markdown",
      "source": [
        "# **XGBOOST**"
      ],
      "metadata": {
        "id": "s78gDqE8pgYV"
      }
    },
    {
      "cell_type": "code",
      "source": [
        "import warnings\n",
        "warnings.filterwarnings('ignore')\n",
        "\n",
        "from sklearn.metrics import accuracy_score, precision_score, recall_score, f1_score\n",
        "from sklearn.metrics import roc_curve, auc\n",
        "\n",
        "def eval_classification(model, pred, xtrain, ytrain, xtest, ytest):\n",
        "    print(\"Accuracy (Test Set): %.2f\" % accuracy_score(ytest, pred))\n",
        "    print(\"Precision (Test Set): %.2f\" % precision_score(ytest, pred))\n",
        "    print(\"Recall (Test Set): %.2f\" % recall_score(ytest, pred))\n",
        "    print(\"F1-Score (Test Set): %.2f\" % f1_score(ytest, pred))\n",
        "    \n",
        "    fpr, tpr, thresholds = roc_curve(ytest, pred, pos_label=1) # pos_label: label yang kita anggap positive\n",
        "    print(\"AUC: %.2f\" % auc(fpr, tpr))\n",
        "\n",
        "def show_feature_importance(model):\n",
        "    feat_importances = pd.Series(model.feature_importances_, index=X.columns)\n",
        "    ax = feat_importances.nlargest(25).plot(kind='barh', figsize=(15, 8))\n",
        "    ax.invert_yaxis()\n",
        "\n",
        "    plt.xlabel('score')\n",
        "    plt.ylabel('feature')\n",
        "    plt.title('feature importance score')\n",
        "\n",
        "def show_best_hyperparameter(model, hyperparameters):\n",
        "    for key, value in hyperparameters.items() :\n",
        "        print('Best '+key+':', model.get_params()[key])"
      ],
      "metadata": {
        "id": "Gk6YJ2nUpj6H"
      },
      "execution_count": 37,
      "outputs": []
    },
    {
      "cell_type": "code",
      "source": [
        "#data tanpa feature selection\n",
        "# df2 = df1.drop(columns=['ID','Customer_care_calls', 'Customer_rating'])\n",
        "# df1"
      ],
      "metadata": {
        "id": "4Ikh0y4JplQ_"
      },
      "execution_count": 38,
      "outputs": []
    },
    {
      "cell_type": "code",
      "source": [
        "# Split Feature and Label\n",
        "X = df2.drop(columns=['ID','Customer_care_calls', 'Customer_rating','Reached.on.Time_Y.N'])\n",
        "y = df2['Reached.on.Time_Y.N'] # target / label\n",
        "\n",
        "#Splitting the data into Train and Test\n",
        "from sklearn.model_selection import train_test_split \n",
        "X_train, X_test, y_train, y_test = train_test_split(X, y, test_size = 0.2, random_state = 42)\n",
        "\n",
        "\n",
        "from xgboost import XGBClassifier\n",
        "xg = XGBClassifier(random_state=42)\n",
        "xg.fit(X_train, y_train)\n",
        "\n",
        "y_pred = xg.predict(X_test)\n",
        "eval_classification(xg, y_pred, X_train, y_train, X_test, y_test)"
      ],
      "metadata": {
        "colab": {
          "base_uri": "https://localhost:8080/"
        },
        "id": "ApxAbKAQpmjX",
        "outputId": "68526294-3d77-492f-fe40-562614cc08e7"
      },
      "execution_count": 39,
      "outputs": [
        {
          "output_type": "stream",
          "name": "stdout",
          "text": [
            "Accuracy (Test Set): 0.67\n",
            "Precision (Test Set): 0.87\n",
            "Recall (Test Set): 0.51\n",
            "F1-Score (Test Set): 0.64\n",
            "AUC: 0.70\n"
          ]
        }
      ]
    },
    {
      "cell_type": "code",
      "source": [
        "print('Train score: ' + str(xg.score(X_train, y_train)))\n",
        "print('Test score:' + str(xg.score(X_test, y_test)))"
      ],
      "metadata": {
        "colab": {
          "base_uri": "https://localhost:8080/"
        },
        "id": "ZQDtr_K6pogN",
        "outputId": "906bbe10-62fd-4a3f-9d23-add3a6cec634"
      },
      "execution_count": 40,
      "outputs": [
        {
          "output_type": "stream",
          "name": "stdout",
          "text": [
            "Train score: 0.6999882532597205\n",
            "Test score:0.6712071395021136\n"
          ]
        }
      ]
    },
    {
      "cell_type": "code",
      "source": [
        "from sklearn.model_selection import RandomizedSearchCV\n",
        "import numpy as np\n",
        "\n",
        "#Menjadikan ke dalam bentuk dictionary\n",
        "hyperparameters = {\n",
        "                    'max_depth' : [int(x) for x in np.linspace(10, 110, num = 9)],\n",
        "                    'min_child_weight' : [int(x) for x in np.linspace(1, 20, num = 11)],\n",
        "                    'gamma' : [float(x) for x in np.linspace(0, 1, num = 11)],\n",
        "                    'tree_method' : ['auto', 'exact', 'approx', 'hist'],\n",
        "    \n",
        "                    'colsample_bytree' : [float(x) for x in np.linspace(0, 1, num = 11)],\n",
        "                    'eta' : [float(x) for x in np.linspace(0, 1, num = 100)],\n",
        "\n",
        "                    'lambda' : [float(x) for x in np.linspace(0, 1, num = 11)],\n",
        "                    'alpha' : [float(x) for x in np.linspace(0, 1, num = 11)]\n",
        "                    }\n",
        "\n",
        "# Init\n",
        "xg = XGBClassifier(random_state=42)\n",
        "xg_tuned1 = RandomizedSearchCV(xg, hyperparameters, cv=5, random_state=42, scoring='roc_auc')\n",
        "xg_tuned1.fit(X_train,y_train)\n",
        "\n",
        "# Predict & Evaluation\n",
        "y_pred = xg_tuned1.predict(X_test)#Check performa dari model\n",
        "eval_classification(xg_tuned1, y_pred, X_train, y_train, X_test, y_test)"
      ],
      "metadata": {
        "colab": {
          "base_uri": "https://localhost:8080/"
        },
        "id": "AwZO0u19pp-F",
        "outputId": "87e937c5-dc41-4bef-9eb9-3b63e58d0038"
      },
      "execution_count": 41,
      "outputs": [
        {
          "output_type": "stream",
          "name": "stdout",
          "text": [
            "Accuracy (Test Set): 0.64\n",
            "Precision (Test Set): 0.68\n",
            "Recall (Test Set): 0.72\n",
            "F1-Score (Test Set): 0.70\n",
            "AUC: 0.63\n"
          ]
        }
      ]
    },
    {
      "cell_type": "code",
      "source": [
        "print('Train score: ' + str(xg_tuned1.score(X_train, y_train)))\n",
        "print('Test score:' + str(xg_tuned1.score(X_test, y_test)))"
      ],
      "metadata": {
        "colab": {
          "base_uri": "https://localhost:8080/"
        },
        "id": "XVwOjoyJptnx",
        "outputId": "10e6f013-c55e-4558-b87c-c290b4c01210"
      },
      "execution_count": 42,
      "outputs": [
        {
          "output_type": "stream",
          "name": "stdout",
          "text": [
            "Train score: 0.762938418300392\n",
            "Test score:0.7309610679175896\n"
          ]
        }
      ]
    },
    {
      "cell_type": "code",
      "source": [
        "show_feature_importance(xg_tuned1.best_estimator_)"
      ],
      "metadata": {
        "colab": {
          "base_uri": "https://localhost:8080/",
          "height": 485
        },
        "id": "67swn9Ncpu5n",
        "outputId": "7a8ef2c0-7deb-449b-917d-c61663ff3341"
      },
      "execution_count": 43,
      "outputs": [
        {
          "output_type": "display_data",
          "data": {
            "text/plain": [
              "<Figure size 1080x576 with 1 Axes>"
            ],
            "image/png": "[encoded data removed]"
          },
          "metadata": {
            "needs_background": "light"
          }
        }
      ]
    },
    {
      "cell_type": "code",
      "source": [
        "#data dengan feature selection\n",
        "# df2=df.copy()\n",
        "# df2 = df2.drop(columns=['ID','Customer_care_calls','Customer_rating','Gender','Product_importance','Warehouse_block_A','Warehouse_block_B','Warehouse_block_C', 'Warehouse_block_F', 'Mode_of_Shipment_Flight','Mode_of_Shipment_Road','Mode_of_Shipment_Ship', 'Cost_of_the_Product'])\n",
        "# df2"
      ],
      "metadata": {
        "id": "81DYJEaupwfF"
      },
      "execution_count": 44,
      "outputs": []
    },
    {
      "cell_type": "code",
      "source": [
        "# Split Feature and Label\n",
        "X = df2.drop(columns=['ID','Customer_care_calls','Customer_rating','Gender','Warehouse_block_A','Warehouse_block_B','Warehouse_block_C', 'Warehouse_block_F', 'Mode_of_Shipment_Flight','Mode_of_Shipment_Road','Mode_of_Shipment_Ship', 'Warehouse_block_D','Reached.on.Time_Y.N'])\n",
        "y = df2['Reached.on.Time_Y.N'] # target / label\n",
        "\n",
        "#Splitting the data into Train and Test\n",
        "from sklearn.model_selection import train_test_split \n",
        "X_train, X_test, y_train, y_test = train_test_split(X, y, test_size = 0.2, random_state = 42)\n",
        "\n",
        "\n",
        "from xgboost import XGBClassifier\n",
        "xg = XGBClassifier(random_state=42)\n",
        "xg.fit(X_train, y_train)\n",
        "\n",
        "y_pred = xg.predict(X_test)\n",
        "eval_classification(xg, y_pred, X_train, y_train, X_test, y_test)"
      ],
      "metadata": {
        "colab": {
          "base_uri": "https://localhost:8080/"
        },
        "id": "cdn9xxcUpzLD",
        "outputId": "0638d84c-c73d-462f-e7f6-3aad27d99ed7"
      },
      "execution_count": 45,
      "outputs": [
        {
          "output_type": "stream",
          "name": "stdout",
          "text": [
            "Accuracy (Test Set): 0.68\n",
            "Precision (Test Set): 0.88\n",
            "Recall (Test Set): 0.51\n",
            "F1-Score (Test Set): 0.65\n",
            "AUC: 0.71\n"
          ]
        }
      ]
    },
    {
      "cell_type": "code",
      "source": [
        "print('Train score: ' + str(xg.score(X_train, y_train)))\n",
        "print('Test score:' + str(xg.score(X_test, y_test)))"
      ],
      "metadata": {
        "colab": {
          "base_uri": "https://localhost:8080/"
        },
        "id": "uIJ-9uSYp0rx",
        "outputId": "d0d346ee-4edd-4e7a-8a92-650aab43d389"
      },
      "execution_count": 46,
      "outputs": [
        {
          "output_type": "stream",
          "name": "stdout",
          "text": [
            "Train score: 0.6991659814401504\n",
            "Test score:0.6763738844527948\n"
          ]
        }
      ]
    },
    {
      "cell_type": "code",
      "source": [
        "from sklearn.model_selection import RandomizedSearchCV\n",
        "import numpy as np\n",
        "\n",
        "#Menjadikan ke dalam bentuk dictionary\n",
        "hyperparameters = {\n",
        "                    'max_depth' : [int(x) for x in np.linspace(10, 110, num = 9)],\n",
        "                    'min_child_weight' : [int(x) for x in np.linspace(1, 20, num = 11)],\n",
        "                    'gamma' : [float(x) for x in np.linspace(0, 1, num = 11)],\n",
        "                    'tree_method' : ['auto', 'exact', 'approx', 'hist'],\n",
        "    \n",
        "                    'colsample_bytree' : [float(x) for x in np.linspace(0, 1, num = 11)],\n",
        "                    'eta' : [float(x) for x in np.linspace(0, 1, num = 100)],\n",
        "\n",
        "                    'lambda' : [float(x) for x in np.linspace(0, 1, num = 11)],\n",
        "                    'alpha' : [float(x) for x in np.linspace(0, 1, num = 11)]\n",
        "                    }\n",
        "\n",
        "# Init\n",
        "xg = XGBClassifier(random_state=42)\n",
        "xg_tuned2 = RandomizedSearchCV(xg, hyperparameters, cv=5, random_state=42, scoring='roc_auc')\n",
        "xg_tuned2.fit(X_train,y_train)\n",
        "\n",
        "# Predict & Evaluation\n",
        "y_pred = xg_tuned2.predict(X_test)#Check performa dari model\n",
        "eval_classification(xg_tuned2, y_pred, X_train, y_train, X_test, y_test)"
      ],
      "metadata": {
        "colab": {
          "base_uri": "https://localhost:8080/"
        },
        "id": "UCwNrgigp4YE",
        "outputId": "c82760e7-5628-4dd4-8e47-0e0381cbe455"
      },
      "execution_count": 47,
      "outputs": [
        {
          "output_type": "stream",
          "name": "stdout",
          "text": [
            "Accuracy (Test Set): 0.65\n",
            "Precision (Test Set): 0.71\n",
            "Recall (Test Set): 0.67\n",
            "F1-Score (Test Set): 0.69\n",
            "AUC: 0.65\n"
          ]
        }
      ]
    },
    {
      "cell_type": "code",
      "source": [
        "print('Train score: ' + str(xg_tuned2.score(X_train, y_train)))\n",
        "print('Test score:' + str(xg_tuned2.score(X_test, y_test)))"
      ],
      "metadata": {
        "colab": {
          "base_uri": "https://localhost:8080/"
        },
        "id": "k-0xxr1-p55r",
        "outputId": "0ceda4b6-da3d-47fc-ec1a-96888104c46d"
      },
      "execution_count": 48,
      "outputs": [
        {
          "output_type": "stream",
          "name": "stdout",
          "text": [
            "Train score: 0.9550895034637741\n",
            "Test score:0.7316234490147534\n"
          ]
        }
      ]
    },
    {
      "cell_type": "code",
      "source": [
        "show_feature_importance(xg_tuned2.best_estimator_)"
      ],
      "metadata": {
        "colab": {
          "base_uri": "https://localhost:8080/",
          "height": 498
        },
        "id": "PvpwKQBep7Lb",
        "outputId": "61a6e16f-d4b4-4b8b-c049-b168d4abd4d2"
      },
      "execution_count": 49,
      "outputs": [
        {
          "output_type": "display_data",
          "data": {
            "text/plain": [
              "<Figure size 1080x576 with 1 Axes>"
            ],
            "image/png": "[encoded data removed]"
          },
          "metadata": {
            "needs_background": "light"
          }
        }
      ]
    },
    {
      "cell_type": "markdown",
      "source": [
        "# **lightGBM**"
      ],
      "metadata": {
        "id": "45M5v1k9p9A1"
      }
    },
    {
      "cell_type": "code",
      "source": [
        "import lightgbm as ltb"
      ],
      "metadata": {
        "id": "Tp4wFrU_p_Iq"
      },
      "execution_count": 50,
      "outputs": []
    },
    {
      "cell_type": "code",
      "source": [
        "x = df2[['Discount_offered', 'Weight_in_gms', 'Cost_of_the_Product','Prior_purchases']] # feature yang kita gunakan\n",
        "y = df2['Reached.on.Time_Y.N'] # variable target\n",
        "\n",
        "xtrain, xtest, ytrain, ytest = train_test_split(x,y,test_size=0.2,random_state=42)"
      ],
      "metadata": {
        "id": "0pYU65KeqAeN"
      },
      "execution_count": 51,
      "outputs": []
    },
    {
      "cell_type": "code",
      "source": [
        "model = ltb.LGBMClassifier(learning_rate=0.09,num_leaves = 3, max_depth=2,random_state=42, num_iterations=132)\n",
        "model.fit(xtrain,ytrain,eval_set=[(xtest,ytest),(xtrain,ytrain)],eval_metric='auc')\n",
        "print(); print(model)\n",
        "    \n",
        "expectedy  = ytest\n",
        "predictedy = model.predict(xtest)"
      ],
      "metadata": {
        "colab": {
          "base_uri": "https://localhost:8080/"
        },
        "id": "Fag8QkBhqBxm",
        "outputId": "f0ec880e-5e12-4eb3-bbc0-25b3420a61e3"
      },
      "execution_count": 52,
      "outputs": [
        {
          "output_type": "stream",
          "name": "stdout",
          "text": [
            "[1]\ttraining's auc: 0.728153\ttraining's binary_logloss: 0.657109\tvalid_0's auc: 0.731431\tvalid_0's binary_logloss: 0.662647\n",
            "[2]\ttraining's auc: 0.728153\ttraining's binary_logloss: 0.641362\tvalid_0's auc: 0.731431\tvalid_0's binary_logloss: 0.646926\n",
            "[3]\ttraining's auc: 0.728153\ttraining's binary_logloss: 0.6279\tvalid_0's auc: 0.731431\tvalid_0's binary_logloss: 0.633469\n",
            "[4]\ttraining's auc: 0.728153\ttraining's binary_logloss: 0.616317\tvalid_0's auc: 0.731431\tvalid_0's binary_logloss: 0.621877\n",
            "[5]\ttraining's auc: 0.728779\ttraining's binary_logloss: 0.606294\tvalid_0's auc: 0.731994\tvalid_0's binary_logloss: 0.611853\n",
            "[6]\ttraining's auc: 0.728779\ttraining's binary_logloss: 0.597575\tvalid_0's auc: 0.731994\tvalid_0's binary_logloss: 0.603108\n",
            "[7]\ttraining's auc: 0.728779\ttraining's binary_logloss: 0.589963\tvalid_0's auc: 0.731994\tvalid_0's binary_logloss: 0.595467\n",
            "[8]\ttraining's auc: 0.728779\ttraining's binary_logloss: 0.583287\tvalid_0's auc: 0.731994\tvalid_0's binary_logloss: 0.588773\n",
            "[9]\ttraining's auc: 0.738179\ttraining's binary_logloss: 0.577359\tvalid_0's auc: 0.736514\tvalid_0's binary_logloss: 0.583118\n",
            "[10]\ttraining's auc: 0.738221\ttraining's binary_logloss: 0.572125\tvalid_0's auc: 0.736162\tvalid_0's binary_logloss: 0.577852\n",
            "[11]\ttraining's auc: 0.738212\ttraining's binary_logloss: 0.567449\tvalid_0's auc: 0.736707\tvalid_0's binary_logloss: 0.573425\n",
            "[12]\ttraining's auc: 0.738212\ttraining's binary_logloss: 0.563297\tvalid_0's auc: 0.736707\tvalid_0's binary_logloss: 0.569215\n",
            "[13]\ttraining's auc: 0.738202\ttraining's binary_logloss: 0.559571\tvalid_0's auc: 0.736743\tvalid_0's binary_logloss: 0.565717\n",
            "[14]\ttraining's auc: 0.738202\ttraining's binary_logloss: 0.556242\tvalid_0's auc: 0.736743\tvalid_0's binary_logloss: 0.562339\n",
            "[15]\ttraining's auc: 0.738202\ttraining's binary_logloss: 0.553244\tvalid_0's auc: 0.736743\tvalid_0's binary_logloss: 0.559552\n",
            "[16]\ttraining's auc: 0.738202\ttraining's binary_logloss: 0.550555\tvalid_0's auc: 0.736743\tvalid_0's binary_logloss: 0.55681\n",
            "[17]\ttraining's auc: 0.738202\ttraining's binary_logloss: 0.548125\tvalid_0's auc: 0.736743\tvalid_0's binary_logloss: 0.554576\n",
            "[18]\ttraining's auc: 0.739762\ttraining's binary_logloss: 0.545934\tvalid_0's auc: 0.734539\tvalid_0's binary_logloss: 0.552462\n",
            "[19]\ttraining's auc: 0.739762\ttraining's binary_logloss: 0.543955\tvalid_0's auc: 0.734539\tvalid_0's binary_logloss: 0.550665\n",
            "[20]\ttraining's auc: 0.739762\ttraining's binary_logloss: 0.542156\tvalid_0's auc: 0.734539\tvalid_0's binary_logloss: 0.548807\n",
            "[21]\ttraining's auc: 0.739762\ttraining's binary_logloss: 0.540531\tvalid_0's auc: 0.734539\tvalid_0's binary_logloss: 0.547353\n",
            "[22]\ttraining's auc: 0.739762\ttraining's binary_logloss: 0.539051\tvalid_0's auc: 0.734539\tvalid_0's binary_logloss: 0.545814\n",
            "[23]\ttraining's auc: 0.739762\ttraining's binary_logloss: 0.537711\tvalid_0's auc: 0.734539\tvalid_0's binary_logloss: 0.544635\n",
            "[24]\ttraining's auc: 0.739762\ttraining's binary_logloss: 0.536486\tvalid_0's auc: 0.734539\tvalid_0's binary_logloss: 0.543353\n",
            "[25]\ttraining's auc: 0.739762\ttraining's binary_logloss: 0.535376\tvalid_0's auc: 0.734539\tvalid_0's binary_logloss: 0.542396\n",
            "[26]\ttraining's auc: 0.739762\ttraining's binary_logloss: 0.534356\tvalid_0's auc: 0.734539\tvalid_0's binary_logloss: 0.54143\n",
            "[27]\ttraining's auc: 0.740727\ttraining's binary_logloss: 0.533436\tvalid_0's auc: 0.733862\tvalid_0's binary_logloss: 0.540652\n",
            "[28]\ttraining's auc: 0.739762\ttraining's binary_logloss: 0.532584\tvalid_0's auc: 0.734539\tvalid_0's binary_logloss: 0.539742\n",
            "[29]\ttraining's auc: 0.740727\ttraining's binary_logloss: 0.531815\tvalid_0's auc: 0.733862\tvalid_0's binary_logloss: 0.539109\n",
            "[30]\ttraining's auc: 0.739762\ttraining's binary_logloss: 0.531103\tvalid_0's auc: 0.734539\tvalid_0's binary_logloss: 0.538341\n",
            "[31]\ttraining's auc: 0.740727\ttraining's binary_logloss: 0.53046\tvalid_0's auc: 0.733862\tvalid_0's binary_logloss: 0.537826\n",
            "[32]\ttraining's auc: 0.740727\ttraining's binary_logloss: 0.529862\tvalid_0's auc: 0.733862\tvalid_0's binary_logloss: 0.537271\n",
            "[33]\ttraining's auc: 0.741241\ttraining's binary_logloss: 0.52932\tvalid_0's auc: 0.734075\tvalid_0's binary_logloss: 0.536746\n",
            "[34]\ttraining's auc: 0.740228\ttraining's binary_logloss: 0.52882\tvalid_0's auc: 0.734705\tvalid_0's binary_logloss: 0.536194\n",
            "[35]\ttraining's auc: 0.741241\ttraining's binary_logloss: 0.528351\tvalid_0's auc: 0.734075\tvalid_0's binary_logloss: 0.535851\n",
            "[36]\ttraining's auc: 0.740228\ttraining's binary_logloss: 0.527929\tvalid_0's auc: 0.734705\tvalid_0's binary_logloss: 0.535379\n",
            "[37]\ttraining's auc: 0.741365\ttraining's binary_logloss: 0.527534\tvalid_0's auc: 0.73333\tvalid_0's binary_logloss: 0.535103\n",
            "[38]\ttraining's auc: 0.741436\ttraining's binary_logloss: 0.527171\tvalid_0's auc: 0.733466\tvalid_0's binary_logloss: 0.534755\n",
            "[39]\ttraining's auc: 0.741312\ttraining's binary_logloss: 0.526839\tvalid_0's auc: 0.734211\tvalid_0's binary_logloss: 0.534363\n",
            "[40]\ttraining's auc: 0.741436\ttraining's binary_logloss: 0.526526\tvalid_0's auc: 0.733466\tvalid_0's binary_logloss: 0.534165\n",
            "[41]\ttraining's auc: 0.742221\ttraining's binary_logloss: 0.526239\tvalid_0's auc: 0.733456\tvalid_0's binary_logloss: 0.533941\n",
            "[42]\ttraining's auc: 0.742545\ttraining's binary_logloss: 0.525973\tvalid_0's auc: 0.73423\tvalid_0's binary_logloss: 0.533652\n",
            "[43]\ttraining's auc: 0.742545\ttraining's binary_logloss: 0.525723\tvalid_0's auc: 0.73423\tvalid_0's binary_logloss: 0.533352\n",
            "[44]\ttraining's auc: 0.743537\ttraining's binary_logloss: 0.525485\tvalid_0's auc: 0.735125\tvalid_0's binary_logloss: 0.533169\n",
            "[45]\ttraining's auc: 0.743715\ttraining's binary_logloss: 0.525267\tvalid_0's auc: 0.735361\tvalid_0's binary_logloss: 0.5329\n",
            "[46]\ttraining's auc: 0.743715\ttraining's binary_logloss: 0.525058\tvalid_0's auc: 0.735361\tvalid_0's binary_logloss: 0.532746\n",
            "[47]\ttraining's auc: 0.743764\ttraining's binary_logloss: 0.524866\tvalid_0's auc: 0.735427\tvalid_0's binary_logloss: 0.532506\n",
            "[48]\ttraining's auc: 0.743721\ttraining's binary_logloss: 0.524682\tvalid_0's auc: 0.735291\tvalid_0's binary_logloss: 0.532376\n",
            "[49]\ttraining's auc: 0.743719\ttraining's binary_logloss: 0.524511\tvalid_0's auc: 0.735281\tvalid_0's binary_logloss: 0.532158\n",
            "[50]\ttraining's auc: 0.743719\ttraining's binary_logloss: 0.524348\tvalid_0's auc: 0.735281\tvalid_0's binary_logloss: 0.532048\n",
            "[51]\ttraining's auc: 0.743718\ttraining's binary_logloss: 0.524196\tvalid_0's auc: 0.735278\tvalid_0's binary_logloss: 0.531848\n",
            "[52]\ttraining's auc: 0.743718\ttraining's binary_logloss: 0.52405\tvalid_0's auc: 0.735278\tvalid_0's binary_logloss: 0.531755\n",
            "[53]\ttraining's auc: 0.743776\ttraining's binary_logloss: 0.522452\tvalid_0's auc: 0.735325\tvalid_0's binary_logloss: 0.530214\n",
            "[54]\ttraining's auc: 0.743776\ttraining's binary_logloss: 0.522321\tvalid_0's auc: 0.735327\tvalid_0's binary_logloss: 0.530094\n",
            "[55]\ttraining's auc: 0.744309\ttraining's binary_logloss: 0.522186\tvalid_0's auc: 0.734935\tvalid_0's binary_logloss: 0.530118\n",
            "[56]\ttraining's auc: 0.744287\ttraining's binary_logloss: 0.522065\tvalid_0's auc: 0.734863\tvalid_0's binary_logloss: 0.530049\n",
            "[57]\ttraining's auc: 0.744337\ttraining's binary_logloss: 0.520635\tvalid_0's auc: 0.734873\tvalid_0's binary_logloss: 0.528653\n",
            "[58]\ttraining's auc: 0.744458\ttraining's binary_logloss: 0.520449\tvalid_0's auc: 0.73483\tvalid_0's binary_logloss: 0.528457\n",
            "[59]\ttraining's auc: 0.744454\ttraining's binary_logloss: 0.519205\tvalid_0's auc: 0.73483\tvalid_0's binary_logloss: 0.527276\n",
            "[60]\ttraining's auc: 0.744633\ttraining's binary_logloss: 0.519098\tvalid_0's auc: 0.734723\tvalid_0's binary_logloss: 0.527363\n",
            "[61]\ttraining's auc: 0.744741\ttraining's binary_logloss: 0.518886\tvalid_0's auc: 0.734441\tvalid_0's binary_logloss: 0.527178\n",
            "[62]\ttraining's auc: 0.745079\ttraining's binary_logloss: 0.518791\tvalid_0's auc: 0.734601\tvalid_0's binary_logloss: 0.527101\n",
            "[63]\ttraining's auc: 0.745125\ttraining's binary_logloss: 0.517634\tvalid_0's auc: 0.734634\tvalid_0's binary_logloss: 0.525978\n",
            "[64]\ttraining's auc: 0.745558\ttraining's binary_logloss: 0.517546\tvalid_0's auc: 0.73425\tvalid_0's binary_logloss: 0.526021\n",
            "[65]\ttraining's auc: 0.745901\ttraining's binary_logloss: 0.517446\tvalid_0's auc: 0.733948\tvalid_0's binary_logloss: 0.525951\n",
            "[66]\ttraining's auc: 0.745895\ttraining's binary_logloss: 0.517342\tvalid_0's auc: 0.733973\tvalid_0's binary_logloss: 0.525774\n",
            "[67]\ttraining's auc: 0.746725\ttraining's binary_logloss: 0.516705\tvalid_0's auc: 0.734883\tvalid_0's binary_logloss: 0.525182\n",
            "[68]\ttraining's auc: 0.746738\ttraining's binary_logloss: 0.516579\tvalid_0's auc: 0.734896\tvalid_0's binary_logloss: 0.525042\n",
            "[69]\ttraining's auc: 0.746757\ttraining's binary_logloss: 0.516501\tvalid_0's auc: 0.734976\tvalid_0's binary_logloss: 0.525005\n",
            "[70]\ttraining's auc: 0.746811\ttraining's binary_logloss: 0.515517\tvalid_0's auc: 0.73502\tvalid_0's binary_logloss: 0.524046\n",
            "[71]\ttraining's auc: 0.746914\ttraining's binary_logloss: 0.515444\tvalid_0's auc: 0.734895\tvalid_0's binary_logloss: 0.524132\n",
            "[72]\ttraining's auc: 0.747007\ttraining's binary_logloss: 0.515358\tvalid_0's auc: 0.735022\tvalid_0's binary_logloss: 0.524033\n",
            "[73]\ttraining's auc: 0.747157\ttraining's binary_logloss: 0.515248\tvalid_0's auc: 0.734796\tvalid_0's binary_logloss: 0.523917\n",
            "[74]\ttraining's auc: 0.747464\ttraining's binary_logloss: 0.515184\tvalid_0's auc: 0.73518\tvalid_0's binary_logloss: 0.523853\n",
            "[75]\ttraining's auc: 0.747488\ttraining's binary_logloss: 0.514322\tvalid_0's auc: 0.735209\tvalid_0's binary_logloss: 0.523011\n",
            "[76]\ttraining's auc: 0.747352\ttraining's binary_logloss: 0.51426\tvalid_0's auc: 0.735294\tvalid_0's binary_logloss: 0.523061\n",
            "[77]\ttraining's auc: 0.747487\ttraining's binary_logloss: 0.514117\tvalid_0's auc: 0.735055\tvalid_0's binary_logloss: 0.522936\n",
            "[78]\ttraining's auc: 0.74814\ttraining's binary_logloss: 0.514047\tvalid_0's auc: 0.734282\tvalid_0's binary_logloss: 0.522885\n",
            "[79]\ttraining's auc: 0.748192\ttraining's binary_logloss: 0.513993\tvalid_0's auc: 0.73436\tvalid_0's binary_logloss: 0.522855\n",
            "[80]\ttraining's auc: 0.748172\ttraining's binary_logloss: 0.513203\tvalid_0's auc: 0.734271\tvalid_0's binary_logloss: 0.522142\n",
            "[81]\ttraining's auc: 0.748216\ttraining's binary_logloss: 0.513151\tvalid_0's auc: 0.734248\tvalid_0's binary_logloss: 0.522223\n",
            "[82]\ttraining's auc: 0.748201\ttraining's binary_logloss: 0.513068\tvalid_0's auc: 0.734546\tvalid_0's binary_logloss: 0.522182\n",
            "[83]\ttraining's auc: 0.748222\ttraining's binary_logloss: 0.51302\tvalid_0's auc: 0.73453\tvalid_0's binary_logloss: 0.522143\n",
            "[84]\ttraining's auc: 0.748256\ttraining's binary_logloss: 0.512957\tvalid_0's auc: 0.734587\tvalid_0's binary_logloss: 0.522026\n",
            "[85]\ttraining's auc: 0.748275\ttraining's binary_logloss: 0.512295\tvalid_0's auc: 0.734606\tvalid_0's binary_logloss: 0.521385\n",
            "[86]\ttraining's auc: 0.749775\ttraining's binary_logloss: 0.512202\tvalid_0's auc: 0.735956\tvalid_0's binary_logloss: 0.521308\n",
            "[87]\ttraining's auc: 0.749778\ttraining's binary_logloss: 0.512158\tvalid_0's auc: 0.735955\tvalid_0's binary_logloss: 0.52138\n",
            "[88]\ttraining's auc: 0.750523\ttraining's binary_logloss: 0.512116\tvalid_0's auc: 0.736314\tvalid_0's binary_logloss: 0.521348\n",
            "[89]\ttraining's auc: 0.750557\ttraining's binary_logloss: 0.512078\tvalid_0's auc: 0.736288\tvalid_0's binary_logloss: 0.521338\n",
            "[90]\ttraining's auc: 0.75057\ttraining's binary_logloss: 0.511446\tvalid_0's auc: 0.736203\tvalid_0's binary_logloss: 0.52078\n",
            "[91]\ttraining's auc: 0.7508\ttraining's binary_logloss: 0.511381\tvalid_0's auc: 0.736104\tvalid_0's binary_logloss: 0.520791\n",
            "[92]\ttraining's auc: 0.750716\ttraining's binary_logloss: 0.511344\tvalid_0's auc: 0.736252\tvalid_0's binary_logloss: 0.520847\n",
            "[93]\ttraining's auc: 0.750726\ttraining's binary_logloss: 0.511274\tvalid_0's auc: 0.736192\tvalid_0's binary_logloss: 0.520794\n",
            "[94]\ttraining's auc: 0.750751\ttraining's binary_logloss: 0.511235\tvalid_0's auc: 0.736198\tvalid_0's binary_logloss: 0.520737\n",
            "[95]\ttraining's auc: 0.750763\ttraining's binary_logloss: 0.510641\tvalid_0's auc: 0.736288\tvalid_0's binary_logloss: 0.520165\n",
            "[96]\ttraining's auc: 0.750932\ttraining's binary_logloss: 0.510281\tvalid_0's auc: 0.736274\tvalid_0's binary_logloss: 0.519791\n",
            "[97]\ttraining's auc: 0.750916\ttraining's binary_logloss: 0.510249\tvalid_0's auc: 0.736166\tvalid_0's binary_logloss: 0.519842\n",
            "[98]\ttraining's auc: 0.750929\ttraining's binary_logloss: 0.510218\tvalid_0's auc: 0.736245\tvalid_0's binary_logloss: 0.519836\n",
            "[99]\ttraining's auc: 0.75114\ttraining's binary_logloss: 0.510144\tvalid_0's auc: 0.736167\tvalid_0's binary_logloss: 0.519841\n",
            "[100]\ttraining's auc: 0.751595\ttraining's binary_logloss: 0.510095\tvalid_0's auc: 0.73594\tvalid_0's binary_logloss: 0.519891\n",
            "[101]\ttraining's auc: 0.751516\ttraining's binary_logloss: 0.509916\tvalid_0's auc: 0.736551\tvalid_0's binary_logloss: 0.519757\n",
            "[102]\ttraining's auc: 0.751515\ttraining's binary_logloss: 0.509393\tvalid_0's auc: 0.73649\tvalid_0's binary_logloss: 0.51925\n",
            "[103]\ttraining's auc: 0.751808\ttraining's binary_logloss: 0.509313\tvalid_0's auc: 0.736333\tvalid_0's binary_logloss: 0.51925\n",
            "[104]\ttraining's auc: 0.751881\ttraining's binary_logloss: 0.509287\tvalid_0's auc: 0.736314\tvalid_0's binary_logloss: 0.51922\n",
            "[105]\ttraining's auc: 0.751879\ttraining's binary_logloss: 0.508821\tvalid_0's auc: 0.736323\tvalid_0's binary_logloss: 0.518768\n",
            "[106]\ttraining's auc: 0.751878\ttraining's binary_logloss: 0.508795\tvalid_0's auc: 0.736142\tvalid_0's binary_logloss: 0.518837\n",
            "[107]\ttraining's auc: 0.751881\ttraining's binary_logloss: 0.508729\tvalid_0's auc: 0.736167\tvalid_0's binary_logloss: 0.518783\n",
            "[108]\ttraining's auc: 0.751835\ttraining's binary_logloss: 0.508617\tvalid_0's auc: 0.736507\tvalid_0's binary_logloss: 0.518648\n",
            "[109]\ttraining's auc: 0.752035\ttraining's binary_logloss: 0.508571\tvalid_0's auc: 0.736653\tvalid_0's binary_logloss: 0.518581\n",
            "[110]\ttraining's auc: 0.752314\ttraining's binary_logloss: 0.508505\tvalid_0's auc: 0.736625\tvalid_0's binary_logloss: 0.518582\n",
            "[111]\ttraining's auc: 0.752409\ttraining's binary_logloss: 0.508482\tvalid_0's auc: 0.736509\tvalid_0's binary_logloss: 0.518564\n",
            "[112]\ttraining's auc: 0.752345\ttraining's binary_logloss: 0.50846\tvalid_0's auc: 0.73654\tvalid_0's binary_logloss: 0.518614\n",
            "[113]\ttraining's auc: 0.752482\ttraining's binary_logloss: 0.508418\tvalid_0's auc: 0.736815\tvalid_0's binary_logloss: 0.518561\n",
            "[114]\ttraining's auc: 0.75262\ttraining's binary_logloss: 0.508397\tvalid_0's auc: 0.736561\tvalid_0's binary_logloss: 0.518558\n",
            "[115]\ttraining's auc: 0.752729\ttraining's binary_logloss: 0.508348\tvalid_0's auc: 0.736495\tvalid_0's binary_logloss: 0.518569\n",
            "[116]\ttraining's auc: 0.752728\ttraining's binary_logloss: 0.50807\tvalid_0's auc: 0.736844\tvalid_0's binary_logloss: 0.518278\n",
            "[117]\ttraining's auc: 0.752762\ttraining's binary_logloss: 0.50766\tvalid_0's auc: 0.736711\tvalid_0's binary_logloss: 0.51788\n",
            "[118]\ttraining's auc: 0.753363\ttraining's binary_logloss: 0.507579\tvalid_0's auc: 0.737053\tvalid_0's binary_logloss: 0.517773\n",
            "[119]\ttraining's auc: 0.753481\ttraining's binary_logloss: 0.507524\tvalid_0's auc: 0.73705\tvalid_0's binary_logloss: 0.517774\n",
            "[120]\ttraining's auc: 0.754006\ttraining's binary_logloss: 0.507504\tvalid_0's auc: 0.737436\tvalid_0's binary_logloss: 0.51779\n",
            "[121]\ttraining's auc: 0.754226\ttraining's binary_logloss: 0.507161\tvalid_0's auc: 0.737491\tvalid_0's binary_logloss: 0.517447\n",
            "[122]\ttraining's auc: 0.754266\ttraining's binary_logloss: 0.507089\tvalid_0's auc: 0.737301\tvalid_0's binary_logloss: 0.517433\n",
            "[123]\ttraining's auc: 0.754426\ttraining's binary_logloss: 0.507027\tvalid_0's auc: 0.73649\tvalid_0's binary_logloss: 0.517448\n",
            "[124]\ttraining's auc: 0.754796\ttraining's binary_logloss: 0.506936\tvalid_0's auc: 0.738241\tvalid_0's binary_logloss: 0.517311\n",
            "[125]\ttraining's auc: 0.754992\ttraining's binary_logloss: 0.506829\tvalid_0's auc: 0.738923\tvalid_0's binary_logloss: 0.517258\n",
            "[126]\ttraining's auc: 0.755119\ttraining's binary_logloss: 0.506794\tvalid_0's auc: 0.738917\tvalid_0's binary_logloss: 0.51724\n",
            "[127]\ttraining's auc: 0.755248\ttraining's binary_logloss: 0.506736\tvalid_0's auc: 0.738882\tvalid_0's binary_logloss: 0.517163\n",
            "[128]\ttraining's auc: 0.755316\ttraining's binary_logloss: 0.506711\tvalid_0's auc: 0.738959\tvalid_0's binary_logloss: 0.517137\n",
            "[129]\ttraining's auc: 0.755234\ttraining's binary_logloss: 0.506635\tvalid_0's auc: 0.739243\tvalid_0's binary_logloss: 0.517043\n",
            "[130]\ttraining's auc: 0.755235\ttraining's binary_logloss: 0.506282\tvalid_0's auc: 0.739186\tvalid_0's binary_logloss: 0.516706\n",
            "[131]\ttraining's auc: 0.755299\ttraining's binary_logloss: 0.505966\tvalid_0's auc: 0.739141\tvalid_0's binary_logloss: 0.516403\n",
            "[132]\ttraining's auc: 0.755385\ttraining's binary_logloss: 0.505949\tvalid_0's auc: 0.738871\tvalid_0's binary_logloss: 0.516451\n",
            "\n",
            "LGBMClassifier(learning_rate=0.09, max_depth=2, num_iterations=132,\n",
            "               num_leaves=3, random_state=42)\n"
          ]
        }
      ]
    },
    {
      "cell_type": "code",
      "source": [
        "from sklearn import metrics\n",
        "print(metrics.classification_report(expectedy, predictedy))\n",
        "print(metrics.confusion_matrix(expectedy, predictedy))"
      ],
      "metadata": {
        "colab": {
          "base_uri": "https://localhost:8080/"
        },
        "id": "9UmCwffTqEM_",
        "outputId": "55e10062-78c2-42d2-f8d1-b4ad9972b98b"
      },
      "execution_count": 53,
      "outputs": [
        {
          "output_type": "stream",
          "name": "stdout",
          "text": [
            "              precision    recall  f1-score   support\n",
            "\n",
            "           0       0.58      0.89      0.70       897\n",
            "           1       0.87      0.52      0.65      1232\n",
            "\n",
            "    accuracy                           0.68      2129\n",
            "   macro avg       0.72      0.71      0.68      2129\n",
            "weighted avg       0.75      0.68      0.67      2129\n",
            "\n",
            "[[802  95]\n",
            " [589 643]]\n"
          ]
        }
      ]
    },
    {
      "cell_type": "code",
      "source": [
        "ltb.plot_importance(model)"
      ],
      "metadata": {
        "colab": {
          "base_uri": "https://localhost:8080/",
          "height": 312
        },
        "id": "FVw0D0HsqFkG",
        "outputId": "ba9016b6-b5ec-4dc6-a4ee-60089318e7da"
      },
      "execution_count": 54,
      "outputs": [
        {
          "output_type": "execute_result",
          "data": {
            "text/plain": [
              "<matplotlib.axes._subplots.AxesSubplot at 0x7fb3c1d6ba90>"
            ]
          },
          "metadata": {},
          "execution_count": 54
        },
        {
          "output_type": "display_data",
          "data": {
            "text/plain": [
              "<Figure size 432x288 with 1 Axes>"
            ],
            "image/png": "[encoded data removed]"
          },
          "metadata": {
            "needs_background": "light"
          }
        }
      ]
    },
    {
      "cell_type": "markdown",
      "source": [
        "# **KNN**"
      ],
      "metadata": {
        "id": "OxEPoBooqHGq"
      }
    },
    {
      "cell_type": "code",
      "source": [
        "# import warnings\n",
        "# warnings.filterwarnings('ignore')\n",
        "\n",
        "# import matplotlib.pyplot as plt\n",
        "# import pandas as pd\n",
        "# import numpy as np\n",
        "# import seaborn as sns"
      ],
      "metadata": {
        "id": "Gh715TAXqJvF"
      },
      "execution_count": 55,
      "outputs": []
    },
    {
      "cell_type": "code",
      "source": [
        "from sklearn.metrics import accuracy_score, precision_score, recall_score, f1_score\n",
        "from sklearn.metrics import roc_curve, auc\n",
        "\n",
        "def eval_classification(model, pred, xtrain, ytrain, xtest, ytest):\n",
        "    print(\"Accuracy (Test Set): %.2f\" % accuracy_score(ytest, pred))\n",
        "    print(\"Precision (Test Set): %.2f\" % precision_score(ytest, pred))\n",
        "    print(\"Recall (Test Set): %.2f\" % recall_score(ytest, pred))\n",
        "    print(\"F1-Score (Test Set): %.2f\" % f1_score(ytest, pred))\n",
        "    \n",
        "    fpr, tpr, thresholds = roc_curve(ytest, pred, pos_label=1) # pos_label: label yang kita anggap positive\n",
        "    print(\"AUC: %.2f\" % auc(fpr, tpr))"
      ],
      "metadata": {
        "id": "lJDOH0LdqLQR"
      },
      "execution_count": 56,
      "outputs": []
    },
    {
      "cell_type": "code",
      "source": [
        "# df = pd.read_csv(\"data_clean_new.csv\")\n",
        "# df.info()"
      ],
      "metadata": {
        "id": "qsXEGmieqQEL"
      },
      "execution_count": 57,
      "outputs": []
    },
    {
      "cell_type": "code",
      "source": [
        "#import pandas as pd\n",
        "#df = pd.read_csv(\"data_clean_new.csv\")\n",
        "\n",
        "# Split Feature and Label\n",
        "X = df2.drop(columns=['ID', 'Reached.on.Time_Y.N', 'Customer_care_calls', 'Customer_rating'])\n",
        "y = df2['Reached.on.Time_Y.N'] # target / label\n",
        "\n",
        "#Splitting the data into Train and Test\n",
        "from sklearn.model_selection import train_test_split \n",
        "X_train, X_test, y_train, y_test = train_test_split(X, y, test_size = 0.2, random_state = 42)"
      ],
      "metadata": {
        "id": "58GC9TdjqSf6"
      },
      "execution_count": 58,
      "outputs": []
    },
    {
      "cell_type": "markdown",
      "source": [
        "# **Init Model**"
      ],
      "metadata": {
        "id": "ILUtx5PLqVTQ"
      }
    },
    {
      "cell_type": "code",
      "source": [
        "from sklearn.neighbors import KNeighborsClassifier\n",
        "model = KNeighborsClassifier()\n",
        "model.fit(X_train, y_train)"
      ],
      "metadata": {
        "colab": {
          "base_uri": "https://localhost:8080/"
        },
        "id": "253U_2jyqLzt",
        "outputId": "8977854d-0c5e-4035-fa1e-20e75cd485b4"
      },
      "execution_count": 59,
      "outputs": [
        {
          "output_type": "execute_result",
          "data": {
            "text/plain": [
              "KNeighborsClassifier()"
            ]
          },
          "metadata": {},
          "execution_count": 59
        }
      ]
    },
    {
      "cell_type": "code",
      "source": [
        "y_pred = model.predict(X_test)\n",
        "eval_classification(model, y_pred, X_train, y_train, X_test, y_test)"
      ],
      "metadata": {
        "colab": {
          "base_uri": "https://localhost:8080/"
        },
        "id": "PS7zjZeYqc_h",
        "outputId": "168833cc-4506-4234-c10b-d7a5c067be06"
      },
      "execution_count": 60,
      "outputs": [
        {
          "output_type": "stream",
          "name": "stdout",
          "text": [
            "Accuracy (Test Set): 0.63\n",
            "Precision (Test Set): 0.69\n",
            "Recall (Test Set): 0.64\n",
            "F1-Score (Test Set): 0.67\n",
            "AUC: 0.63\n"
          ]
        }
      ]
    },
    {
      "cell_type": "markdown",
      "source": [
        "# **Tune Hyperparameter with RandomSearch**"
      ],
      "metadata": {
        "id": "AFAiDuJrqefs"
      }
    },
    {
      "cell_type": "code",
      "source": [
        "from sklearn.model_selection import RandomizedSearchCV\n",
        "from sklearn.neighbors import KNeighborsClassifier\n",
        "from scipy.stats import uniform\n",
        "\n",
        "# List of hyperparameter\n",
        "n_neighbors = list(range(2,30))\n",
        "p=[1,2]\n",
        "algorithm = ['auto', 'ball_tree', 'kd_tree', 'brute']\n",
        "hyperparameters = dict(n_neighbors=n_neighbors, p=p, algorithm=algorithm)\n",
        "\n",
        "# Init model\n",
        "knn = KNeighborsClassifier()\n",
        "model = RandomizedSearchCV(knn, hyperparameters, cv=5, random_state=42, scoring='roc_auc')\n",
        "\n",
        "# Fit Model & Evaluasi\n",
        "model.fit(X_train, y_train)\n",
        "y_pred = model.predict(X_test)\n",
        "eval_classification(model, y_pred, X_train, y_train, X_test, y_test)"
      ],
      "metadata": {
        "colab": {
          "base_uri": "https://localhost:8080/"
        },
        "id": "zScc0A4xqgkH",
        "outputId": "1ae29534-b866-41aa-a8a0-ed717833cd12"
      },
      "execution_count": 61,
      "outputs": [
        {
          "output_type": "stream",
          "name": "stdout",
          "text": [
            "Accuracy (Test Set): 0.66\n",
            "Precision (Test Set): 0.78\n",
            "Recall (Test Set): 0.56\n",
            "F1-Score (Test Set): 0.65\n",
            "AUC: 0.67\n"
          ]
        }
      ]
    },
    {
      "cell_type": "code",
      "source": [
        "print('Best n_neighbors:', model.best_estimator_.get_params()['n_neighbors'])\n",
        "print('Best p:', model.best_estimator_.get_params()['p'])\n",
        "print('Best algorithm:', model.best_estimator_.get_params()['algorithm'])"
      ],
      "metadata": {
        "colab": {
          "base_uri": "https://localhost:8080/"
        },
        "id": "armUG4Feqh-N",
        "outputId": "dea61869-7432-4cab-a0d7-ae1299e20cfc"
      },
      "execution_count": 62,
      "outputs": [
        {
          "output_type": "stream",
          "name": "stdout",
          "text": [
            "Best n_neighbors: 28\n",
            "Best p: 2\n",
            "Best algorithm: brute\n"
          ]
        }
      ]
    },
    {
      "cell_type": "code",
      "source": [
        "print('Train score: ' + str(model.score(X_train, y_train))) #accuracy\n",
        "print('Test score:' + str(model.score(X_test, y_test))) #accuracy"
      ],
      "metadata": {
        "colab": {
          "base_uri": "https://localhost:8080/"
        },
        "id": "RGfmSM93qjWR",
        "outputId": "a8137a83-1b55-4316-df73-3b07d3f7f4b1"
      },
      "execution_count": 63,
      "outputs": [
        {
          "output_type": "stream",
          "name": "stdout",
          "text": [
            "Train score: 0.7781126362708464\n",
            "Test score:0.7169166883840796\n"
          ]
        }
      ]
    },
    {
      "cell_type": "markdown",
      "source": [
        "# **Decision Tree**"
      ],
      "metadata": {
        "id": "3GTCfWcBqk3N"
      }
    },
    {
      "cell_type": "code",
      "source": [
        "X = df2.drop(columns=['ID','Reached.on.Time_Y.N'])\n",
        "y = df2['Reached.on.Time_Y.N'] # target / label\n",
        "\n",
        "#Splitting the data into Train and Test\n",
        "from sklearn.model_selection import train_test_split \n",
        "X_train, X_test, y_train, y_test = train_test_split(X, y, test_size = 0.2, random_state = 42)"
      ],
      "metadata": {
        "id": "OIkXcpbdqnAt"
      },
      "execution_count": 64,
      "outputs": []
    },
    {
      "cell_type": "code",
      "source": [
        "from sklearn.tree import DecisionTreeClassifier\n",
        "model = DecisionTreeClassifier(random_state=42)\n",
        "model.fit(X_train,y_train)\n",
        "\n",
        "y_pred = model.predict(X_test)\n",
        "eval_classification(model, y_pred, X_train, y_train, X_test, y_test)"
      ],
      "metadata": {
        "colab": {
          "base_uri": "https://localhost:8080/"
        },
        "id": "9m10RrgYu6V-",
        "outputId": "db154f39-8f2e-4a53-f364-6ee5ee9fda7f"
      },
      "execution_count": 65,
      "outputs": [
        {
          "output_type": "stream",
          "name": "stdout",
          "text": [
            "Accuracy (Test Set): 0.62\n",
            "Precision (Test Set): 0.67\n",
            "Recall (Test Set): 0.70\n",
            "F1-Score (Test Set): 0.68\n",
            "AUC: 0.61\n"
          ]
        }
      ]
    },
    {
      "cell_type": "code",
      "source": [
        "print('Train score: ' + str(model.score(X_train, y_train))) #accuracy\n",
        "print('Test score:' + str(model.score(X_test, y_test))) #accuracy"
      ],
      "metadata": {
        "colab": {
          "base_uri": "https://localhost:8080/"
        },
        "id": "Iie6xkDwu7ty",
        "outputId": "cf77da4e-51f7-4f70-be26-77e3787290fa"
      },
      "execution_count": 66,
      "outputs": [
        {
          "output_type": "stream",
          "name": "stdout",
          "text": [
            "Train score: 1.0\n",
            "Test score:0.6228276186002818\n"
          ]
        }
      ]
    },
    {
      "cell_type": "markdown",
      "source": [
        "**Tune Hyperparameter with RandomSearch**"
      ],
      "metadata": {
        "id": "_weKoCBFu_Oi"
      }
    },
    {
      "cell_type": "code",
      "source": [
        "from sklearn.model_selection import RandomizedSearchCV\n",
        "from scipy.stats import uniform\n",
        "\n",
        "# List of hyperparameter\n",
        "max_depth = [int(x) for x in np.linspace(1, 110, num = 30)] # Maximum number of levels in tree\n",
        "min_samples_split = [2, 5, 10, 100] # Minimum number of samples required to split a node\n",
        "min_samples_leaf = [1, 2, 4, 10, 20, 50] # Minimum number of samples required at each leaf node\n",
        "max_features = ['auto', 'sqrt'] # Number of features to consider at every split\n",
        "criterion = ['gini', 'entropy']\n",
        "splitter = ['best', 'random']\n",
        "\n",
        "hyperparameters = dict(max_depth=max_depth, \n",
        "                       min_samples_split=min_samples_split, \n",
        "                       min_samples_leaf=min_samples_leaf,\n",
        "                       max_features=max_features,\n",
        "                       criterion=criterion,\n",
        "                       splitter=splitter\n",
        "                      )\n",
        "\n",
        "# Inisialisasi Model\n",
        "dt = DecisionTreeClassifier(random_state=42)\n",
        "model = RandomizedSearchCV(dt, hyperparameters, cv=5, random_state=42, scoring='roc_auc')\n",
        "model.fit(X_train, y_train)\n",
        "\n",
        "# Predict & Evaluation\n",
        "y_pred = model.predict(X_test)#Check performa dari model\n",
        "eval_classification(model, y_pred, X_train, y_train, X_test, y_test)"
      ],
      "metadata": {
        "colab": {
          "base_uri": "https://localhost:8080/"
        },
        "id": "Gg9mjCXKvBQr",
        "outputId": "835ff05c-3591-433d-f667-e134c8d2c74e"
      },
      "execution_count": 67,
      "outputs": [
        {
          "output_type": "stream",
          "name": "stdout",
          "text": [
            "Accuracy (Test Set): 0.65\n",
            "Precision (Test Set): 0.72\n",
            "Recall (Test Set): 0.66\n",
            "F1-Score (Test Set): 0.69\n",
            "AUC: 0.65\n"
          ]
        }
      ]
    },
    {
      "cell_type": "code",
      "source": [
        "print('Best max_depth:', model.best_estimator_.get_params()['max_depth'])\n",
        "print('Best min_samples_split:', model.best_estimator_.get_params()['min_samples_split'])\n",
        "print('Best min_samples_leaf:', model.best_estimator_.get_params()['min_samples_leaf'])\n",
        "print('Best max_features:', model.best_estimator_.get_params()['max_features'])\n",
        "print('Best criterion:', model.best_estimator_.get_params()['criterion'])\n",
        "print('Best splitter:', model.best_estimator_.get_params()['splitter'])"
      ],
      "metadata": {
        "colab": {
          "base_uri": "https://localhost:8080/"
        },
        "id": "UjNbg2oqvC9J",
        "outputId": "a24c482e-3e61-41f3-9000-76a457c9c31a"
      },
      "execution_count": 68,
      "outputs": [
        {
          "output_type": "stream",
          "name": "stdout",
          "text": [
            "Best max_depth: 110\n",
            "Best min_samples_split: 100\n",
            "Best min_samples_leaf: 4\n",
            "Best max_features: sqrt\n",
            "Best criterion: entropy\n",
            "Best splitter: best\n"
          ]
        }
      ]
    },
    {
      "cell_type": "code",
      "source": [
        "print('Train score: ' + str(model.score(X_train, y_train)))\n",
        "print('Test score:' + str(model.score(X_test, y_test)))"
      ],
      "metadata": {
        "colab": {
          "base_uri": "https://localhost:8080/"
        },
        "id": "fnGU2xKRvEvt",
        "outputId": "9cd87fa3-cf12-4874-f52d-dca6cf722352"
      },
      "execution_count": 69,
      "outputs": [
        {
          "output_type": "stream",
          "name": "stdout",
          "text": [
            "Train score: 0.8043837970282733\n",
            "Test score:0.7245119011423361\n"
          ]
        }
      ]
    },
    {
      "cell_type": "code",
      "source": [
        "from sklearn import tree\n",
        "import matplotlib.pyplot as plt\n",
        "fig, ax = plt.subplots(figsize=(10, 10))\n",
        "tree.plot_tree(model.best_estimator_,\n",
        "               feature_names = X.columns.tolist(), \n",
        "               class_names=['0','1'],\n",
        "               filled = True, max_depth=5, fontsize=10)\n",
        "plt.show()"
      ],
      "metadata": {
        "colab": {
          "base_uri": "https://localhost:8080/",
          "height": 575
        },
        "id": "NDu9tjnBvHms",
        "outputId": "2957c134-2ccc-456a-c511-37bd0ee3401a"
      },
      "execution_count": 70,
      "outputs": [
        {
          "output_type": "display_data",
          "data": {
            "text/plain": [
              "<Figure size 720x720 with 1 Axes>"
            ],
            "image/png": "[encoded data removed]"
          },
          "metadata": {
            "needs_background": "light"
          }
        }
      ]
    },
    {
      "cell_type": "code",
      "source": [
        "feat_importances = pd.Series(model.best_estimator_.feature_importances_, index=X.columns)\n",
        "ax = feat_importances.nlargest(25).plot(kind='barh', figsize=(10, 8))\n",
        "ax.invert_yaxis()\n",
        "\n",
        "plt.xlabel('score')\n",
        "plt.ylabel('feature')\n",
        "plt.title('feature importance score')"
      ],
      "metadata": {
        "colab": {
          "base_uri": "https://localhost:8080/",
          "height": 530
        },
        "id": "T5wrYM2SvLxi",
        "outputId": "ad052105-70ee-45da-8718-0c855d097b22"
      },
      "execution_count": 71,
      "outputs": [
        {
          "output_type": "execute_result",
          "data": {
            "text/plain": [
              "Text(0.5, 1.0, 'feature importance score')"
            ]
          },
          "metadata": {},
          "execution_count": 71
        },
        {
          "output_type": "display_data",
          "data": {
            "text/plain": [
              "<Figure size 720x576 with 1 Axes>"
            ],
            "image/png": "[encoded data removed]"
          },
          "metadata": {
            "needs_background": "light"
          }
        }
      ]
    },
    {
      "cell_type": "code",
      "source": [
        "df2.info()"
      ],
      "metadata": {
        "colab": {
          "base_uri": "https://localhost:8080/"
        },
        "id": "k_D1JPfLvNdv",
        "outputId": "d633e28f-1657-409d-9bb0-10345d61caf0"
      },
      "execution_count": 72,
      "outputs": [
        {
          "output_type": "stream",
          "name": "stdout",
          "text": [
            "<class 'pandas.core.frame.DataFrame'>\n",
            "Int64Index: 10642 entries, 0 to 10998\n",
            "Data columns (total 18 columns):\n",
            " #   Column                   Non-Null Count  Dtype  \n",
            "---  ------                   --------------  -----  \n",
            " 0   ID                       10642 non-null  int64  \n",
            " 1   Customer_care_calls      10642 non-null  float64\n",
            " 2   Customer_rating          10642 non-null  float64\n",
            " 3   Cost_of_the_Product      10642 non-null  float64\n",
            " 4   Prior_purchases          10642 non-null  float64\n",
            " 5   Product_importance       10642 non-null  int64  \n",
            " 6   Gender                   10642 non-null  int64  \n",
            " 7   Discount_offered         10642 non-null  float64\n",
            " 8   Weight_in_gms            10642 non-null  float64\n",
            " 9   Reached.on.Time_Y.N      10642 non-null  int64  \n",
            " 10  Mode_of_Shipment_Flight  10642 non-null  uint8  \n",
            " 11  Mode_of_Shipment_Road    10642 non-null  uint8  \n",
            " 12  Mode_of_Shipment_Ship    10642 non-null  uint8  \n",
            " 13  Warehouse_block_A        10642 non-null  uint8  \n",
            " 14  Warehouse_block_B        10642 non-null  uint8  \n",
            " 15  Warehouse_block_C        10642 non-null  uint8  \n",
            " 16  Warehouse_block_D        10642 non-null  uint8  \n",
            " 17  Warehouse_block_F        10642 non-null  uint8  \n",
            "dtypes: float64(6), int64(4), uint8(8)\n",
            "memory usage: 1.2 MB\n"
          ]
        }
      ]
    },
    {
      "cell_type": "markdown",
      "source": [
        "**with feature selection**"
      ],
      "metadata": {
        "id": "kaDmGRvZvPSU"
      }
    },
    {
      "cell_type": "code",
      "source": [
        "X = df2.drop(columns=['ID','Reached.on.Time_Y.N','Customer_care_calls','Customer_rating','Product_importance','Gender','Mode_of_Shipment_Flight','Mode_of_Shipment_Road','Mode_of_Shipment_Ship','Warehouse_block_A','Warehouse_block_B','Warehouse_block_C','Warehouse_block_D','Warehouse_block_F'])\n",
        "y = df2['Reached.on.Time_Y.N'] # target / label\n",
        "\n",
        "#Splitting the data into Train and Test\n",
        "from sklearn.model_selection import train_test_split \n",
        "X_train, X_test, y_train, y_test = train_test_split(X, y, test_size = 0.2, random_state = 42)"
      ],
      "metadata": {
        "id": "hm-0BGacvTHH"
      },
      "execution_count": 73,
      "outputs": []
    },
    {
      "cell_type": "code",
      "source": [
        "from sklearn.tree import DecisionTreeClassifier\n",
        "model = DecisionTreeClassifier(random_state=42)\n",
        "model.fit(X_train,y_train)\n",
        "\n",
        "y_pred = model.predict(X_test)\n",
        "eval_classification(model, y_pred, X_train, y_train, X_test, y_test)"
      ],
      "metadata": {
        "colab": {
          "base_uri": "https://localhost:8080/"
        },
        "id": "_10YdZP9vVMY",
        "outputId": "b1408de7-cfda-4206-efdc-35e35cb2545d"
      },
      "execution_count": 74,
      "outputs": [
        {
          "output_type": "stream",
          "name": "stdout",
          "text": [
            "Accuracy (Test Set): 0.63\n",
            "Precision (Test Set): 0.67\n",
            "Recall (Test Set): 0.70\n",
            "F1-Score (Test Set): 0.69\n",
            "AUC: 0.62\n"
          ]
        }
      ]
    },
    {
      "cell_type": "code",
      "source": [
        "print('Train score: ' + str(model.score(X_train, y_train))) #accuracy\n",
        "print('Test score:' + str(model.score(X_test, y_test))) #accuracy"
      ],
      "metadata": {
        "colab": {
          "base_uri": "https://localhost:8080/"
        },
        "id": "3hYIwC6NvXFC",
        "outputId": "6a3d846e-dcba-4a8d-8ee2-af9a9f5bc5fb"
      },
      "execution_count": 75,
      "outputs": [
        {
          "output_type": "stream",
          "name": "stdout",
          "text": [
            "Train score: 1.0\n",
            "Test score:0.6317519962423673\n"
          ]
        }
      ]
    },
    {
      "cell_type": "markdown",
      "source": [
        "Overfit again"
      ],
      "metadata": {
        "id": "JHHbk3-pvZbw"
      }
    },
    {
      "cell_type": "code",
      "source": [
        "from sklearn.model_selection import RandomizedSearchCV\n",
        "from scipy.stats import uniform\n",
        "\n",
        "# List of hyperparameter\n",
        "max_depth = [int(x) for x in np.linspace(1, 110, num = 30)] # Maximum number of levels in tree\n",
        "min_samples_split = [2, 5, 10, 100] # Minimum number of samples required to split a node\n",
        "min_samples_leaf = [1, 2, 4, 10, 20, 50] # Minimum number of samples required at each leaf node\n",
        "max_features = ['auto', 'sqrt'] # Number of features to consider at every split\n",
        "criterion = ['gini', 'entropy']\n",
        "splitter = ['best', 'random']\n",
        "\n",
        "hyperparameters = dict(max_depth=max_depth, \n",
        "                       min_samples_split=min_samples_split, \n",
        "                       min_samples_leaf=min_samples_leaf,\n",
        "                       max_features=max_features,\n",
        "                       criterion=criterion,\n",
        "                       splitter=splitter\n",
        "                      )\n",
        "\n",
        "# Inisialisasi Model\n",
        "dt = DecisionTreeClassifier(random_state=42)\n",
        "model = RandomizedSearchCV(dt, hyperparameters, cv=5, random_state=42, scoring='roc_auc')\n",
        "model.fit(X_train, y_train)\n",
        "\n",
        "# Predict & Evaluation\n",
        "y_pred = model.predict(X_test)#Check performa dari model\n",
        "eval_classification(model, y_pred, X_train, y_train, X_test, y_test)"
      ],
      "metadata": {
        "id": "yL1TGqbcvbVK",
        "outputId": "8b05bed1-d53b-43cc-bbd4-ef106568399d",
        "colab": {
          "base_uri": "https://localhost:8080/"
        }
      },
      "execution_count": 76,
      "outputs": [
        {
          "output_type": "stream",
          "name": "stdout",
          "text": [
            "Accuracy (Test Set): 0.65\n",
            "Precision (Test Set): 0.72\n",
            "Recall (Test Set): 0.66\n",
            "F1-Score (Test Set): 0.69\n",
            "AUC: 0.65\n"
          ]
        }
      ]
    },
    {
      "cell_type": "code",
      "source": [
        "print('Best max_depth:', model.best_estimator_.get_params()['max_depth'])\n",
        "print('Best min_samples_split:', model.best_estimator_.get_params()['min_samples_split'])\n",
        "print('Best min_samples_leaf:', model.best_estimator_.get_params()['min_samples_leaf'])\n",
        "print('Best max_features:', model.best_estimator_.get_params()['max_features'])\n",
        "print('Best criterion:', model.best_estimator_.get_params()['criterion'])\n",
        "print('Best splitter:', model.best_estimator_.get_params()['splitter'])"
      ],
      "metadata": {
        "id": "JsJ5gyRCvdEZ",
        "outputId": "b87e4bdf-e23b-4c0a-9554-3852a8d4fdfb",
        "colab": {
          "base_uri": "https://localhost:8080/"
        }
      },
      "execution_count": 77,
      "outputs": [
        {
          "output_type": "stream",
          "name": "stdout",
          "text": [
            "Best max_depth: 94\n",
            "Best min_samples_split: 100\n",
            "Best min_samples_leaf: 1\n",
            "Best max_features: sqrt\n",
            "Best criterion: entropy\n",
            "Best splitter: best\n"
          ]
        }
      ]
    },
    {
      "cell_type": "code",
      "source": [
        "print('Train score: ' + str(model.score(X_train, y_train)))\n",
        "print('Test score:' + str(model.score(X_test, y_test)))"
      ],
      "metadata": {
        "id": "waZUBOmXve-D",
        "outputId": "af327932-0a67-4f66-fbbb-f4fb1d193191",
        "colab": {
          "base_uri": "https://localhost:8080/"
        }
      },
      "execution_count": 78,
      "outputs": [
        {
          "output_type": "stream",
          "name": "stdout",
          "text": [
            "Train score: 0.8224513456254665\n",
            "Test score:0.7291105633496937\n"
          ]
        }
      ]
    }
  ]
}